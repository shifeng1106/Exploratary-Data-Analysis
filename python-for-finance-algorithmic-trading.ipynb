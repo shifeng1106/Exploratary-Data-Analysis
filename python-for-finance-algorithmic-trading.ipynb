{
 "cells": [
  {
   "cell_type": "markdown",
   "id": "3c05988d",
   "metadata": {
    "papermill": {
     "duration": 0.017894,
     "end_time": "2022-06-03T08:01:26.987142",
     "exception": false,
     "start_time": "2022-06-03T08:01:26.969248",
     "status": "completed"
    },
    "tags": []
   },
   "source": [
    "# Python For Finance: Algorithmic Trading\n",
    "**This Python for Finance tutorial introduces you to algorithmic trading, and much more.**"
   ]
  },
  {
   "cell_type": "markdown",
   "id": "59187590",
   "metadata": {
    "papermill": {
     "duration": 0.016461,
     "end_time": "2022-06-03T08:01:27.020397",
     "exception": false,
     "start_time": "2022-06-03T08:01:27.003936",
     "status": "completed"
    },
    "tags": []
   },
   "source": [
    "Technology has become an asset in finance: financial institutions are\n",
    "now evolving to technology companies rather than only staying occupied\n",
    "with just the financial aspect: besides the fact that technology brings\n",
    "about innovation the speeds and can help to gain a competitive\n",
    "advantage, the rate and frequency of financial transactions, together\n",
    "with the large data volumes, makes that financial institutions’\n",
    "attention for technology has increased over the years and that\n",
    "technology has indeed become the main enabler in finance.\n",
    "\n",
    "Among the hottest programming languages for finance, you’ll find R and\n",
    "Python, alongside languages such as C++, C\\#, and Java. In this\n",
    "tutorial, you’ll learn how to get started with Python for finance. The\n",
    "tutorial will cover the following:\n",
    "\n",
    "-   The [basics](#basics) that you need to get started: for those who\n",
    "    are new to finance, you’ll first learn more about the stocks and\n",
    "    trading strategies, what time series data is and what you need to\n",
    "    set up your workspace.\n",
    "-   An introduction to time series data and some of the most [common\n",
    "    financial analyses](#financialanalyses), such as moving windows,\n",
    "    volatility calculation, … with the Python package Pandas.\n",
    "-   The development of a [simple momentum strategy](#tradingstrategy):\n",
    "    you’ll first go through the development process step-by-step and\n",
    "    start by formulating and coding up a simple algorithmic trading\n",
    "    strategy.\n",
    "-   Next, you’ll [backtest](#backtesting) the formulated trading\n",
    "    strategy with Pandas, zipline and Quantopian.\n",
    "-   Afterward, you’ll see how you can do [optimizations](#improving) to\n",
    "    your strategy to make it perform better, and you’ll eventually\n",
    "    [evaluate](#evaluating) your strategy’s performance and robustness.\n",
    "\n",
    "\n",
    "Download the Jupyter notebook of this tutorial\n",
    "[here](https://github.com/datacamp/datacamp-community-tutorials).\n",
    "\n",
    "![Python for Finance Tutorial](graphics/figure1.jpeg)"
   ]
  },
  {
   "cell_type": "markdown",
   "id": "2b4a0b89",
   "metadata": {
    "papermill": {
     "duration": 0.01605,
     "end_time": "2022-06-03T08:01:27.052252",
     "exception": false,
     "start_time": "2022-06-03T08:01:27.036202",
     "status": "completed"
    },
    "tags": []
   },
   "source": [
    "## Getting Started With Python for Finance\n",
    "---------------------------------------\n",
    "\n",
    "Before you go into trading strategies, it’s a good idea to get the hang\n",
    "of the basics first. This first part of the tutorial will focus on\n",
    "explaining the Python basics that you need to get started. This does not\n",
    "mean, however, that you’ll start entirely from zero: you should have at\n",
    "least done DataCamp’s free [Intro to Python for Data\n",
    "Science](https://www.datacamp.com/courses/intro-to-python-for-data-science)\n",
    "course, in which you learned how to work with Python lists, packages,\n",
    "and NumPy. Additionally, it is desired to already know the basics of\n",
    "Pandas, the popular Python data manipulation package, but this is no\n",
    "requirement.\n",
    "\n",
    "Then I would suggest you take DataCamp’s [Intro to Python for\n",
    "Finance](https://www.datacamp.com/courses/intro-to-python-for-finance)\n",
    "course to learn the basics of finance in Python. If you then want to\n",
    "apply your new 'Python for Data Science' skills to real-world financial\n",
    "data, consider taking the [Importing and Managing Financial Data in\n",
    "Python](https://www.datacamp.com/courses/importing-managing-financial-data-in-python)\n",
    "course."
   ]
  },
  {
   "cell_type": "markdown",
   "id": "d344cdd9",
   "metadata": {
    "papermill": {
     "duration": 0.017239,
     "end_time": "2022-06-03T08:01:27.084564",
     "exception": false,
     "start_time": "2022-06-03T08:01:27.067325",
     "status": "completed"
    },
    "tags": []
   },
   "source": [
    "### Stocks & Trading\n",
    "\n",
    "When a company wants to grow and undertake new projects or expand, it\n",
    "can issue stocks to raise capital. A stock represents a share in the\n",
    "ownership of a company and is issued in return for money. Stocks are\n",
    "bought and sold: buyers and sellers trade existing, previously issued\n",
    "shares. The price at which stocks are sold can move independent of the\n",
    "company’s success: the prices instead reflect supply and demand. This\n",
    "means that whenever a stock is considered as ‘desirable’, due to\n",
    "success, popularity, … the stock price will go up.\n",
    "\n",
    "**Note** that stocks are not the same as bonds, which is when companies\n",
    "raise money through borrowing, either as a loan from a bank or by\n",
    "issuing debt.\n",
    "\n",
    "As you just read, buying and selling or trading is essential when you’re\n",
    "talking about stocks, but certainly not limited to it: trading is the\n",
    "act of buying or selling *an asset*, which could be financial security,\n",
    "like stock, a bond or a tangible product, such as gold or oil.\n",
    "\n",
    "Stock trading is then the process of the cash that is paid for the\n",
    "stocks is converted into a share in the ownership of a company, which\n",
    "can be converted back to cash by selling, and this all hopefully with a\n",
    "profit. Now, to achieve a profitable return, you either go long or short\n",
    "in markets: you either by shares thinking that the stock price will go\n",
    "up to sell at a higher price in the future, or you sell your stock,\n",
    "expecting that you can buy it back at a lower price and realize a\n",
    "profit. When you follow a fixed plan to go long or short in markets, you\n",
    "have a trading strategy.\n",
    "\n",
    "Developing a trading strategy is something that goes through a couple of\n",
    "phases, just like when you, for example, build machine learning models:\n",
    "you formulate a strategy and specify it in a form that you can test on\n",
    "your computer, you do some preliminary testing or backtesting, you\n",
    "optimize your strategy and lastly, you evaluate the performance and\n",
    "robustness of your strategy.\n",
    "\n",
    "Trading strategies are usually verified by backtesting: you reconstruct,\n",
    "with historical data, trades that would have occurred in the past using\n",
    "the rules that are defined with the strategy that you have developed.\n",
    "This way, you can get an idea of the effectiveness of your strategy, and\n",
    "you can use it as a starting point to optimize and improve your strategy\n",
    "before applying it to real markets. Of course, this all relies heavily\n",
    "on the underlying theory or belief that any strategy that has worked out\n",
    "well in the past will likely also work out well in the future, and, that\n",
    "any strategy that has performed poorly in the past will probably also do\n",
    "badly in the future.\n",
    "\n",
    "### Time Series Data\n",
    "\n",
    "A time series is a sequence of numerical data points taken at successive\n",
    "equally spaced points in time. In investing, a time series tracks the\n",
    "movement of the chosen data points, such as the stock price, over a\n",
    "specified period of time with data points recorded at regular intervals.\n",
    "If you’re still in doubt about what this would exactly look like, take a\n",
    "look at the following example:\n",
    "\n",
    "![](graphics/figure2.png)\n",
    "\n",
    "You see that the dates are placed on the x-axis, while the price is\n",
    "featured on the y-axis. The “successive equally spaced points in time”\n",
    "in this case means that the days that are featured on the x-axis are 14\n",
    "days apart: note the difference between 3/7/2005 and the next point,\n",
    "3/31/2005, and 4/5/2005 and 4/19/2005.\n",
    "\n",
    "However, what you’ll often see when you’re working with stock data is\n",
    "not just two columns, that contain period and price observations, but\n",
    "most of the times, you’ll have five columns that contain observations of\n",
    "the period and the opening, high, low and closing prices of that period.\n",
    "This means that, if your period is set at a daily level, the\n",
    "observations for that day will give you an idea of the opening and\n",
    "closing price for that day and the extreme high and low price movement\n",
    "for a particular stock during that day.\n",
    "\n",
    "For now, you have a basic idea of the basic concepts that you need to\n",
    "know to go through this tutorial. These concepts will come back soon\n",
    "enough, and you’ll learn more about them later on in this tutorial.\n",
    "\n",
    "### Setting Up The Workspace\n",
    "\n",
    "Getting your workspace ready to go is an easy job: just make sure you\n",
    "have Python and an Integrated Development Environment (IDE) running on\n",
    "your system. However, there are some ways in which you can get started\n",
    "that are maybe a little easier when you’re just starting out.\n",
    "\n",
    "Take for instance [Anaconda](https://anaconda.org/), a high-performance\n",
    "distribution of Python and R and includes over 100 of the most popular\n",
    "Python, R and Scala packages for data science. Additionally, installing\n",
    "Anaconda will give you access to over 720 packages that can easily be\n",
    "installed with conda, our renowned package, dependency and environment\n",
    "manager, that is included in Anaconda. And, besides all that, you’ll get\n",
    "the Jupyter Notebook and Spyder IDE with it.\n",
    "\n",
    "That sounds like a good deal, right?\n",
    "\n",
    "You can install Anaconda from [here](https://www.continuum.io/downloads)\n",
    "and don’t forget to check out how to set up your Jupyter Notebook in\n",
    "DataCamp’s [Jupyter Notebook Tutorial: The Definitive\n",
    "Guide](https://www.datacamp.com/community/tutorials/tutorial-jupyter-notebook).\n",
    "\n",
    "Of course, Anaconda is not your only option: you can also check out the\n",
    "[Canopy Python distribution](https://www.enthought.com/products/canopy/)\n",
    "(which doesn’t come free), or try out the [Quant\n",
    "Platform](http://quant-platform.com/).\n",
    "\n",
    "The latter offers you a couple of additional advantages over using, for\n",
    "example, Jupyter or the Spyder IDE, since it provides you everything you\n",
    "need specifically to do financial analytics in your browser! With the\n",
    "Quant Platform, you’ll gain access to GUI-based Financial Engineering,\n",
    "interactive and Python-based financial analytics and your own\n",
    "Python-based analytics library. What’s more, you’ll also have access to\n",
    "a forum where you can discuss solutions or questions with peers!\n"
   ]
  },
  {
   "cell_type": "markdown",
   "id": "4b059195",
   "metadata": {
    "papermill": {
     "duration": 0.014217,
     "end_time": "2022-06-03T08:01:27.115684",
     "exception": false,
     "start_time": "2022-06-03T08:01:27.101467",
     "status": "completed"
    },
    "tags": []
   },
   "source": [
    "### Python Basics For Finance: Pandas\n",
    "\n",
    "When you’re using Python for finance, you’ll often find yourself using\n",
    "the data manipulation package, Pandas. But also other packages such as\n",
    "NumPy, SciPy, Matplotlib,… will pass by once you start digging deeper.\n",
    "\n",
    "For now, let’s focus on Pandas and using it to analyze time series data.\n",
    "This section will explain how you can import data, explore and\n",
    "manipulate it with Pandas. On top of all of that, you’ll learn how you\n",
    "can perform common financial analyses on the data that you imported.\n",
    "\n"
   ]
  },
  {
   "cell_type": "code",
   "execution_count": 1,
   "id": "f9eb9e3d",
   "metadata": {
    "execution": {
     "iopub.execute_input": "2022-06-03T08:01:27.147791Z",
     "iopub.status.busy": "2022-06-03T08:01:27.147010Z",
     "iopub.status.idle": "2022-06-03T08:01:43.096431Z",
     "shell.execute_reply": "2022-06-03T08:01:43.095227Z"
    },
    "papermill": {
     "duration": 15.96864,
     "end_time": "2022-06-03T08:01:43.098961",
     "exception": false,
     "start_time": "2022-06-03T08:01:27.130321",
     "status": "completed"
    },
    "tags": []
   },
   "outputs": [],
   "source": [
    "%%capture\n",
    "!pip install -r requirements.txt\n",
    "!pip install yfinance\n",
    "import yfinance as yf"
   ]
  },
  {
   "cell_type": "code",
   "execution_count": 2,
   "id": "5f9ee379",
   "metadata": {
    "execution": {
     "iopub.execute_input": "2022-06-03T08:01:43.129928Z",
     "iopub.status.busy": "2022-06-03T08:01:43.129512Z",
     "iopub.status.idle": "2022-06-03T08:01:43.133787Z",
     "shell.execute_reply": "2022-06-03T08:01:43.133042Z"
    },
    "papermill": {
     "duration": 0.021952,
     "end_time": "2022-06-03T08:01:43.135600",
     "exception": false,
     "start_time": "2022-06-03T08:01:43.113648",
     "status": "completed"
    },
    "tags": []
   },
   "outputs": [],
   "source": [
    "import pandas as pd\n",
    "import numpy as np\n",
    "import datetime\n",
    "import matplotlib.pyplot as plt"
   ]
  },
  {
   "cell_type": "code",
   "execution_count": 3,
   "id": "e4ee2430",
   "metadata": {
    "execution": {
     "iopub.execute_input": "2022-06-03T08:01:43.169464Z",
     "iopub.status.busy": "2022-06-03T08:01:43.168926Z",
     "iopub.status.idle": "2022-06-03T08:01:44.315024Z",
     "shell.execute_reply": "2022-06-03T08:01:44.313792Z"
    },
    "papermill": {
     "duration": 1.16588,
     "end_time": "2022-06-03T08:01:44.317464",
     "exception": false,
     "start_time": "2022-06-03T08:01:43.151584",
     "status": "completed"
    },
    "tags": []
   },
   "outputs": [
    {
     "name": "stdout",
     "output_type": "stream",
     "text": [
      "[*********************100%***********************]  1 of 1 completed\n"
     ]
    }
   ],
   "source": [
    "\n",
    "import datetime \n",
    "aapl = yf.download('AAPL', \n",
    "                          start=datetime.datetime(2018, 1, 1), \n",
    "                          end=datetime.datetime(2022, 6, 1))"
   ]
  },
  {
   "cell_type": "markdown",
   "id": "d897c76d",
   "metadata": {
    "papermill": {
     "duration": 0.014884,
     "end_time": "2022-06-03T08:01:44.347669",
     "exception": false,
     "start_time": "2022-06-03T08:01:44.332785",
     "status": "completed"
    },
    "tags": []
   },
   "source": [
    "At this moment, there is a lot going on in the open-source community because of the changes to the Yahoo! Finance API. That's why you don't only use the `pandas_datareader` package, but also a custom fix `fix_yahoo_finance` to get your data:"
   ]
  },
  {
   "cell_type": "code",
   "execution_count": 4,
   "id": "bfa326de",
   "metadata": {
    "execution": {
     "iopub.execute_input": "2022-06-03T08:01:44.382025Z",
     "iopub.status.busy": "2022-06-03T08:01:44.381278Z",
     "iopub.status.idle": "2022-06-03T08:01:45.487836Z",
     "shell.execute_reply": "2022-06-03T08:01:45.486751Z"
    },
    "papermill": {
     "duration": 1.12838,
     "end_time": "2022-06-03T08:01:45.490652",
     "exception": false,
     "start_time": "2022-06-03T08:01:44.362272",
     "status": "completed"
    },
    "tags": []
   },
   "outputs": [
    {
     "name": "stdout",
     "output_type": "stream",
     "text": [
      "[*********************100%***********************]  1 of 1 completed\n"
     ]
    },
    {
     "data": {
      "text/html": [
       "<div>\n",
       "<style scoped>\n",
       "    .dataframe tbody tr th:only-of-type {\n",
       "        vertical-align: middle;\n",
       "    }\n",
       "\n",
       "    .dataframe tbody tr th {\n",
       "        vertical-align: top;\n",
       "    }\n",
       "\n",
       "    .dataframe thead th {\n",
       "        text-align: right;\n",
       "    }\n",
       "</style>\n",
       "<table border=\"1\" class=\"dataframe\">\n",
       "  <thead>\n",
       "    <tr style=\"text-align: right;\">\n",
       "      <th></th>\n",
       "      <th>Open</th>\n",
       "      <th>High</th>\n",
       "      <th>Low</th>\n",
       "      <th>Close</th>\n",
       "      <th>Adj Close</th>\n",
       "      <th>Volume</th>\n",
       "    </tr>\n",
       "    <tr>\n",
       "      <th>Date</th>\n",
       "      <th></th>\n",
       "      <th></th>\n",
       "      <th></th>\n",
       "      <th></th>\n",
       "      <th></th>\n",
       "      <th></th>\n",
       "    </tr>\n",
       "  </thead>\n",
       "  <tbody>\n",
       "    <tr>\n",
       "      <th>2018-01-02</th>\n",
       "      <td>42.540001</td>\n",
       "      <td>43.075001</td>\n",
       "      <td>42.314999</td>\n",
       "      <td>43.064999</td>\n",
       "      <td>41.075401</td>\n",
       "      <td>102223600</td>\n",
       "    </tr>\n",
       "    <tr>\n",
       "      <th>2018-01-03</th>\n",
       "      <td>43.132500</td>\n",
       "      <td>43.637501</td>\n",
       "      <td>42.990002</td>\n",
       "      <td>43.057499</td>\n",
       "      <td>41.068249</td>\n",
       "      <td>118071600</td>\n",
       "    </tr>\n",
       "    <tr>\n",
       "      <th>2018-01-04</th>\n",
       "      <td>43.134998</td>\n",
       "      <td>43.367500</td>\n",
       "      <td>43.020000</td>\n",
       "      <td>43.257500</td>\n",
       "      <td>41.259007</td>\n",
       "      <td>89738400</td>\n",
       "    </tr>\n",
       "    <tr>\n",
       "      <th>2018-01-05</th>\n",
       "      <td>43.360001</td>\n",
       "      <td>43.842499</td>\n",
       "      <td>43.262501</td>\n",
       "      <td>43.750000</td>\n",
       "      <td>41.728760</td>\n",
       "      <td>94640000</td>\n",
       "    </tr>\n",
       "    <tr>\n",
       "      <th>2018-01-08</th>\n",
       "      <td>43.587502</td>\n",
       "      <td>43.902500</td>\n",
       "      <td>43.482498</td>\n",
       "      <td>43.587502</td>\n",
       "      <td>41.573761</td>\n",
       "      <td>82271200</td>\n",
       "    </tr>\n",
       "  </tbody>\n",
       "</table>\n",
       "</div>"
      ],
      "text/plain": [
       "                 Open       High        Low      Close  Adj Close     Volume\n",
       "Date                                                                        \n",
       "2018-01-02  42.540001  43.075001  42.314999  43.064999  41.075401  102223600\n",
       "2018-01-03  43.132500  43.637501  42.990002  43.057499  41.068249  118071600\n",
       "2018-01-04  43.134998  43.367500  43.020000  43.257500  41.259007   89738400\n",
       "2018-01-05  43.360001  43.842499  43.262501  43.750000  41.728760   94640000\n",
       "2018-01-08  43.587502  43.902500  43.482498  43.587502  41.573761   82271200"
      ]
     },
     "execution_count": 4,
     "metadata": {},
     "output_type": "execute_result"
    }
   ],
   "source": [
    "\n",
    "\n",
    "aapl = yf.download('AAPL', \n",
    "                          start=datetime.datetime(2018, 1, 1), \n",
    "                          end=datetime.datetime(2022, 6, 1))\n",
    "aapl.head()"
   ]
  },
  {
   "cell_type": "markdown",
   "id": "1559245c",
   "metadata": {
    "papermill": {
     "duration": 0.015516,
     "end_time": "2022-06-03T08:01:45.522474",
     "exception": false,
     "start_time": "2022-06-03T08:01:45.506958",
     "status": "completed"
    },
    "tags": []
   },
   "source": [
    "**Note** that the Yahoo API endpoint has recently changed and that, if\n",
    "you want to already start working with the library on your own, you’ll\n",
    "need to install a temporary fix until the patch has been merged into the\n",
    "master branch to start pulling in data from Yahoo! Finance with\n",
    "`pandas-datareader`. Make sure to read up on the issue\n",
    "[here](https://github.com/pydata/pandas-datareader/issues/315) before\n",
    "you start on your own!\n",
    "\n",
    "No worries, though, for this tutorial, the data has been loaded in for\n",
    "you so that you don’t face any issues while learning about finance in\n",
    "Python with Pandas.\n",
    "\n",
    "It’s wise to consider though that, even though `pandas-datareader` offers a lot of options to pull in\n",
    "data into Python, it isn’t the only package that you can use to pull in\n",
    "financial data: you can also make use of libraries such as Quandl, for\n",
    "example, to get data from Google Finance:"
   ]
  },
  {
   "cell_type": "markdown",
   "id": "693535af",
   "metadata": {
    "papermill": {
     "duration": 0.015177,
     "end_time": "2022-06-03T08:01:45.553328",
     "exception": false,
     "start_time": "2022-06-03T08:01:45.538151",
     "status": "completed"
    },
    "tags": []
   },
   "source": [
    "The pandas_datareader offers a lot of possibilities to get financial data. If you don't want to make use of this package, however, you can also use Quandl to retrieve data:"
   ]
  },
  {
   "cell_type": "code",
   "execution_count": 5,
   "id": "d936bb1e",
   "metadata": {
    "execution": {
     "iopub.execute_input": "2022-06-03T08:01:45.586568Z",
     "iopub.status.busy": "2022-06-03T08:01:45.585948Z",
     "iopub.status.idle": "2022-06-03T08:01:45.589426Z",
     "shell.execute_reply": "2022-06-03T08:01:45.588790Z"
    },
    "papermill": {
     "duration": 0.021666,
     "end_time": "2022-06-03T08:01:45.591180",
     "exception": false,
     "start_time": "2022-06-03T08:01:45.569514",
     "status": "completed"
    },
    "tags": []
   },
   "outputs": [],
   "source": [
    "# import quandl \n",
    "# aapl = quandl.get(\"WIKI/AAPL\", start_date=\"2006-10-01\", end_date=\"2012-01-01\")\n",
    "# aapl.head()"
   ]
  },
  {
   "cell_type": "markdown",
   "id": "702313b5",
   "metadata": {
    "papermill": {
     "duration": 0.015021,
     "end_time": "2022-06-03T08:01:45.621553",
     "exception": false,
     "start_time": "2022-06-03T08:01:45.606532",
     "status": "completed"
    },
    "tags": []
   },
   "source": [
    "For more information on how you can use Quandl to get financial data\n",
    "directly into Python, go to [this\n",
    "page](https://www.quandl.com/tools/python).\n",
    "\n",
    "Lastly, if you’ve already been working in finance for a while, you’ll\n",
    "probably know that you most often use Excel also to manipulate your\n",
    "data. In such cases, you should know that you can integrate Python with\n",
    "Excel.\n",
    "\n",
    "Check out DataCamp’s [Python Excel Tutorial: The Definitive\n",
    "Guide](https://www.datacamp.com/community/tutorials/python-excel-tutorial)\n",
    "for more information."
   ]
  },
  {
   "cell_type": "markdown",
   "id": "3624ba90",
   "metadata": {
    "papermill": {
     "duration": 0.01536,
     "end_time": "2022-06-03T08:01:45.652364",
     "exception": false,
     "start_time": "2022-06-03T08:01:45.637004",
     "status": "completed"
    },
    "tags": []
   },
   "source": [
    "\n",
    "\n",
    "#### Working With Time Series Data\n",
    "\n",
    "The first thing that you want to do when you finally have the data in\n",
    "your workspace is getting your hands dirty. However, now that you’re\n",
    "working with time series data, this might not seem as straightforward,\n",
    "since your index now contains DateTime values.\n",
    "\n",
    "No worries, though! Let’s start step-by-step and explore the data first\n",
    "with some functions that you might already know if you have some prior\n",
    "programming experience with R or if you’ve previously worked with\n",
    "Pandas.\n",
    "\n",
    "Either way, you’ll see it’s pretty straightforward!\n",
    "\n",
    "As you saw in the code chunk above, you have used\n",
    "`pandas_datareader`  to import data into your workspace.\n",
    "The resulting object `aapl`  is a DataFrame, which is a\n",
    "2-dimensional labeled data structure with columns of potentially\n",
    "different types. Now, one of the first things that you probably do when\n",
    "you have a regular DataFrame on your hands, is running the\n",
    "`head()`  and `tail()`  functions to take a\n",
    "peek at the first and the last rows of your DataFrame. Luckily, this\n",
    "doesn’t change when you’re working with time series data!\n",
    "\n",
    "**Tip**: also make sure to use the `describe()` function\n",
    "to get some useful summary statistics about your data.\n",
    "\n",
    "Fill in the gaps in the DataCamp Light chunks below and run both\n",
    "functions on the data that you have just imported!"
   ]
  },
  {
   "cell_type": "code",
   "execution_count": 6,
   "id": "6a9b1297",
   "metadata": {
    "execution": {
     "iopub.execute_input": "2022-06-03T08:01:45.686496Z",
     "iopub.status.busy": "2022-06-03T08:01:45.685836Z",
     "iopub.status.idle": "2022-06-03T08:01:45.697219Z",
     "shell.execute_reply": "2022-06-03T08:01:45.696588Z"
    },
    "papermill": {
     "duration": 0.030042,
     "end_time": "2022-06-03T08:01:45.699069",
     "exception": false,
     "start_time": "2022-06-03T08:01:45.669027",
     "status": "completed"
    },
    "tags": []
   },
   "outputs": [
    {
     "data": {
      "text/html": [
       "<div>\n",
       "<style scoped>\n",
       "    .dataframe tbody tr th:only-of-type {\n",
       "        vertical-align: middle;\n",
       "    }\n",
       "\n",
       "    .dataframe tbody tr th {\n",
       "        vertical-align: top;\n",
       "    }\n",
       "\n",
       "    .dataframe thead th {\n",
       "        text-align: right;\n",
       "    }\n",
       "</style>\n",
       "<table border=\"1\" class=\"dataframe\">\n",
       "  <thead>\n",
       "    <tr style=\"text-align: right;\">\n",
       "      <th></th>\n",
       "      <th>Open</th>\n",
       "      <th>High</th>\n",
       "      <th>Low</th>\n",
       "      <th>Close</th>\n",
       "      <th>Adj Close</th>\n",
       "      <th>Volume</th>\n",
       "    </tr>\n",
       "    <tr>\n",
       "      <th>Date</th>\n",
       "      <th></th>\n",
       "      <th></th>\n",
       "      <th></th>\n",
       "      <th></th>\n",
       "      <th></th>\n",
       "      <th></th>\n",
       "    </tr>\n",
       "  </thead>\n",
       "  <tbody>\n",
       "    <tr>\n",
       "      <th>2018-01-02</th>\n",
       "      <td>42.540001</td>\n",
       "      <td>43.075001</td>\n",
       "      <td>42.314999</td>\n",
       "      <td>43.064999</td>\n",
       "      <td>41.075401</td>\n",
       "      <td>102223600</td>\n",
       "    </tr>\n",
       "    <tr>\n",
       "      <th>2018-01-03</th>\n",
       "      <td>43.132500</td>\n",
       "      <td>43.637501</td>\n",
       "      <td>42.990002</td>\n",
       "      <td>43.057499</td>\n",
       "      <td>41.068249</td>\n",
       "      <td>118071600</td>\n",
       "    </tr>\n",
       "    <tr>\n",
       "      <th>2018-01-04</th>\n",
       "      <td>43.134998</td>\n",
       "      <td>43.367500</td>\n",
       "      <td>43.020000</td>\n",
       "      <td>43.257500</td>\n",
       "      <td>41.259007</td>\n",
       "      <td>89738400</td>\n",
       "    </tr>\n",
       "    <tr>\n",
       "      <th>2018-01-05</th>\n",
       "      <td>43.360001</td>\n",
       "      <td>43.842499</td>\n",
       "      <td>43.262501</td>\n",
       "      <td>43.750000</td>\n",
       "      <td>41.728760</td>\n",
       "      <td>94640000</td>\n",
       "    </tr>\n",
       "    <tr>\n",
       "      <th>2018-01-08</th>\n",
       "      <td>43.587502</td>\n",
       "      <td>43.902500</td>\n",
       "      <td>43.482498</td>\n",
       "      <td>43.587502</td>\n",
       "      <td>41.573761</td>\n",
       "      <td>82271200</td>\n",
       "    </tr>\n",
       "  </tbody>\n",
       "</table>\n",
       "</div>"
      ],
      "text/plain": [
       "                 Open       High        Low      Close  Adj Close     Volume\n",
       "Date                                                                        \n",
       "2018-01-02  42.540001  43.075001  42.314999  43.064999  41.075401  102223600\n",
       "2018-01-03  43.132500  43.637501  42.990002  43.057499  41.068249  118071600\n",
       "2018-01-04  43.134998  43.367500  43.020000  43.257500  41.259007   89738400\n",
       "2018-01-05  43.360001  43.842499  43.262501  43.750000  41.728760   94640000\n",
       "2018-01-08  43.587502  43.902500  43.482498  43.587502  41.573761   82271200"
      ]
     },
     "execution_count": 6,
     "metadata": {},
     "output_type": "execute_result"
    }
   ],
   "source": [
    "# Return first rows of `aapl`\n",
    "aapl.head()"
   ]
  },
  {
   "cell_type": "code",
   "execution_count": 7,
   "id": "3675aa51",
   "metadata": {
    "execution": {
     "iopub.execute_input": "2022-06-03T08:01:45.732573Z",
     "iopub.status.busy": "2022-06-03T08:01:45.731936Z",
     "iopub.status.idle": "2022-06-03T08:01:45.743956Z",
     "shell.execute_reply": "2022-06-03T08:01:45.742756Z"
    },
    "papermill": {
     "duration": 0.031589,
     "end_time": "2022-06-03T08:01:45.745987",
     "exception": false,
     "start_time": "2022-06-03T08:01:45.714398",
     "status": "completed"
    },
    "tags": []
   },
   "outputs": [
    {
     "data": {
      "text/html": [
       "<div>\n",
       "<style scoped>\n",
       "    .dataframe tbody tr th:only-of-type {\n",
       "        vertical-align: middle;\n",
       "    }\n",
       "\n",
       "    .dataframe tbody tr th {\n",
       "        vertical-align: top;\n",
       "    }\n",
       "\n",
       "    .dataframe thead th {\n",
       "        text-align: right;\n",
       "    }\n",
       "</style>\n",
       "<table border=\"1\" class=\"dataframe\">\n",
       "  <thead>\n",
       "    <tr style=\"text-align: right;\">\n",
       "      <th></th>\n",
       "      <th>Open</th>\n",
       "      <th>High</th>\n",
       "      <th>Low</th>\n",
       "      <th>Close</th>\n",
       "      <th>Adj Close</th>\n",
       "      <th>Volume</th>\n",
       "    </tr>\n",
       "    <tr>\n",
       "      <th>Date</th>\n",
       "      <th></th>\n",
       "      <th></th>\n",
       "      <th></th>\n",
       "      <th></th>\n",
       "      <th></th>\n",
       "      <th></th>\n",
       "    </tr>\n",
       "  </thead>\n",
       "  <tbody>\n",
       "    <tr>\n",
       "      <th>2022-05-24</th>\n",
       "      <td>140.809998</td>\n",
       "      <td>141.970001</td>\n",
       "      <td>137.330002</td>\n",
       "      <td>140.360001</td>\n",
       "      <td>140.360001</td>\n",
       "      <td>104132700</td>\n",
       "    </tr>\n",
       "    <tr>\n",
       "      <th>2022-05-25</th>\n",
       "      <td>138.429993</td>\n",
       "      <td>141.789993</td>\n",
       "      <td>138.339996</td>\n",
       "      <td>140.520004</td>\n",
       "      <td>140.520004</td>\n",
       "      <td>92482700</td>\n",
       "    </tr>\n",
       "    <tr>\n",
       "      <th>2022-05-26</th>\n",
       "      <td>137.389999</td>\n",
       "      <td>144.339996</td>\n",
       "      <td>137.139999</td>\n",
       "      <td>143.779999</td>\n",
       "      <td>143.779999</td>\n",
       "      <td>90601500</td>\n",
       "    </tr>\n",
       "    <tr>\n",
       "      <th>2022-05-27</th>\n",
       "      <td>145.389999</td>\n",
       "      <td>149.679993</td>\n",
       "      <td>145.259995</td>\n",
       "      <td>149.639999</td>\n",
       "      <td>149.639999</td>\n",
       "      <td>90978500</td>\n",
       "    </tr>\n",
       "    <tr>\n",
       "      <th>2022-05-31</th>\n",
       "      <td>149.070007</td>\n",
       "      <td>150.660004</td>\n",
       "      <td>146.839996</td>\n",
       "      <td>148.839996</td>\n",
       "      <td>148.839996</td>\n",
       "      <td>103718400</td>\n",
       "    </tr>\n",
       "  </tbody>\n",
       "</table>\n",
       "</div>"
      ],
      "text/plain": [
       "                  Open        High         Low       Close   Adj Close  \\\n",
       "Date                                                                     \n",
       "2022-05-24  140.809998  141.970001  137.330002  140.360001  140.360001   \n",
       "2022-05-25  138.429993  141.789993  138.339996  140.520004  140.520004   \n",
       "2022-05-26  137.389999  144.339996  137.139999  143.779999  143.779999   \n",
       "2022-05-27  145.389999  149.679993  145.259995  149.639999  149.639999   \n",
       "2022-05-31  149.070007  150.660004  146.839996  148.839996  148.839996   \n",
       "\n",
       "               Volume  \n",
       "Date                   \n",
       "2022-05-24  104132700  \n",
       "2022-05-25   92482700  \n",
       "2022-05-26   90601500  \n",
       "2022-05-27   90978500  \n",
       "2022-05-31  103718400  "
      ]
     },
     "execution_count": 7,
     "metadata": {},
     "output_type": "execute_result"
    }
   ],
   "source": [
    "# Return last rows of `aapl`\n",
    "aapl.tail()"
   ]
  },
  {
   "cell_type": "code",
   "execution_count": 8,
   "id": "659638bf",
   "metadata": {
    "execution": {
     "iopub.execute_input": "2022-06-03T08:01:45.778879Z",
     "iopub.status.busy": "2022-06-03T08:01:45.778481Z",
     "iopub.status.idle": "2022-06-03T08:01:45.807510Z",
     "shell.execute_reply": "2022-06-03T08:01:45.806553Z"
    },
    "papermill": {
     "duration": 0.048271,
     "end_time": "2022-06-03T08:01:45.809657",
     "exception": false,
     "start_time": "2022-06-03T08:01:45.761386",
     "status": "completed"
    },
    "tags": []
   },
   "outputs": [
    {
     "data": {
      "text/html": [
       "<div>\n",
       "<style scoped>\n",
       "    .dataframe tbody tr th:only-of-type {\n",
       "        vertical-align: middle;\n",
       "    }\n",
       "\n",
       "    .dataframe tbody tr th {\n",
       "        vertical-align: top;\n",
       "    }\n",
       "\n",
       "    .dataframe thead th {\n",
       "        text-align: right;\n",
       "    }\n",
       "</style>\n",
       "<table border=\"1\" class=\"dataframe\">\n",
       "  <thead>\n",
       "    <tr style=\"text-align: right;\">\n",
       "      <th></th>\n",
       "      <th>Open</th>\n",
       "      <th>High</th>\n",
       "      <th>Low</th>\n",
       "      <th>Close</th>\n",
       "      <th>Adj Close</th>\n",
       "      <th>Volume</th>\n",
       "    </tr>\n",
       "  </thead>\n",
       "  <tbody>\n",
       "    <tr>\n",
       "      <th>count</th>\n",
       "      <td>1111.000000</td>\n",
       "      <td>1111.000000</td>\n",
       "      <td>1111.000000</td>\n",
       "      <td>1111.000000</td>\n",
       "      <td>1111.000000</td>\n",
       "      <td>1.111000e+03</td>\n",
       "    </tr>\n",
       "    <tr>\n",
       "      <th>mean</th>\n",
       "      <td>91.309141</td>\n",
       "      <td>92.390239</td>\n",
       "      <td>90.267340</td>\n",
       "      <td>91.372599</td>\n",
       "      <td>90.232310</td>\n",
       "      <td>1.215950e+08</td>\n",
       "    </tr>\n",
       "    <tr>\n",
       "      <th>std</th>\n",
       "      <td>45.057554</td>\n",
       "      <td>45.613360</td>\n",
       "      <td>44.471063</td>\n",
       "      <td>45.062148</td>\n",
       "      <td>45.452443</td>\n",
       "      <td>5.640016e+07</td>\n",
       "    </tr>\n",
       "    <tr>\n",
       "      <th>min</th>\n",
       "      <td>35.994999</td>\n",
       "      <td>36.430000</td>\n",
       "      <td>35.500000</td>\n",
       "      <td>35.547501</td>\n",
       "      <td>34.414242</td>\n",
       "      <td>4.100000e+07</td>\n",
       "    </tr>\n",
       "    <tr>\n",
       "      <th>25%</th>\n",
       "      <td>49.639999</td>\n",
       "      <td>50.002501</td>\n",
       "      <td>49.125000</td>\n",
       "      <td>49.670000</td>\n",
       "      <td>48.390478</td>\n",
       "      <td>8.401065e+07</td>\n",
       "    </tr>\n",
       "    <tr>\n",
       "      <th>50%</th>\n",
       "      <td>74.315002</td>\n",
       "      <td>75.809998</td>\n",
       "      <td>73.797501</td>\n",
       "      <td>74.949997</td>\n",
       "      <td>73.650795</td>\n",
       "      <td>1.068203e+08</td>\n",
       "    </tr>\n",
       "    <tr>\n",
       "      <th>75%</th>\n",
       "      <td>132.145004</td>\n",
       "      <td>133.584999</td>\n",
       "      <td>130.385002</td>\n",
       "      <td>131.965004</td>\n",
       "      <td>130.871727</td>\n",
       "      <td>1.424222e+08</td>\n",
       "    </tr>\n",
       "    <tr>\n",
       "      <th>max</th>\n",
       "      <td>182.630005</td>\n",
       "      <td>182.940002</td>\n",
       "      <td>179.119995</td>\n",
       "      <td>182.009995</td>\n",
       "      <td>181.511703</td>\n",
       "      <td>4.265100e+08</td>\n",
       "    </tr>\n",
       "  </tbody>\n",
       "</table>\n",
       "</div>"
      ],
      "text/plain": [
       "              Open         High          Low        Close    Adj Close  \\\n",
       "count  1111.000000  1111.000000  1111.000000  1111.000000  1111.000000   \n",
       "mean     91.309141    92.390239    90.267340    91.372599    90.232310   \n",
       "std      45.057554    45.613360    44.471063    45.062148    45.452443   \n",
       "min      35.994999    36.430000    35.500000    35.547501    34.414242   \n",
       "25%      49.639999    50.002501    49.125000    49.670000    48.390478   \n",
       "50%      74.315002    75.809998    73.797501    74.949997    73.650795   \n",
       "75%     132.145004   133.584999   130.385002   131.965004   130.871727   \n",
       "max     182.630005   182.940002   179.119995   182.009995   181.511703   \n",
       "\n",
       "             Volume  \n",
       "count  1.111000e+03  \n",
       "mean   1.215950e+08  \n",
       "std    5.640016e+07  \n",
       "min    4.100000e+07  \n",
       "25%    8.401065e+07  \n",
       "50%    1.068203e+08  \n",
       "75%    1.424222e+08  \n",
       "max    4.265100e+08  "
      ]
     },
     "execution_count": 8,
     "metadata": {},
     "output_type": "execute_result"
    }
   ],
   "source": [
    "# Describe `aapl`\n",
    "aapl.describe()"
   ]
  },
  {
   "cell_type": "markdown",
   "id": "fc2eeb76",
   "metadata": {
    "papermill": {
     "duration": 0.015514,
     "end_time": "2022-06-03T08:01:45.841314",
     "exception": false,
     "start_time": "2022-06-03T08:01:45.825800",
     "status": "completed"
    },
    "tags": []
   },
   "source": [
    "As you have seen in the introduction, this data contains the four\n",
    "columns with the opening and closing price per day and the extreme high\n",
    "and low price movements for the Apple stock for each day. Additionally,\n",
    "you also get two extra columns: `Volume`  and\n",
    "`Adj Close`.\n",
    "\n",
    "The former column is used to register the number of shares that got\n",
    "traded during a single day. The latter, on the other hand, is the\n",
    "adjusted closing price: it’s the closing price of the day that has been\n",
    "slightly adapted to include any actions that occurred at any time before\n",
    "the next day’s open. You can use this column to examine historical\n",
    "returns or when you’re performing a detailed analysis on historical\n",
    "returns.\n",
    "\n",
    "Note how the index or row labels contain dates, and how your columns or\n",
    "column labels contain numerical values.\n",
    "\n",
    "**Tip**: if you now would like to save this data to a csv file with the\n",
    "`to_csv()`function from `pandas`  and that\n",
    "you can use the `read_csv()`  function to read the data\n",
    "back into Python. This is extremely handy in cases where, for example,\n",
    "the Yahoo API endpoint has changed, and you don’t have access to your\n",
    "data any longer :)"
   ]
  },
  {
   "cell_type": "code",
   "execution_count": 9,
   "id": "2014871f",
   "metadata": {
    "execution": {
     "iopub.execute_input": "2022-06-03T08:01:45.874828Z",
     "iopub.status.busy": "2022-06-03T08:01:45.874454Z",
     "iopub.status.idle": "2022-06-03T08:01:45.901110Z",
     "shell.execute_reply": "2022-06-03T08:01:45.900151Z"
    },
    "papermill": {
     "duration": 0.046181,
     "end_time": "2022-06-03T08:01:45.903330",
     "exception": false,
     "start_time": "2022-06-03T08:01:45.857149",
     "status": "completed"
    },
    "tags": []
   },
   "outputs": [],
   "source": [
    "import pandas as pd\n",
    "aapl.to_csv('aapl_ohlc.csv')\n",
    "df = pd.read_csv('./aapl_ohlc.csv', header=0, index_col='Date', parse_dates=True)"
   ]
  },
  {
   "cell_type": "markdown",
   "id": "c65860aa",
   "metadata": {
    "papermill": {
     "duration": 0.015274,
     "end_time": "2022-06-03T08:01:45.934303",
     "exception": false,
     "start_time": "2022-06-03T08:01:45.919029",
     "status": "completed"
    },
    "tags": []
   },
   "source": [
    "Now that you have briefly inspected the first lines of your data and\n",
    "have taken a look at some summary statistics, it’s time to go a little\n",
    "bit deeper.\n",
    "\n",
    "One way to do this is by inspecting the index and the columns and by\n",
    "selecting, for example, the last ten rows of a particular column. The\n",
    "latter is called subsetting because you take a small subset of your\n",
    "data. The result of the subsetting is a Series, which is a\n",
    "one-dimensional labeled array that is capable of holding any type.\n",
    "\n",
    "**Remember** that the DataFrame structure was a two-dimensional labeled\n",
    "array with columns that potentially hold different types of data.\n",
    "\n",
    "Check all of this out in the exercise below. First, use the\n",
    "`index` and `columns` attributes to take a\n",
    "look at the index and columns of your data. Next, subset the\n",
    "`Close` column by only selecting the last 10 observations\n",
    "of the DataFrame. Make use of the square brackets `[]` to\n",
    "isolate the last ten values. You might already know this way of\n",
    "subsetting from other programming languages, such as R. To conclude,\n",
    "assign the latter to a variable `ts` and then check what\n",
    "type `ts` is by using the `type()` function:\n",
    "\n"
   ]
  },
  {
   "cell_type": "code",
   "execution_count": 10,
   "id": "f6454860",
   "metadata": {
    "execution": {
     "iopub.execute_input": "2022-06-03T08:01:45.967239Z",
     "iopub.status.busy": "2022-06-03T08:01:45.966360Z",
     "iopub.status.idle": "2022-06-03T08:01:45.972551Z",
     "shell.execute_reply": "2022-06-03T08:01:45.971933Z"
    },
    "papermill": {
     "duration": 0.024511,
     "end_time": "2022-06-03T08:01:45.974261",
     "exception": false,
     "start_time": "2022-06-03T08:01:45.949750",
     "status": "completed"
    },
    "tags": []
   },
   "outputs": [
    {
     "data": {
      "text/plain": [
       "pandas.core.series.Series"
      ]
     },
     "execution_count": 10,
     "metadata": {},
     "output_type": "execute_result"
    }
   ],
   "source": [
    "# Inspect the index \n",
    "aapl.index\n",
    "\n",
    "# Inspect the columns\n",
    "aapl.columns\n",
    "\n",
    "# Select only the last 10 observations of `Close`\n",
    "ts = aapl['Close'][-10:]\n",
    "\n",
    "# Check the type of `ts` \n",
    "type(ts)"
   ]
  },
  {
   "cell_type": "markdown",
   "id": "b26b133a",
   "metadata": {
    "papermill": {
     "duration": 0.015351,
     "end_time": "2022-06-03T08:01:46.005315",
     "exception": false,
     "start_time": "2022-06-03T08:01:45.989964",
     "status": "completed"
    },
    "tags": []
   },
   "source": [
    "The square brackets can be helpful to subset your data, but they are\n",
    "maybe not the most idiomatic way to do things with Pandas. That’s why\n",
    "you should also take a look at the `loc()` and\n",
    "`iloc()` functions: you use the former for label-based\n",
    "indexing and the latter for positional indexing.\n",
    "\n",
    "In practice, this means that you can pass the label of the row labels,\n",
    "such as `2007` and `2006-11-01`, to the\n",
    "`loc()` function, while you pass integers such as\n",
    "`22` and `43` to the `iloc()`\n",
    "function.\n",
    "\n",
    "Complete the exercise below to understand how both `loc()`\n",
    "and `iloc()` work:\n"
   ]
  },
  {
   "cell_type": "code",
   "execution_count": 11,
   "id": "775e9edd",
   "metadata": {
    "execution": {
     "iopub.execute_input": "2022-06-03T08:01:46.038468Z",
     "iopub.status.busy": "2022-06-03T08:01:46.037593Z",
     "iopub.status.idle": "2022-06-03T08:01:46.060616Z",
     "shell.execute_reply": "2022-06-03T08:01:46.059761Z"
    },
    "papermill": {
     "duration": 0.041937,
     "end_time": "2022-06-03T08:01:46.062839",
     "exception": false,
     "start_time": "2022-06-03T08:01:46.020902",
     "status": "completed"
    },
    "tags": []
   },
   "outputs": [
    {
     "name": "stdout",
     "output_type": "stream",
     "text": [
      "                 Open       High        Low      Close  Adj Close     Volume\n",
      "Date                                                                        \n",
      "2020-01-02  74.059998  75.150002  73.797501  75.087502  73.785919  135480400\n",
      "2020-01-03  74.287498  75.144997  74.125000  74.357498  73.068565  146322800\n",
      "2020-01-06  73.447502  74.989998  73.187500  74.949997  73.650795  118387200\n",
      "2020-01-07  74.959999  75.224998  74.370003  74.597504  73.304420  108872000\n",
      "2020-01-08  74.290001  76.110001  74.290001  75.797501  74.483612  132079200\n",
      "                  Open        High         Low       Close   Adj Close  \\\n",
      "Date                                                                     \n",
      "2022-01-03  177.830002  182.880005  177.710007  182.009995  181.511703   \n",
      "2022-01-04  182.630005  182.940002  179.119995  179.699997  179.208038   \n",
      "2022-01-05  179.610001  180.169998  174.639999  174.919998  174.441116   \n",
      "2022-01-06  172.699997  175.300003  171.639999  172.000000  171.529129   \n",
      "2022-01-07  172.889999  174.139999  171.029999  172.169998  171.698654   \n",
      "\n",
      "               Volume  \n",
      "Date                   \n",
      "2022-01-03  104487900  \n",
      "2022-01-04   99310400  \n",
      "2022-01-05   94537600  \n",
      "2022-01-06   96904000  \n",
      "2022-01-07   86709100  \n",
      "                 Open       High        Low      Close  Adj Close     Volume\n",
      "Date                                                                        \n",
      "2018-02-02  41.500000  41.700001  40.025002  40.125000  38.271233  346375200\n",
      "2018-02-05  39.775002  40.970001  39.000000  39.122501  37.315044  290954000\n",
      "2018-02-06  38.707500  40.930000  38.500000  40.757500  38.874508  272975200\n",
      "2018-02-07  40.772499  40.849998  39.767502  39.884998  38.042316  206434400\n",
      "2018-02-08  40.072498  40.250000  38.757500  38.787498  36.995522  217562000\n",
      "2018-02-09  39.267502  39.472500  37.560001  39.102501  37.448029  282690400\n",
      "2018-02-12  39.625000  40.972500  39.377499  40.677502  38.956398  243278000\n",
      "2018-02-13  40.487499  41.187500  40.412498  41.084999  39.346645  130196800\n",
      "2018-02-14  40.759998  41.884998  40.720001  41.842499  40.072098  162579600\n",
      "2018-02-15  42.447498  43.272499  42.250000  43.247501  41.417656  204588800\n",
      "2018-02-16  43.090000  43.705002  42.942501  43.107498  41.283569  160704400\n",
      "2018-02-20  43.012501  43.564999  42.855000  42.962502  41.144707  135722000\n",
      "2018-02-21  43.207500  43.529999  42.752499  42.767502  40.957966  149886400\n",
      "2018-02-22  42.950001  43.487499  42.927502  43.125000  41.300335  123967600\n",
      "2018-02-23  43.417500  43.912498  43.384998  43.875000  42.018600  135249600\n",
      "2018-02-26  44.087502  44.847500  44.052502  44.742500  42.849403  152648800\n",
      "2018-02-27  44.775002  45.119999  44.540001  44.597500  42.710537  155712400\n",
      "2018-02-28  44.814999  45.154999  44.512501  44.529999  42.645882  151128400\n",
      "2018-03-01  44.634998  44.945000  43.165001  43.750000  41.898895  195208000\n",
      "2018-03-02  43.200001  44.075001  43.112499  44.052502  42.188591  153816000\n",
      "2018-03-05  43.802502  44.435001  43.630001  44.205002  42.334644  113605600\n",
      "                 Open    Close\n",
      "Date                          \n",
      "2018-02-02  41.500000  40.1250\n",
      "2018-03-06  44.477501  44.1675\n"
     ]
    }
   ],
   "source": [
    "# Inspect the first rows of November-December 2006\n",
    "print(aapl.loc[pd.Timestamp('2020-01-01'):pd.Timestamp('2022-06-01')].head())\n",
    "\n",
    "# Inspect the first rows of 2007 \n",
    "print(aapl.loc['2022'].head())\n",
    "\n",
    "# Inspect November 2006\n",
    "print(aapl.iloc[22:43])\n",
    "\n",
    "# Inspect the 'Open' and 'Close' values at 2006-11-01 and 2006-12-01\n",
    "print(aapl.iloc[[22,43], [0, 3]])"
   ]
  },
  {
   "cell_type": "markdown",
   "id": "4749cd04",
   "metadata": {
    "papermill": {
     "duration": 0.015774,
     "end_time": "2022-06-03T08:01:46.094445",
     "exception": false,
     "start_time": "2022-06-03T08:01:46.078671",
     "status": "completed"
    },
    "tags": []
   },
   "source": [
    "**Tip**: if you look closely at the results of the subsetting, you’ll\n",
    "notice that there are certain days missing in the data; If you look more\n",
    "closely at the pattern, you’ll see that it’s usually two or three days\n",
    "that are missing; These days are traditionally weekend days or public\n",
    "holidays and aren’t part of your data. This is nothing to worry about:\n",
    "it’s completely normal, and you don’t have to fill in these missing\n",
    "days.\n",
    "\n",
    "Besides indexing, you might also want to explore some other techniques\n",
    "to get to know your data a little bit better. You never know what else\n",
    "will show up. Let’s try to sample some 20 rows from the data set and\n",
    "then let’s resample the data so that `aapl` is now at the\n",
    "monthly level instead of daily. You can make use of the\n",
    "`sample()` and `resample()` functions to do\n",
    "this:"
   ]
  },
  {
   "cell_type": "code",
   "execution_count": 12,
   "id": "efca4b1f",
   "metadata": {
    "execution": {
     "iopub.execute_input": "2022-06-03T08:01:46.128513Z",
     "iopub.status.busy": "2022-06-03T08:01:46.127645Z",
     "iopub.status.idle": "2022-06-03T08:01:46.144121Z",
     "shell.execute_reply": "2022-06-03T08:01:46.143148Z"
    },
    "papermill": {
     "duration": 0.036205,
     "end_time": "2022-06-03T08:01:46.146759",
     "exception": false,
     "start_time": "2022-06-03T08:01:46.110554",
     "status": "completed"
    },
    "tags": []
   },
   "outputs": [
    {
     "name": "stdout",
     "output_type": "stream",
     "text": [
      "                  Open        High         Low       Close   Adj Close  \\\n",
      "Date                                                                     \n",
      "2019-05-28   44.730000   45.147499   44.477501   44.557499   43.488838   \n",
      "2020-07-21   99.172501   99.250000   96.742500   97.000000   95.803436   \n",
      "2022-04-21  168.910004  171.529999  165.910004  166.419998  166.175842   \n",
      "2021-06-09  127.209999  127.750000  126.519997  127.129997  126.407799   \n",
      "2018-06-15   47.507500   47.540001   47.064999   47.209999   45.386837   \n",
      "2020-07-31  102.885002  106.415001  100.824997  106.260002  104.949211   \n",
      "2019-07-23   52.115002   52.227501   51.822498   52.209999   50.957798   \n",
      "2021-04-13  132.440002  134.660004  131.929993  134.429993  133.439682   \n",
      "2020-04-07   67.699997   67.925003   64.750000   64.857498   63.884499   \n",
      "2021-05-26  126.959999  127.389999  126.419998  126.849998  126.129395   \n",
      "2021-02-01  133.750000  135.380005  130.929993  134.139999  132.953125   \n",
      "2022-01-03  177.830002  182.880005  177.710007  182.009995  181.511703   \n",
      "2019-05-31   44.057499   44.497501   43.747501   43.767502   42.717781   \n",
      "2019-08-20   52.720001   53.337502   52.580002   52.590000   51.523705   \n",
      "2020-02-12   80.367500   81.805000   80.367500   81.800003   80.572830   \n",
      "2022-05-24  140.809998  141.970001  137.330002  140.360001  140.360001   \n",
      "2018-03-08   43.869999   44.279999   43.767502   44.235001   42.363373   \n",
      "2018-02-15   42.447498   43.272499   42.250000   43.247501   41.417656   \n",
      "2018-04-19   43.439999   43.847500   43.165001   43.200001   41.372158   \n",
      "2018-01-09   43.637501   43.764999   43.352501   43.582500   41.569000   \n",
      "\n",
      "               Volume  \n",
      "Date                   \n",
      "2019-05-28  111792800  \n",
      "2020-07-21  103433200  \n",
      "2022-04-21   87227800  \n",
      "2021-06-09   56877900  \n",
      "2018-06-15  246876800  \n",
      "2020-07-31  374336800  \n",
      "2019-07-23   73420800  \n",
      "2021-04-13   91266500  \n",
      "2020-04-07  202887200  \n",
      "2021-05-26   56575900  \n",
      "2021-02-01  106239800  \n",
      "2022-01-03  104487900  \n",
      "2019-05-31  108174400  \n",
      "2019-08-20  107537200  \n",
      "2020-02-12  113730400  \n",
      "2022-05-24  104132700  \n",
      "2018-03-08   95096400  \n",
      "2018-02-15  204588800  \n",
      "2018-04-19  139235200  \n",
      "2018-01-09   86336000  \n",
      "DatetimeIndexResampler [freq=<MonthEnd>, axis=0, closed=right, label=right, convention=start, origin=start_day]\n"
     ]
    }
   ],
   "source": [
    "# Sample 20 rows\n",
    "sample = aapl.sample(20)\n",
    "\n",
    "# Print `sample`\n",
    "print(sample)\n",
    "\n",
    "# Resample to monthly level \n",
    "monthly_aapl = aapl.resample('M')\n",
    "\n",
    "# Print `monthly_aapl`\n",
    "print(monthly_aapl)"
   ]
  },
  {
   "cell_type": "markdown",
   "id": "cc7377ee",
   "metadata": {
    "papermill": {
     "duration": 0.01559,
     "end_time": "2022-06-03T08:01:46.179144",
     "exception": false,
     "start_time": "2022-06-03T08:01:46.163554",
     "status": "completed"
    },
    "tags": []
   },
   "source": [
    "Very straightforward, isn’t it?\n",
    "\n",
    "The `resample()` function is often used because it\n",
    "provides elaborate control and more flexibility on the frequency\n",
    "conversion of your times series: besides specifying new time intervals\n",
    "yourself and specifying how you want to handle missing data, you also\n",
    "have the option to indicate how you want to resample your data, as you\n",
    "can see in the code example above. This stands in clear contrast to the\n",
    "`asfreq()` method, where you only have the first two\n",
    "options.\n",
    "\n",
    "**Tip**: try this out for yourself in the IPython console of the above\n",
    "DataCamp Light chunk. Pass in\n",
    "`aapl.asfreq(\"M\", method=\"bfill\")` to see what happens!\n",
    "\n",
    "Lastly, before you take your data exploration to the next level and\n",
    "start with visualizing your data and performing some common financial\n",
    "analyses on your data, you might already begin to calculate the\n",
    "differences between the opening and closing prices per day. You can\n",
    "quickly perform this arithmetic operation with the help of Pandas; Just\n",
    "subtract the values in the `Open` column of your\n",
    "`aapl` data from the values of the `Close`\n",
    "column of that same data. Or, in other words, deduct\n",
    "`aapl.Close` from `aapl.Open`. You store the\n",
    "result in a new column of the `aapl` DataFrame called\n",
    "`diff`, and then you delete it again with the help of\n",
    "`del`:"
   ]
  },
  {
   "cell_type": "code",
   "execution_count": 13,
   "id": "80f803b7",
   "metadata": {
    "execution": {
     "iopub.execute_input": "2022-06-03T08:01:46.212641Z",
     "iopub.status.busy": "2022-06-03T08:01:46.211815Z",
     "iopub.status.idle": "2022-06-03T08:01:46.217551Z",
     "shell.execute_reply": "2022-06-03T08:01:46.216867Z"
    },
    "papermill": {
     "duration": 0.024486,
     "end_time": "2022-06-03T08:01:46.219484",
     "exception": false,
     "start_time": "2022-06-03T08:01:46.194998",
     "status": "completed"
    },
    "tags": []
   },
   "outputs": [],
   "source": [
    "# Add a column `diff` to `aapl` \n",
    "aapl['diff'] = aapl.Open - aapl.Close\n",
    "\n",
    "# Delete the new `diff` column\n",
    "del aapl['diff']"
   ]
  },
  {
   "cell_type": "markdown",
   "id": "7f0b7188",
   "metadata": {
    "papermill": {
     "duration": 0.01576,
     "end_time": "2022-06-03T08:01:46.251378",
     "exception": false,
     "start_time": "2022-06-03T08:01:46.235618",
     "status": "completed"
    },
    "tags": []
   },
   "source": [
    "**Tip**: make sure to comment out the last line of code so that the new\n",
    "column of your `aapl` DataFrame doesn’t get removed and\n",
    "you can check the results of your arithmetic operation!\n",
    "\n",
    "Of course, knowing the gains in absolute terms might already help you to\n",
    "get an idea of whether you’re making a good investment, but as a quant,\n",
    "you might be more interested in a more relative means of measuring your\n",
    "stock’s value, like how much the value of a particular stock has gone up\n",
    "or gone down. A way to do this is by calculating the daily percentage\n",
    "change.\n",
    "\n",
    "This is good to know for now, but don’t worry about it just yet; You’ll\n",
    "go deeper into this in a bit!\n",
    "\n",
    "This section introduced you to some ways to first explore your data\n",
    "before you start performing some prior analyses. However, you can still\n",
    "go a lot further in this; Consider taking our [Python Exploratory Data\n",
    "Analysis](https://www.datacamp.com/community/tutorials/exploratory-data-analysis-python)\n",
    "if you want to know more.\n",
    "\n",
    "#### Visualizing Time Series Data\n",
    "\n",
    "Next to exploring your data by means of `head()`,\n",
    "`tail()`, indexing, … You might also want to visualize\n",
    "your time series data. Thanks to Pandas’ plotting integration with\n",
    "Matplotlib, this task becomes easy; Just use the `plot()`\n",
    "function and pass the relevant arguments to it. Additionally, you can\n",
    "also add the `grid` argument to indicate that the plot\n",
    "should also have a grid in the background.\n",
    "\n",
    "Let’s examine and run the code below to see how you can make this plot!"
   ]
  },
  {
   "cell_type": "code",
   "execution_count": 14,
   "id": "02052852",
   "metadata": {
    "execution": {
     "iopub.execute_input": "2022-06-03T08:01:46.284909Z",
     "iopub.status.busy": "2022-06-03T08:01:46.284531Z",
     "iopub.status.idle": "2022-06-03T08:01:46.595684Z",
     "shell.execute_reply": "2022-06-03T08:01:46.594482Z"
    },
    "papermill": {
     "duration": 0.330358,
     "end_time": "2022-06-03T08:01:46.597806",
     "exception": false,
     "start_time": "2022-06-03T08:01:46.267448",
     "status": "completed"
    },
    "tags": []
   },
   "outputs": [
    {
     "data": {
      "image/png": "[encoded data removed]",
      "text/plain": [
       "<Figure size 432x288 with 1 Axes>"
      ]
     },
     "metadata": {
      "needs_background": "light"
     },
     "output_type": "display_data"
    }
   ],
   "source": [
    "# Import Matplotlib's `pyplot` module as `plt`\n",
    "import matplotlib.pyplot as plt\n",
    "\n",
    "# Plot the closing prices for `aapl`\n",
    "aapl['Close'].plot(grid=True)\n",
    "\n",
    "# Show the plot\n",
    "plt.show()"
   ]
  },
  {
   "cell_type": "markdown",
   "id": "44e36b91",
   "metadata": {
    "papermill": {
     "duration": 0.016645,
     "end_time": "2022-06-03T08:01:46.631336",
     "exception": false,
     "start_time": "2022-06-03T08:01:46.614691",
     "status": "completed"
    },
    "tags": []
   },
   "source": [
    "If you want to know more about Matplotlib and how to get started with\n",
    "it, check out DataCamp’s [Intermediate Python for Data\n",
    "Science](https://www.datacamp.com/courses/intermediate-python-for-data-science)\n",
    "course.\n"
   ]
  },
  {
   "cell_type": "markdown",
   "id": "bf6b3c12",
   "metadata": {
    "papermill": {
     "duration": 0.01632,
     "end_time": "2022-06-03T08:01:46.664703",
     "exception": false,
     "start_time": "2022-06-03T08:01:46.648383",
     "status": "completed"
    },
    "tags": []
   },
   "source": [
    "## Common Financial Analysis\n",
    "-------------------------\n",
    "\n",
    "Now that you have an idea of your data, what time series data is about\n",
    "and how you can use `pandas` to explore your data quickly,\n",
    "it’s time to dive deeper into some of the common financial analyses that\n",
    "you can do so that you can actually start working towards developing a\n",
    "trading strategy.\n",
    "\n",
    "In the rest of this section, you’ll learn more about the returns, moving\n",
    "windows, volatility calculation and Ordinary Least-Squares Regression\n",
    "(OLS).\n",
    "\n",
    "#### Returns\n",
    "\n",
    "The simple **daily percentage change** doesn’t take into account\n",
    "dividends and other factors and represents the amount of percentage\n",
    "change in the value of a stock over a single day of trading. You will\n",
    "find that the daily percentage change is easily calculated, as there is\n",
    "a `pct_change()` function included in the Pandas package\n",
    "to make your life easier:"
   ]
  },
  {
   "cell_type": "code",
   "execution_count": 15,
   "id": "b57b79a4",
   "metadata": {
    "execution": {
     "iopub.execute_input": "2022-06-03T08:01:46.700881Z",
     "iopub.status.busy": "2022-06-03T08:01:46.700475Z",
     "iopub.status.idle": "2022-06-03T08:01:46.717087Z",
     "shell.execute_reply": "2022-06-03T08:01:46.715934Z"
    },
    "papermill": {
     "duration": 0.037875,
     "end_time": "2022-06-03T08:01:46.719524",
     "exception": false,
     "start_time": "2022-06-03T08:01:46.681649",
     "status": "completed"
    },
    "tags": []
   },
   "outputs": [
    {
     "name": "stdout",
     "output_type": "stream",
     "text": [
      "            Adj Close\n",
      "Date                 \n",
      "2018-01-02   0.000000\n",
      "2018-01-03  -0.000174\n",
      "2018-01-04   0.004645\n",
      "2018-01-05   0.011385\n",
      "2018-01-08  -0.003714\n",
      "...               ...\n",
      "2022-05-24  -0.019216\n",
      "2022-05-25   0.001140\n",
      "2022-05-26   0.023200\n",
      "2022-05-27   0.040757\n",
      "2022-05-31  -0.005346\n",
      "\n",
      "[1111 rows x 1 columns]\n",
      "            Adj Close\n",
      "Date                 \n",
      "2018-01-02        NaN\n",
      "2018-01-03  -0.000174\n",
      "2018-01-04   0.004634\n",
      "2018-01-05   0.011321\n",
      "2018-01-08  -0.003721\n",
      "...               ...\n",
      "2022-05-24  -0.019403\n",
      "2022-05-25   0.001139\n",
      "2022-05-26   0.022934\n",
      "2022-05-27   0.039948\n",
      "2022-05-31  -0.005361\n",
      "\n",
      "[1111 rows x 1 columns]\n"
     ]
    }
   ],
   "source": [
    "# Assign `Adj Close` to `daily_close`\n",
    "daily_close = aapl[['Adj Close']]\n",
    "\n",
    "# Daily returns\n",
    "daily_pct_c = daily_close.pct_change()\n",
    "\n",
    "# Replace NA values with 0\n",
    "daily_pct_c.fillna(0, inplace=True)\n",
    "\n",
    "# Inspect daily returns\n",
    "print(daily_pct_c)\n",
    "\n",
    "# Daily log returns\n",
    "daily_log_returns = np.log(daily_close.pct_change()+1)\n",
    "\n",
    "# Print daily log returns\n",
    "print(daily_log_returns)"
   ]
  },
  {
   "cell_type": "markdown",
   "id": "6a319049",
   "metadata": {
    "papermill": {
     "duration": 0.016553,
     "end_time": "2022-06-03T08:01:46.752832",
     "exception": false,
     "start_time": "2022-06-03T08:01:46.736279",
     "status": "completed"
    },
    "tags": []
   },
   "source": [
    "Note that you calculate the log returns to get a better insight into the\n",
    "growth of your returns over time.\n",
    "\n",
    "Knowing how to calculate the daily percentage change is nice, but what\n",
    "when you want to know the monthly or quarterly returns? In such cases,\n",
    "you can fall back on the `resample()`, which you already\n",
    "saw in the first part of this tutorial."
   ]
  },
  {
   "cell_type": "code",
   "execution_count": 16,
   "id": "8a05f452",
   "metadata": {
    "execution": {
     "iopub.execute_input": "2022-06-03T08:01:46.788193Z",
     "iopub.status.busy": "2022-06-03T08:01:46.787785Z",
     "iopub.status.idle": "2022-06-03T08:01:46.828535Z",
     "shell.execute_reply": "2022-06-03T08:01:46.827555Z"
    },
    "papermill": {
     "duration": 0.061031,
     "end_time": "2022-06-03T08:01:46.830515",
     "exception": false,
     "start_time": "2022-06-03T08:01:46.769484",
     "status": "completed"
    },
    "tags": []
   },
   "outputs": [
    {
     "data": {
      "text/html": [
       "<div>\n",
       "<style scoped>\n",
       "    .dataframe tbody tr th:only-of-type {\n",
       "        vertical-align: middle;\n",
       "    }\n",
       "\n",
       "    .dataframe tbody tr th {\n",
       "        vertical-align: top;\n",
       "    }\n",
       "\n",
       "    .dataframe thead th {\n",
       "        text-align: right;\n",
       "    }\n",
       "</style>\n",
       "<table border=\"1\" class=\"dataframe\">\n",
       "  <thead>\n",
       "    <tr style=\"text-align: right;\">\n",
       "      <th></th>\n",
       "      <th>Open</th>\n",
       "      <th>High</th>\n",
       "      <th>Low</th>\n",
       "      <th>Close</th>\n",
       "      <th>Adj Close</th>\n",
       "      <th>Volume</th>\n",
       "    </tr>\n",
       "    <tr>\n",
       "      <th>Date</th>\n",
       "      <th></th>\n",
       "      <th></th>\n",
       "      <th></th>\n",
       "      <th></th>\n",
       "      <th></th>\n",
       "      <th></th>\n",
       "    </tr>\n",
       "  </thead>\n",
       "  <tbody>\n",
       "    <tr>\n",
       "      <th>2018-01-31</th>\n",
       "      <td>NaN</td>\n",
       "      <td>NaN</td>\n",
       "      <td>NaN</td>\n",
       "      <td>NaN</td>\n",
       "      <td>NaN</td>\n",
       "      <td>NaN</td>\n",
       "    </tr>\n",
       "    <tr>\n",
       "      <th>2018-05-31</th>\n",
       "      <td>0.003086</td>\n",
       "      <td>0.007283</td>\n",
       "      <td>0.000949</td>\n",
       "      <td>0.003840</td>\n",
       "      <td>0.008365</td>\n",
       "      <td>0.123288</td>\n",
       "    </tr>\n",
       "    <tr>\n",
       "      <th>2018-09-30</th>\n",
       "      <td>0.164076</td>\n",
       "      <td>0.160921</td>\n",
       "      <td>0.166280</td>\n",
       "      <td>0.164347</td>\n",
       "      <td>0.170176</td>\n",
       "      <td>-0.223827</td>\n",
       "    </tr>\n",
       "    <tr>\n",
       "      <th>2019-01-31</th>\n",
       "      <td>-0.093008</td>\n",
       "      <td>-0.089542</td>\n",
       "      <td>-0.100667</td>\n",
       "      <td>-0.095411</td>\n",
       "      <td>-0.091758</td>\n",
       "      <td>0.511812</td>\n",
       "    </tr>\n",
       "    <tr>\n",
       "      <th>2019-05-31</th>\n",
       "      <td>0.013407</td>\n",
       "      <td>0.011194</td>\n",
       "      <td>0.021533</td>\n",
       "      <td>0.017085</td>\n",
       "      <td>0.023316</td>\n",
       "      <td>-0.310644</td>\n",
       "    </tr>\n",
       "    <tr>\n",
       "      <th>2019-09-30</th>\n",
       "      <td>0.098540</td>\n",
       "      <td>0.098245</td>\n",
       "      <td>0.097850</td>\n",
       "      <td>0.097031</td>\n",
       "      <td>0.102620</td>\n",
       "      <td>-0.077126</td>\n",
       "    </tr>\n",
       "    <tr>\n",
       "      <th>2020-01-31</th>\n",
       "      <td>0.316237</td>\n",
       "      <td>0.315084</td>\n",
       "      <td>0.318202</td>\n",
       "      <td>0.319279</td>\n",
       "      <td>0.324917</td>\n",
       "      <td>0.066262</td>\n",
       "    </tr>\n",
       "    <tr>\n",
       "      <th>2020-05-31</th>\n",
       "      <td>0.062337</td>\n",
       "      <td>0.073452</td>\n",
       "      <td>0.054432</td>\n",
       "      <td>0.063084</td>\n",
       "      <td>0.066940</td>\n",
       "      <td>0.668421</td>\n",
       "    </tr>\n",
       "    <tr>\n",
       "      <th>2020-09-30</th>\n",
       "      <td>0.440964</td>\n",
       "      <td>0.433833</td>\n",
       "      <td>0.437044</td>\n",
       "      <td>0.435470</td>\n",
       "      <td>0.440057</td>\n",
       "      <td>-0.117951</td>\n",
       "    </tr>\n",
       "    <tr>\n",
       "      <th>2021-01-31</th>\n",
       "      <td>0.192388</td>\n",
       "      <td>0.190939</td>\n",
       "      <td>0.196519</td>\n",
       "      <td>0.192451</td>\n",
       "      <td>0.194978</td>\n",
       "      <td>-0.301885</td>\n",
       "    </tr>\n",
       "    <tr>\n",
       "      <th>2021-05-31</th>\n",
       "      <td>0.038499</td>\n",
       "      <td>0.034810</td>\n",
       "      <td>0.039972</td>\n",
       "      <td>0.037180</td>\n",
       "      <td>0.039514</td>\n",
       "      <td>-0.155960</td>\n",
       "    </tr>\n",
       "    <tr>\n",
       "      <th>2021-09-30</th>\n",
       "      <td>0.114509</td>\n",
       "      <td>0.114180</td>\n",
       "      <td>0.119207</td>\n",
       "      <td>0.117581</td>\n",
       "      <td>0.119993</td>\n",
       "      <td>-0.190173</td>\n",
       "    </tr>\n",
       "    <tr>\n",
       "      <th>2022-01-31</th>\n",
       "      <td>0.125387</td>\n",
       "      <td>0.129250</td>\n",
       "      <td>0.122910</td>\n",
       "      <td>0.126366</td>\n",
       "      <td>0.128457</td>\n",
       "      <td>0.178372</td>\n",
       "    </tr>\n",
       "    <tr>\n",
       "      <th>2022-05-31</th>\n",
       "      <td>0.011635</td>\n",
       "      <td>0.012930</td>\n",
       "      <td>0.007365</td>\n",
       "      <td>0.009859</td>\n",
       "      <td>0.011768</td>\n",
       "      <td>0.023345</td>\n",
       "    </tr>\n",
       "  </tbody>\n",
       "</table>\n",
       "</div>"
      ],
      "text/plain": [
       "                Open      High       Low     Close  Adj Close    Volume\n",
       "Date                                                                   \n",
       "2018-01-31       NaN       NaN       NaN       NaN        NaN       NaN\n",
       "2018-05-31  0.003086  0.007283  0.000949  0.003840   0.008365  0.123288\n",
       "2018-09-30  0.164076  0.160921  0.166280  0.164347   0.170176 -0.223827\n",
       "2019-01-31 -0.093008 -0.089542 -0.100667 -0.095411  -0.091758  0.511812\n",
       "2019-05-31  0.013407  0.011194  0.021533  0.017085   0.023316 -0.310644\n",
       "2019-09-30  0.098540  0.098245  0.097850  0.097031   0.102620 -0.077126\n",
       "2020-01-31  0.316237  0.315084  0.318202  0.319279   0.324917  0.066262\n",
       "2020-05-31  0.062337  0.073452  0.054432  0.063084   0.066940  0.668421\n",
       "2020-09-30  0.440964  0.433833  0.437044  0.435470   0.440057 -0.117951\n",
       "2021-01-31  0.192388  0.190939  0.196519  0.192451   0.194978 -0.301885\n",
       "2021-05-31  0.038499  0.034810  0.039972  0.037180   0.039514 -0.155960\n",
       "2021-09-30  0.114509  0.114180  0.119207  0.117581   0.119993 -0.190173\n",
       "2022-01-31  0.125387  0.129250  0.122910  0.126366   0.128457  0.178372\n",
       "2022-05-31  0.011635  0.012930  0.007365  0.009859   0.011768  0.023345"
      ]
     },
     "execution_count": 16,
     "metadata": {},
     "output_type": "execute_result"
    }
   ],
   "source": [
    "# Resample `aapl` to business months, take last observation as value \n",
    "monthly = aapl.resample('BM').apply(lambda x: x[-1])\n",
    "\n",
    "# Calculate the monthly percentage change\n",
    "monthly.pct_change()\n",
    "\n",
    "# Resample `aapl` to quarters, take the mean as value per quarter\n",
    "quarter = aapl.resample(\"4M\").mean()\n",
    "\n",
    "# Calculate the quarterly percentage change\n",
    "quarter.pct_change()"
   ]
  },
  {
   "cell_type": "markdown",
   "id": "36c0009a",
   "metadata": {
    "papermill": {
     "duration": 0.016614,
     "end_time": "2022-06-03T08:01:46.864157",
     "exception": false,
     "start_time": "2022-06-03T08:01:46.847543",
     "status": "completed"
    },
    "tags": []
   },
   "source": [
    "Using `pct_change()` is quite the convenience, but it also\n",
    "obscures how exactly the daily percentages are calculated. That’s why\n",
    "you can alternatively make use of Pandas’ `shift()`\n",
    "function instead of using `pct_change()`. You then divide\n",
    "the `daily_close` values by the\n",
    "`daily_close.shift(1) -1`. By using this function,\n",
    "however, you will be left with `NA` values at the\n",
    "beginning of the resulting DataFrame.\n",
    "\n",
    "**Tip**: compare the result of the following code with the result that\n",
    "you had obtained in the first DataCamp Light chunk to clearly see the\n",
    "difference between these two methods of calculating the daily percentage\n",
    "change."
   ]
  },
  {
   "cell_type": "code",
   "execution_count": 17,
   "id": "3825da24",
   "metadata": {
    "execution": {
     "iopub.execute_input": "2022-06-03T08:01:46.900826Z",
     "iopub.status.busy": "2022-06-03T08:01:46.900436Z",
     "iopub.status.idle": "2022-06-03T08:01:46.909472Z",
     "shell.execute_reply": "2022-06-03T08:01:46.908510Z"
    },
    "papermill": {
     "duration": 0.030437,
     "end_time": "2022-06-03T08:01:46.911904",
     "exception": false,
     "start_time": "2022-06-03T08:01:46.881467",
     "status": "completed"
    },
    "tags": []
   },
   "outputs": [
    {
     "name": "stdout",
     "output_type": "stream",
     "text": [
      "            Adj Close\n",
      "Date                 \n",
      "2018-01-02        NaN\n",
      "2018-01-03  -0.000174\n",
      "2018-01-04   0.004645\n",
      "2018-01-05   0.011385\n",
      "2018-01-08  -0.003714\n",
      "...               ...\n",
      "2022-05-24  -0.019216\n",
      "2022-05-25   0.001140\n",
      "2022-05-26   0.023200\n",
      "2022-05-27   0.040757\n",
      "2022-05-31  -0.005346\n",
      "\n",
      "[1111 rows x 1 columns]\n"
     ]
    }
   ],
   "source": [
    "# Daily returns\n",
    "daily_pct_c = daily_close / daily_close.shift(1) - 1\n",
    "\n",
    "# Print `daily_pct_c`\n",
    "print(daily_pct_c)"
   ]
  },
  {
   "cell_type": "markdown",
   "id": "570f4b2b",
   "metadata": {
    "papermill": {
     "duration": 0.016516,
     "end_time": "2022-06-03T08:01:46.945486",
     "exception": false,
     "start_time": "2022-06-03T08:01:46.928970",
     "status": "completed"
    },
    "tags": []
   },
   "source": [
    "**Tip**: calculate the daily log returns with the help of Pandas’\n",
    "`shift()` function. Try it out in the IPython console of\n",
    "this DataCamp Light chunk! (For those who can’t find the *solution*, try\n",
    "out this line of code:\n",
    "`daily_log_returns_shift = np.log(daily_close / daily_close.shift(1))`).\n",
    "\n",
    "For your reference, the calculation of the daily percentage change is\n",
    "based on the following formula: $ r\\_t = \\dfrac{{p_t}}{p_{t-1}} -\n",
    "1 $, where *p* is the price, *t* is the time (a day in this case) and\n",
    "*r* is the return.\n",
    "\n",
    "Additionally, you can plot the distribution of\n",
    "`daily_pct_change`:\n",
    "\n"
   ]
  },
  {
   "cell_type": "code",
   "execution_count": 18,
   "id": "51a9bf89",
   "metadata": {
    "execution": {
     "iopub.execute_input": "2022-06-03T08:01:46.981773Z",
     "iopub.status.busy": "2022-06-03T08:01:46.981174Z",
     "iopub.status.idle": "2022-06-03T08:01:47.247016Z",
     "shell.execute_reply": "2022-06-03T08:01:47.245779Z"
    },
    "papermill": {
     "duration": 0.2876,
     "end_time": "2022-06-03T08:01:47.249798",
     "exception": false,
     "start_time": "2022-06-03T08:01:46.962198",
     "status": "completed"
    },
    "tags": []
   },
   "outputs": [
    {
     "data": {
      "image/png": "[encoded data removed]",
      "text/plain": [
       "<Figure size 432x288 with 1 Axes>"
      ]
     },
     "metadata": {
      "needs_background": "light"
     },
     "output_type": "display_data"
    },
    {
     "name": "stdout",
     "output_type": "stream",
     "text": [
      "         Adj Close\n",
      "count  1110.000000\n",
      "mean      0.001379\n",
      "std       0.020873\n",
      "min      -0.128647\n",
      "25%      -0.008235\n",
      "50%       0.001244\n",
      "75%       0.012291\n",
      "max       0.119808\n"
     ]
    }
   ],
   "source": [
    "# Import matplotlib\n",
    "import matplotlib.pyplot as plt\n",
    "\n",
    "# Plot the distribution of `daily_pct_c`\n",
    "daily_pct_c.hist(bins=50)\n",
    "\n",
    "# Show the plot\n",
    "plt.show()\n",
    "\n",
    "# Pull up summary statistics\n",
    "print(daily_pct_c.describe())"
   ]
  },
  {
   "cell_type": "markdown",
   "id": "44c146dc",
   "metadata": {
    "papermill": {
     "duration": 0.016687,
     "end_time": "2022-06-03T08:01:47.286379",
     "exception": false,
     "start_time": "2022-06-03T08:01:47.269692",
     "status": "completed"
    },
    "tags": []
   },
   "source": [
    "The distribution looks very symmetrical and normally distributed: the\n",
    "daily changes center around the bin 0.00. Note, though, how you can and\n",
    "should use the results of the `describe()` function,\n",
    "applied on `daily_pct_c`, to correctly interpret the\n",
    "results of the histogram. You will see that the mean is very close to\n",
    "the 0.00 bin also and that the standard deviation is 0.02. Also, take a\n",
    "look at the percentiles to know how many of your data points fall below\n",
    "-0.010672, 0.001677 and 0.014306.\n",
    "\n",
    "The **cumulative daily rate of return** is useful to determine the value\n",
    "of an investment at regular intervals. You can calculate the cumulative\n",
    "daily rate of return by using the daily percentage change values, adding\n",
    "`1` to them and calculating the cumulative product with\n",
    "the resulting values:"
   ]
  },
  {
   "cell_type": "code",
   "execution_count": 19,
   "id": "d1b3b95c",
   "metadata": {
    "execution": {
     "iopub.execute_input": "2022-06-03T08:01:47.323532Z",
     "iopub.status.busy": "2022-06-03T08:01:47.322833Z",
     "iopub.status.idle": "2022-06-03T08:01:47.331068Z",
     "shell.execute_reply": "2022-06-03T08:01:47.330425Z"
    },
    "papermill": {
     "duration": 0.029269,
     "end_time": "2022-06-03T08:01:47.333620",
     "exception": false,
     "start_time": "2022-06-03T08:01:47.304351",
     "status": "completed"
    },
    "tags": []
   },
   "outputs": [
    {
     "name": "stdout",
     "output_type": "stream",
     "text": [
      "            Adj Close\n",
      "Date                 \n",
      "2018-01-02        NaN\n",
      "2018-01-03   0.999826\n",
      "2018-01-04   1.004470\n",
      "2018-01-05   1.015906\n",
      "2018-01-08   1.012133\n",
      "...               ...\n",
      "2022-05-24   3.417130\n",
      "2022-05-25   3.421026\n",
      "2022-05-26   3.500392\n",
      "2022-05-27   3.643056\n",
      "2022-05-31   3.623580\n",
      "\n",
      "[1111 rows x 1 columns]\n"
     ]
    }
   ],
   "source": [
    "# Calculate the cumulative daily returns\n",
    "cum_daily_return = (1 + daily_pct_c).cumprod()\n",
    "\n",
    "# Print `cum_daily_return`\n",
    "print(cum_daily_return)"
   ]
  },
  {
   "cell_type": "markdown",
   "id": "50ca5c40",
   "metadata": {
    "papermill": {
     "duration": 0.016492,
     "end_time": "2022-06-03T08:01:47.368469",
     "exception": false,
     "start_time": "2022-06-03T08:01:47.351977",
     "status": "completed"
    },
    "tags": []
   },
   "source": [
    "Note that you can use can again use Matplotlib to quickly plot the\n",
    "`cum_daily_return`; Just add the `plot()`\n",
    "function to it and, optionally, determine the `figsize` or\n",
    "the size of the figure:"
   ]
  },
  {
   "cell_type": "code",
   "execution_count": 20,
   "id": "4b9de1c5",
   "metadata": {
    "execution": {
     "iopub.execute_input": "2022-06-03T08:01:47.403954Z",
     "iopub.status.busy": "2022-06-03T08:01:47.403338Z",
     "iopub.status.idle": "2022-06-03T08:01:47.684641Z",
     "shell.execute_reply": "2022-06-03T08:01:47.683738Z"
    },
    "papermill": {
     "duration": 0.301827,
     "end_time": "2022-06-03T08:01:47.687102",
     "exception": false,
     "start_time": "2022-06-03T08:01:47.385275",
     "status": "completed"
    },
    "tags": []
   },
   "outputs": [
    {
     "data": {
      "image/png": "[encoded data removed]",
      "text/plain": [
       "<Figure size 864x576 with 1 Axes>"
      ]
     },
     "metadata": {
      "needs_background": "light"
     },
     "output_type": "display_data"
    }
   ],
   "source": [
    "# Import matplotlib\n",
    "import matplotlib.pyplot as plt \n",
    "\n",
    "# Plot the cumulative daily returns\n",
    "cum_daily_return.plot(figsize=(12,8))\n",
    "\n",
    "# Show the plot\n",
    "plt.show()"
   ]
  },
  {
   "cell_type": "markdown",
   "id": "06afe7cd",
   "metadata": {
    "papermill": {
     "duration": 0.017966,
     "end_time": "2022-06-03T08:01:47.723598",
     "exception": false,
     "start_time": "2022-06-03T08:01:47.705632",
     "status": "completed"
    },
    "tags": []
   },
   "source": [
    "Very easy, isn’t it? Now, if you don’t want to see the daily returns,\n",
    "but rather the monthly returns, remember that you can easily use the\n",
    "`resample()` function to bring the\n",
    "`cum_daily_return` to the monthly level:"
   ]
  },
  {
   "cell_type": "code",
   "execution_count": 21,
   "id": "aece5e73",
   "metadata": {
    "execution": {
     "iopub.execute_input": "2022-06-03T08:01:47.762215Z",
     "iopub.status.busy": "2022-06-03T08:01:47.761304Z",
     "iopub.status.idle": "2022-06-03T08:01:47.773185Z",
     "shell.execute_reply": "2022-06-03T08:01:47.772187Z"
    },
    "papermill": {
     "duration": 0.033905,
     "end_time": "2022-06-03T08:01:47.775850",
     "exception": false,
     "start_time": "2022-06-03T08:01:47.741945",
     "status": "completed"
    },
    "tags": []
   },
   "outputs": [
    {
     "name": "stdout",
     "output_type": "stream",
     "text": [
      "            Adj Close\n",
      "Date                 \n",
      "2018-01-31   1.010638\n",
      "2018-02-28   0.975943\n",
      "2018-03-31   1.017112\n",
      "2018-04-30   0.989938\n",
      "2018-05-31   1.084149\n",
      "2018-06-30   1.103685\n",
      "2018-07-31   1.113574\n",
      "2018-08-31   1.251442\n",
      "2018-09-30   1.303982\n",
      "2018-10-31   1.296771\n",
      "2018-11-30   1.125805\n",
      "2018-12-31   0.967912\n",
      "2019-01-31   0.908399\n",
      "2019-02-28   1.015078\n",
      "2019-03-31   1.084660\n",
      "2019-04-30   1.186575\n",
      "2019-05-31   1.134742\n",
      "2019-06-30   1.146312\n",
      "2019-07-31   1.219066\n",
      "2019-08-31   1.220919\n",
      "2019-09-30   1.299896\n",
      "2019-10-31   1.403005\n",
      "2019-11-30   1.569180\n",
      "2019-12-31   1.653863\n",
      "2020-01-31   1.865529\n",
      "2020-02-29   1.865133\n",
      "2020-03-31   1.573368\n",
      "2020-04-30   1.632971\n",
      "2020-05-31   1.862208\n",
      "2020-06-30   2.078742\n",
      "2020-07-31   2.297905\n",
      "2020-08-31   2.824662\n",
      "2020-09-30   2.773195\n",
      "2020-10-31   2.804220\n",
      "2020-11-30   2.818077\n",
      "2020-12-31   3.071527\n",
      "2021-01-31   3.210188\n",
      "2021-02-28   3.177582\n",
      "2021-03-31   2.945157\n",
      "2021-04-30   3.185406\n",
      "2021-05-31   3.068018\n",
      "2021-06-30   3.145931\n",
      "2021-07-31   3.513417\n",
      "2021-08-31   3.591370\n",
      "2021-09-30   3.595452\n",
      "2021-10-31   3.528967\n",
      "2021-11-30   3.744134\n",
      "2021-12-31   4.213656\n",
      "2022-01-31   4.124037\n",
      "2022-02-28   4.127673\n",
      "2022-03-31   4.018656\n",
      "2022-04-30   4.055377\n",
      "2022-05-31   3.612521\n"
     ]
    }
   ],
   "source": [
    "# Resample the cumulative daily return to cumulative monthly return \n",
    "cum_monthly_return = cum_daily_return.resample(\"M\").mean()\n",
    "\n",
    "# Print the `cum_monthly_return`\n",
    "print(cum_monthly_return)"
   ]
  },
  {
   "cell_type": "markdown",
   "id": "16b46912",
   "metadata": {
    "papermill": {
     "duration": 0.017526,
     "end_time": "2022-06-03T08:01:47.811369",
     "exception": false,
     "start_time": "2022-06-03T08:01:47.793843",
     "status": "completed"
    },
    "tags": []
   },
   "source": [
    "Knowing how to calculate the returns is a valuable skill, but you’ll\n",
    "often see that these numbers don’t really say much when you don’t\n",
    "compare them to other stock. That’s why you’ll often see examples where\n",
    "two or more stocks are compared. In the rest of this section, you’ll\n",
    "focus on getting more data from Yahoo! Finance so that you can calculate\n",
    "the daily percentage change and compare the results.\n",
    "\n",
    "**Note** that, if you want to be doing this, you’ll need to have a more\n",
    "thorough understanding of Pandas and how you can manipulate your data\n",
    "with Pandas!\n",
    "\n",
    "Let’s start! Get more data from Yahoo! Finance first. You can easily do\n",
    "this by making a function that takes in the `ticker` or\n",
    "symbol of the stock, a start date and an end date. The next function\n",
    "that you see, `data()`, then takes the\n",
    "`ticker` to get your data from the\n",
    "`startdate` to the `enddate` and returns it\n",
    "so that the `get()` function can continue. You map the\n",
    "data with the right `tickers` and return a DataFrame that\n",
    "concatenates the mapped data with tickers.\n",
    "\n",
    "Check out the code below, where the stock data from Apple, Microsoft,\n",
    "IBM, and Google are loaded and gathered into one big DataFrame:\n"
   ]
  },
  {
   "cell_type": "code",
   "execution_count": 22,
   "id": "8117b6ce",
   "metadata": {
    "execution": {
     "iopub.execute_input": "2022-06-03T08:01:47.849997Z",
     "iopub.status.busy": "2022-06-03T08:01:47.849350Z",
     "iopub.status.idle": "2022-06-03T08:01:52.191466Z",
     "shell.execute_reply": "2022-06-03T08:01:52.190161Z"
    },
    "papermill": {
     "duration": 4.363425,
     "end_time": "2022-06-03T08:01:52.193679",
     "exception": false,
     "start_time": "2022-06-03T08:01:47.830254",
     "status": "completed"
    },
    "tags": []
   },
   "outputs": [
    {
     "name": "stdout",
     "output_type": "stream",
     "text": [
      "[*********************100%***********************]  1 of 1 completed\n",
      "[*********************100%***********************]  1 of 1 completed\n",
      "[*********************100%***********************]  1 of 1 completed\n",
      "[*********************100%***********************]  1 of 1 completed\n"
     ]
    },
    {
     "data": {
      "text/html": [
       "<div>\n",
       "<style scoped>\n",
       "    .dataframe tbody tr th:only-of-type {\n",
       "        vertical-align: middle;\n",
       "    }\n",
       "\n",
       "    .dataframe tbody tr th {\n",
       "        vertical-align: top;\n",
       "    }\n",
       "\n",
       "    .dataframe thead th {\n",
       "        text-align: right;\n",
       "    }\n",
       "</style>\n",
       "<table border=\"1\" class=\"dataframe\">\n",
       "  <thead>\n",
       "    <tr style=\"text-align: right;\">\n",
       "      <th></th>\n",
       "      <th></th>\n",
       "      <th>Open</th>\n",
       "      <th>High</th>\n",
       "      <th>Low</th>\n",
       "      <th>Close</th>\n",
       "      <th>Adj Close</th>\n",
       "      <th>Volume</th>\n",
       "    </tr>\n",
       "    <tr>\n",
       "      <th>Ticker</th>\n",
       "      <th>Date</th>\n",
       "      <th></th>\n",
       "      <th></th>\n",
       "      <th></th>\n",
       "      <th></th>\n",
       "      <th></th>\n",
       "      <th></th>\n",
       "    </tr>\n",
       "  </thead>\n",
       "  <tbody>\n",
       "    <tr>\n",
       "      <th rowspan=\"5\" valign=\"top\">AAPL</th>\n",
       "      <th>2018-01-02</th>\n",
       "      <td>42.540001</td>\n",
       "      <td>43.075001</td>\n",
       "      <td>42.314999</td>\n",
       "      <td>43.064999</td>\n",
       "      <td>41.075405</td>\n",
       "      <td>102223600</td>\n",
       "    </tr>\n",
       "    <tr>\n",
       "      <th>2018-01-03</th>\n",
       "      <td>43.132500</td>\n",
       "      <td>43.637501</td>\n",
       "      <td>42.990002</td>\n",
       "      <td>43.057499</td>\n",
       "      <td>41.068245</td>\n",
       "      <td>118071600</td>\n",
       "    </tr>\n",
       "    <tr>\n",
       "      <th>2018-01-04</th>\n",
       "      <td>43.134998</td>\n",
       "      <td>43.367500</td>\n",
       "      <td>43.020000</td>\n",
       "      <td>43.257500</td>\n",
       "      <td>41.258999</td>\n",
       "      <td>89738400</td>\n",
       "    </tr>\n",
       "    <tr>\n",
       "      <th>2018-01-05</th>\n",
       "      <td>43.360001</td>\n",
       "      <td>43.842499</td>\n",
       "      <td>43.262501</td>\n",
       "      <td>43.750000</td>\n",
       "      <td>41.728756</td>\n",
       "      <td>94640000</td>\n",
       "    </tr>\n",
       "    <tr>\n",
       "      <th>2018-01-08</th>\n",
       "      <td>43.587502</td>\n",
       "      <td>43.902500</td>\n",
       "      <td>43.482498</td>\n",
       "      <td>43.587502</td>\n",
       "      <td>41.573765</td>\n",
       "      <td>82271200</td>\n",
       "    </tr>\n",
       "  </tbody>\n",
       "</table>\n",
       "</div>"
      ],
      "text/plain": [
       "                        Open       High        Low      Close  Adj Close  \\\n",
       "Ticker Date                                                                \n",
       "AAPL   2018-01-02  42.540001  43.075001  42.314999  43.064999  41.075405   \n",
       "       2018-01-03  43.132500  43.637501  42.990002  43.057499  41.068245   \n",
       "       2018-01-04  43.134998  43.367500  43.020000  43.257500  41.258999   \n",
       "       2018-01-05  43.360001  43.842499  43.262501  43.750000  41.728756   \n",
       "       2018-01-08  43.587502  43.902500  43.482498  43.587502  41.573765   \n",
       "\n",
       "                      Volume  \n",
       "Ticker Date                   \n",
       "AAPL   2018-01-02  102223600  \n",
       "       2018-01-03  118071600  \n",
       "       2018-01-04   89738400  \n",
       "       2018-01-05   94640000  \n",
       "       2018-01-08   82271200  "
      ]
     },
     "execution_count": 22,
     "metadata": {},
     "output_type": "execute_result"
    }
   ],
   "source": [
    "import yfinance as yf\n",
    "\n",
    "def get(tickers, startdate, enddate):\n",
    "    def data(ticker):\n",
    "        return (yf.download(ticker, start=startdate, end=enddate))\n",
    "    datas = map (data, tickers)\n",
    "    return(pd.concat(datas, keys=tickers, names=['Ticker', 'Date']))\n",
    "\n",
    "tickers = ['AAPL', 'MSFT', 'IBM', 'GOOG']\n",
    "all_data = get(tickers, datetime.datetime(2018, 1, 1), datetime.datetime(2022, 6, 1))\n",
    "all_data.head()"
   ]
  },
  {
   "cell_type": "markdown",
   "id": "a2931fb3",
   "metadata": {
    "papermill": {
     "duration": 0.018575,
     "end_time": "2022-06-03T08:01:52.231113",
     "exception": false,
     "start_time": "2022-06-03T08:01:52.212538",
     "status": "completed"
    },
    "tags": []
   },
   "source": [
    "**Note** that this code originally was used in [“Mastering Pandas for\n",
    "Finance”](http://shop.oreilly.com/product/9781783985104.do). It was\n",
    "updated for this tutorial to the new standards. Also be aware that,\n",
    "since the developers are still working on a more permanent fix to query\n",
    "data from the Yahoo! Finance API, it could be that you need to import\n",
    "the `fix_yahoo_finance` package. You can find the\n",
    "installation instructions\n",
    "[here](https://github.com/ranaroussi/fix-yahoo-finance) or check out\n",
    "[the Jupyter notebook]() that goes along with this tutorial.\n",
    "\n",
    "For the rest of this tutorial, you’re safe, as the data has been loaded\n",
    "in for you!\n",
    "\n",
    "\n",
    "You can then use the big DataFrame to start making some interesting\n",
    "plots:\n"
   ]
  },
  {
   "cell_type": "code",
   "execution_count": 23,
   "id": "107c9321",
   "metadata": {
    "execution": {
     "iopub.execute_input": "2022-06-03T08:01:52.269782Z",
     "iopub.status.busy": "2022-06-03T08:01:52.269387Z",
     "iopub.status.idle": "2022-06-03T08:01:53.098613Z",
     "shell.execute_reply": "2022-06-03T08:01:53.097553Z"
    },
    "papermill": {
     "duration": 0.851449,
     "end_time": "2022-06-03T08:01:53.101103",
     "exception": false,
     "start_time": "2022-06-03T08:01:52.249654",
     "status": "completed"
    },
    "tags": []
   },
   "outputs": [
    {
     "data": {
      "image/png": "[encoded data removed]",
      "text/plain": [
       "<Figure size 864x576 with 4 Axes>"
      ]
     },
     "metadata": {
      "needs_background": "light"
     },
     "output_type": "display_data"
    }
   ],
   "source": [
    "#all_data = pd.read_csv(\"https://s3.amazonaws.com/assets.datacamp.com/blog_assets/all_stock_data.csv\", index_col= [0,1], header=0, parse_dates=[1])\n",
    "\n",
    "daily_close_px = all_data[['Adj Close']].reset_index().pivot('Date', 'Ticker', 'Adj Close')\n",
    "\n",
    "# Calculate the daily percentage change for `daily_close_px`\n",
    "daily_pct_change = daily_close_px.pct_change()\n",
    "\n",
    "# Plot the distributions\n",
    "daily_pct_change.hist(bins=50, sharex=True, figsize=(12,8))\n",
    "\n",
    "# Show the resulting plot\n",
    "plt.show()"
   ]
  },
  {
   "cell_type": "markdown",
   "id": "638c021d",
   "metadata": {
    "papermill": {
     "duration": 0.019878,
     "end_time": "2022-06-03T08:01:53.140370",
     "exception": false,
     "start_time": "2022-06-03T08:01:53.120492",
     "status": "completed"
    },
    "tags": []
   },
   "source": [
    "Another useful plot is the scatter matrix. You can easily do this by\n",
    "using the `pandas` library. Don’t forget to add the\n",
    "`scatter_matrix()` function to your code so that you\n",
    "actually make a scatter matrix :) As arguments, you pass the\n",
    "`daily_pct_change` and as a diagonal, you set that you\n",
    "want to have a Kernel Density Estimate (KDE) plot. Additionally, you can\n",
    "set the transparency with the `alpha` argument and the\n",
    "figure size with `figsize`."
   ]
  },
  {
   "cell_type": "code",
   "execution_count": 24,
   "id": "2545abbf",
   "metadata": {
    "execution": {
     "iopub.execute_input": "2022-06-03T08:01:53.180247Z",
     "iopub.status.busy": "2022-06-03T08:01:53.179844Z",
     "iopub.status.idle": "2022-06-03T08:01:55.170386Z",
     "shell.execute_reply": "2022-06-03T08:01:55.169345Z"
    },
    "papermill": {
     "duration": 2.014219,
     "end_time": "2022-06-03T08:01:55.173651",
     "exception": false,
     "start_time": "2022-06-03T08:01:53.159432",
     "status": "completed"
    },
    "tags": []
   },
   "outputs": [
    {
     "data": {
      "image/png": "[encoded data removed]",
      "text/plain": [
       "<Figure size 864x864 with 16 Axes>"
      ]
     },
     "metadata": {
      "needs_background": "light"
     },
     "output_type": "display_data"
    }
   ],
   "source": [
    "# Plot a scatter matrix with the `daily_pct_change` data \n",
    "pd.plotting.scatter_matrix(daily_pct_change, diagonal='kde', alpha=0.1,figsize=(12,12))\n",
    "\n",
    "# Show the plot\n",
    "plt.show()"
   ]
  },
  {
   "cell_type": "markdown",
   "id": "9fb6496d",
   "metadata": {
    "papermill": {
     "duration": 0.021261,
     "end_time": "2022-06-03T08:01:55.217081",
     "exception": false,
     "start_time": "2022-06-03T08:01:55.195820",
     "status": "completed"
    },
    "tags": []
   },
   "source": [
    "**Note** that you might need to use the `plotting` module\n",
    "to make the scatter matrix (i.e.\n",
    "`pd.plotting.scatter_matrix()`) when you’re working\n",
    "locally. Also, it’s good to know that the Kernel Density Estimate plot\n",
    "estimates the probability density function of a random variable.\n",
    "\n",
    "Congratulations! You’ve successfully made it through the first common\n",
    "financial analysis, where you explored returns! Now it’s time to move on\n",
    "to the second one, which are the moving windows."
   ]
  },
  {
   "cell_type": "markdown",
   "id": "a3415dbc",
   "metadata": {
    "papermill": {
     "duration": 0.021123,
     "end_time": "2022-06-03T08:01:55.260015",
     "exception": false,
     "start_time": "2022-06-03T08:01:55.238892",
     "status": "completed"
    },
    "tags": []
   },
   "source": [
    "#### Moving Windows\n",
    "\n",
    "Moving windows are there when you compute the statistic on a window of\n",
    "data represented by a particular period of time and then slide the\n",
    "window across the data by a specified interval. That way, the statistic\n",
    "is continually calculated as long as the window falls first within the\n",
    "dates of the time series.\n",
    "\n",
    "There are a lot of functions in Pandas to calculate moving windows, such\n",
    "as `rolling_mean()`, `rolling_std()`, … See\n",
    "all of them\n",
    "[here](http://pandas.pydata.org/pandas-docs/version/0.17.0/api.html#standard-moving-window-functions).\n",
    "\n",
    "However, note that most of them will soon be deprecated, so it’s best to\n",
    "use a combination of the functions `rolling()` with\n",
    "`mean()` or `std()`,… Depending of course on\n",
    "which type of moving window you want to calculate exactly.\n",
    "\n",
    "But what does a moving window exactly mean for you?\n",
    "\n",
    "The exact meaning, of course, depends on the statistic that you’re\n",
    "applying to the data. For example, a rolling mean smoothes out\n",
    "short-term fluctuations and highlight longer-term trends in data.\n"
   ]
  },
  {
   "cell_type": "code",
   "execution_count": 25,
   "id": "0ac1f6f4",
   "metadata": {
    "execution": {
     "iopub.execute_input": "2022-06-03T08:01:55.305216Z",
     "iopub.status.busy": "2022-06-03T08:01:55.304272Z",
     "iopub.status.idle": "2022-06-03T08:01:55.314213Z",
     "shell.execute_reply": "2022-06-03T08:01:55.313570Z"
    },
    "papermill": {
     "duration": 0.034001,
     "end_time": "2022-06-03T08:01:55.315962",
     "exception": false,
     "start_time": "2022-06-03T08:01:55.281961",
     "status": "completed"
    },
    "tags": []
   },
   "outputs": [
    {
     "data": {
      "text/plain": [
       "Date\n",
       "2022-05-17    163.958239\n",
       "2022-05-18    163.264431\n",
       "2022-05-19    162.449173\n",
       "2022-05-20    161.543558\n",
       "2022-05-23    160.759716\n",
       "2022-05-24    159.885157\n",
       "2022-05-25    158.930721\n",
       "2022-05-26    158.087490\n",
       "2022-05-27    157.469645\n",
       "2022-05-31    156.839288\n",
       "Name: Adj Close, dtype: float64"
      ]
     },
     "execution_count": 25,
     "metadata": {},
     "output_type": "execute_result"
    }
   ],
   "source": [
    "# Isolate the adjusted closing prices \n",
    "adj_close_px = aapl['Adj Close']\n",
    "\n",
    "# Calculate the moving average\n",
    "moving_avg = adj_close_px.rolling(window=40).mean()\n",
    "\n",
    "# Inspect the result\n",
    "moving_avg[-10:]"
   ]
  },
  {
   "cell_type": "markdown",
   "id": "6a0832b1",
   "metadata": {
    "papermill": {
     "duration": 0.020971,
     "end_time": "2022-06-03T08:01:55.358438",
     "exception": false,
     "start_time": "2022-06-03T08:01:55.337467",
     "status": "completed"
    },
    "tags": []
   },
   "source": [
    "**Tip**: try out some of the other standard moving windows functions\n",
    "that come with the Pandas package, such as\n",
    "`rolling_max()`, `rolling_var()` or\n",
    "`rolling_median()`, in the IPython console. Note that you\n",
    "can also use `rolling()` in combination with\n",
    "`max()`, `var()` or `median()`\n",
    "to accomplish the same results! Remember that you can find more\n",
    "functions if you click on the link that’s provided in the text on top of\n",
    "this DataCamp Light chunk.\n",
    "\n",
    "Of course, you might not really understand what all of this is about.\n",
    "Maybe a simple plot, with the help of Matplotlib, can help you to\n",
    "understand the rolling mean and its actual meaning:"
   ]
  },
  {
   "cell_type": "code",
   "execution_count": 26,
   "id": "e10fa02b",
   "metadata": {
    "execution": {
     "iopub.execute_input": "2022-06-03T08:01:55.403054Z",
     "iopub.status.busy": "2022-06-03T08:01:55.402425Z",
     "iopub.status.idle": "2022-06-03T08:01:55.689955Z",
     "shell.execute_reply": "2022-06-03T08:01:55.688897Z"
    },
    "papermill": {
     "duration": 0.312379,
     "end_time": "2022-06-03T08:01:55.692298",
     "exception": false,
     "start_time": "2022-06-03T08:01:55.379919",
     "status": "completed"
    },
    "tags": []
   },
   "outputs": [
    {
     "data": {
      "image/png": "[encoded data removed]",
      "text/plain": [
       "<Figure size 432x288 with 1 Axes>"
      ]
     },
     "metadata": {
      "needs_background": "light"
     },
     "output_type": "display_data"
    }
   ],
   "source": [
    "# Short moving window rolling mean\n",
    "aapl['42'] = adj_close_px.rolling(window=40).mean()\n",
    "\n",
    "# Long moving window rolling mean\n",
    "aapl['252'] = adj_close_px.rolling(window=252).mean()\n",
    "\n",
    "# Plot the adjusted closing price, the short and long windows of rolling means\n",
    "aapl[['Adj Close', '42', '252']].plot()\n",
    "\n",
    "plt.show()"
   ]
  },
  {
   "cell_type": "markdown",
   "id": "ea46ea1e",
   "metadata": {
    "papermill": {
     "duration": 0.023012,
     "end_time": "2022-06-03T08:01:55.737428",
     "exception": false,
     "start_time": "2022-06-03T08:01:55.714416",
     "status": "completed"
    },
    "tags": []
   },
   "source": [
    "#### Volatility Calculation\n",
    "\n",
    "The volatility of a stock is a measurement of the change in variance in\n",
    "the returns of a stock over a specific period of time. It is common to\n",
    "compare the volatility of a stock with another stock to get a feel for\n",
    "which may have less risk or to a market index to examine the stock’s\n",
    "volatility in the overall market. Generally, the higher the volatility,\n",
    "the riskier the investment in that stock, which results in investing in\n",
    "one over another.\n",
    "\n",
    "the moving historical standard deviation of the log returns—i.e. the\n",
    "moving historical volatility—might be more of interest: Also make use of\n",
    "`pd.rolling_std(data, window=x) * math.sqrt(window)` for\n",
    "the moving historical standard deviation of the log returns (aka the\n",
    "moving historical volatility)."
   ]
  },
  {
   "cell_type": "code",
   "execution_count": 27,
   "id": "5686b6f7",
   "metadata": {
    "execution": {
     "iopub.execute_input": "2022-06-03T08:01:55.783574Z",
     "iopub.status.busy": "2022-06-03T08:01:55.783182Z",
     "iopub.status.idle": "2022-06-03T08:01:56.087070Z",
     "shell.execute_reply": "2022-06-03T08:01:56.086010Z"
    },
    "papermill": {
     "duration": 0.32952,
     "end_time": "2022-06-03T08:01:56.089270",
     "exception": false,
     "start_time": "2022-06-03T08:01:55.759750",
     "status": "completed"
    },
    "tags": []
   },
   "outputs": [
    {
     "data": {
      "image/png": "[encoded data removed]",
      "text/plain": [
       "<Figure size 720x576 with 1 Axes>"
      ]
     },
     "metadata": {
      "needs_background": "light"
     },
     "output_type": "display_data"
    }
   ],
   "source": [
    "# Define the minumum of periods to consider \n",
    "min_periods = 75 \n",
    "\n",
    "# Calculate the volatility\n",
    "vol = daily_pct_change.rolling(min_periods).std() * np.sqrt(min_periods) \n",
    "\n",
    "# Plot the volatility\n",
    "vol.plot(figsize=(10, 8))\n",
    "\n",
    "# Show the plot\n",
    "plt.show()"
   ]
  },
  {
   "cell_type": "markdown",
   "id": "146b66c4",
   "metadata": {
    "papermill": {
     "duration": 0.023235,
     "end_time": "2022-06-03T08:01:56.136110",
     "exception": false,
     "start_time": "2022-06-03T08:01:56.112875",
     "status": "completed"
    },
    "tags": []
   },
   "source": [
    "The volatility is calculated by taking a rolling window standard\n",
    "deviation on the percentage change in a stock. You can clearly see this\n",
    "in the code because you pass `daily_pct_change` and the\n",
    "`min_periods` to `rolling_std()`.\n",
    "\n",
    "Note that the size of the window can and will change the overall result:\n",
    "if you take the window wider and make `min_periods`\n",
    "larger, your result will become less representative. If you make it\n",
    "smaller and make the window more narrow, the result will come closer to\n",
    "the standard deviation.\n",
    "\n",
    "Considering all of this, you see that it’s definitely a skill to get the\n",
    "right window size based upon the data sampling frequency."
   ]
  },
  {
   "cell_type": "markdown",
   "id": "28ba157e",
   "metadata": {
    "papermill": {
     "duration": 0.023237,
     "end_time": "2022-06-03T08:01:56.183678",
     "exception": false,
     "start_time": "2022-06-03T08:01:56.160441",
     "status": "completed"
    },
    "tags": []
   },
   "source": [
    "#### Ordinary Least-Squares Regression (OLS)\n",
    "\n",
    "After all of the calculations, you might also perform a maybe more\n",
    "statistical analysis of your financial data, with a more traditional\n",
    "regression analysis, such as the Ordinary Least-Squares Regression\n",
    "(OLS).\n",
    "\n",
    "To do this, you have to make use of the `statsmodels`\n",
    "library, which not only provides you with the classes and functions to\n",
    "estimate many different statistical models but also allows you to\n",
    "conduct statistical tests and perform statistical data exploration.\n",
    "\n",
    "**Note** that you could indeed to the OLS regression with Pandas, but\n",
    "that the `ols` module is now deprecated and will be\n",
    "removed in future versions. It is therefore wise to use the\n",
    "`statsmodels` package."
   ]
  },
  {
   "cell_type": "code",
   "execution_count": 28,
   "id": "92904edc",
   "metadata": {
    "execution": {
     "iopub.execute_input": "2022-06-03T08:01:56.233304Z",
     "iopub.status.busy": "2022-06-03T08:01:56.232919Z",
     "iopub.status.idle": "2022-06-03T08:02:14.869082Z",
     "shell.execute_reply": "2022-06-03T08:02:14.866931Z"
    },
    "papermill": {
     "duration": 18.66371,
     "end_time": "2022-06-03T08:02:14.871250",
     "exception": false,
     "start_time": "2022-06-03T08:01:56.207540",
     "status": "completed"
    },
    "tags": []
   },
   "outputs": [
    {
     "name": "stdout",
     "output_type": "stream",
     "text": [
      "Requirement already satisfied: numpy in /opt/conda/lib/python3.7/site-packages (1.21.6)\r\n",
      "Requirement already satisfied: scipy in /opt/conda/lib/python3.7/site-packages (1.7.3)\r\n",
      "Requirement already satisfied: patsy in /opt/conda/lib/python3.7/site-packages (0.5.2)\r\n",
      "Requirement already satisfied: pandas in /opt/conda/lib/python3.7/site-packages (1.3.5)\r\n",
      "Requirement already satisfied: six in /opt/conda/lib/python3.7/site-packages (from patsy) (1.16.0)\r\n",
      "Requirement already satisfied: python-dateutil>=2.7.3 in /opt/conda/lib/python3.7/site-packages (from pandas) (2.8.2)\r\n",
      "Requirement already satisfied: pytz>=2017.3 in /opt/conda/lib/python3.7/site-packages (from pandas) (2022.1)\r\n",
      "\u001b[33mWARNING: Running pip as the 'root' user can result in broken permissions and conflicting behaviour with the system package manager. It is recommended to use a virtual environment instead: https://pip.pypa.io/warnings/venv\u001b[0m\u001b[33m\r\n",
      "\u001b[0mRequirement already satisfied: statsmodels in /opt/conda/lib/python3.7/site-packages (0.13.2)\r\n",
      "Requirement already satisfied: numpy>=1.17 in /opt/conda/lib/python3.7/site-packages (from statsmodels) (1.21.6)\r\n",
      "Requirement already satisfied: packaging>=21.3 in /opt/conda/lib/python3.7/site-packages (from statsmodels) (21.3)\r\n",
      "Requirement already satisfied: pandas>=0.25 in /opt/conda/lib/python3.7/site-packages (from statsmodels) (1.3.5)\r\n",
      "Requirement already satisfied: patsy>=0.5.2 in /opt/conda/lib/python3.7/site-packages (from statsmodels) (0.5.2)\r\n",
      "Requirement already satisfied: scipy>=1.3 in /opt/conda/lib/python3.7/site-packages (from statsmodels) (1.7.3)\r\n",
      "Requirement already satisfied: pyparsing!=3.0.5,>=2.0.2 in /opt/conda/lib/python3.7/site-packages (from packaging>=21.3->statsmodels) (3.0.9)\r\n",
      "Requirement already satisfied: python-dateutil>=2.7.3 in /opt/conda/lib/python3.7/site-packages (from pandas>=0.25->statsmodels) (2.8.2)\r\n",
      "Requirement already satisfied: pytz>=2017.3 in /opt/conda/lib/python3.7/site-packages (from pandas>=0.25->statsmodels) (2022.1)\r\n",
      "Requirement already satisfied: six in /opt/conda/lib/python3.7/site-packages (from patsy>=0.5.2->statsmodels) (1.16.0)\r\n",
      "\u001b[33mWARNING: Running pip as the 'root' user can result in broken permissions and conflicting behaviour with the system package manager. It is recommended to use a virtual environment instead: https://pip.pypa.io/warnings/venv\u001b[0m\u001b[33m\r\n",
      "\u001b[0m                            OLS Regression Results                            \n",
      "==============================================================================\n",
      "Dep. Variable:                   MSFT   R-squared:                       0.587\n",
      "Model:                            OLS   Adj. R-squared:                  0.586\n",
      "Method:                 Least Squares   F-statistic:                     1574.\n",
      "Date:                Fri, 03 Jun 2022   Prob (F-statistic):          6.69e-215\n",
      "Time:                        08:02:14   Log-Likelihood:                 3305.1\n",
      "No. Observations:                1110   AIC:                            -6606.\n",
      "Df Residuals:                    1108   BIC:                            -6596.\n",
      "Df Model:                           1                                         \n",
      "Covariance Type:            nonrobust                                         \n",
      "==============================================================================\n",
      "                 coef    std err          t      P>|t|      [0.025      0.975]\n",
      "------------------------------------------------------------------------------\n",
      "const          0.0003      0.000      0.733      0.464      -0.000       0.001\n",
      "AAPL           0.7030      0.018     39.671      0.000       0.668       0.738\n",
      "==============================================================================\n",
      "Omnibus:                       95.151   Durbin-Watson:                   2.302\n",
      "Prob(Omnibus):                  0.000   Jarque-Bera (JB):              549.107\n",
      "Skew:                          -0.045   Prob(JB):                    5.79e-120\n",
      "Kurtosis:                       6.444   Cond. No.                         47.9\n",
      "==============================================================================\n",
      "\n",
      "Notes:\n",
      "[1] Standard Errors assume that the covariance matrix of the errors is correctly specified.\n"
     ]
    }
   ],
   "source": [
    "!pip3 install numpy scipy patsy pandas\n",
    "\n",
    "!pip3 install statsmodels\n",
    "\n",
    "# Import the `api` model of `statsmodels` under alias `sm`\n",
    "import statsmodels.api as sm\n",
    "from pandas import tseries\n",
    "# from pandas.core import datetools # This module is deprecated\n",
    "\n",
    "# Isolate the adjusted closing price\n",
    "all_adj_close = all_data[['Adj Close']]\n",
    "\n",
    "# Calculate the returns \n",
    "all_returns = np.log(all_adj_close / all_adj_close.shift(1))\n",
    "\n",
    "# Isolate the AAPL returns \n",
    "aapl_returns = all_returns.iloc[all_returns.index.get_level_values('Ticker') == 'AAPL']\n",
    "aapl_returns.index = aapl_returns.index.droplevel('Ticker')\n",
    "\n",
    "# Isolate the MSFT returns\n",
    "msft_returns = all_returns.iloc[all_returns.index.get_level_values('Ticker') == 'MSFT']\n",
    "msft_returns.index = msft_returns.index.droplevel('Ticker')\n",
    "\n",
    "# Build up a new DataFrame with AAPL and MSFT returns\n",
    "return_data = pd.concat([aapl_returns, msft_returns], axis=1)[1:]\n",
    "return_data.columns = ['AAPL', 'MSFT']\n",
    "\n",
    "# Add a constant \n",
    "X = sm.add_constant(return_data['AAPL'])\n",
    "\n",
    "# Construct the model\n",
    "model = sm.OLS(return_data['MSFT'],X).fit()\n",
    "\n",
    "# Print the summary\n",
    "print(model.summary())"
   ]
  },
  {
   "cell_type": "markdown",
   "id": "403170f4",
   "metadata": {
    "papermill": {
     "duration": 0.024228,
     "end_time": "2022-06-03T08:02:14.919680",
     "exception": false,
     "start_time": "2022-06-03T08:02:14.895452",
     "status": "completed"
    },
    "tags": []
   },
   "source": [
    "Note that you add `[1:]` to the concatenation of the AAPL\n",
    "and MSFT return data so that you don’t have any NaN values that can\n",
    "interfere with your model.\n",
    "\n",
    "Things to look out for when you’re studying the result of the model\n",
    "summary are the following:\n",
    "\n",
    "-   The `Dep. Variable`, which indicates which variable is\n",
    "    the response in the model\n",
    "-   The `Model`, in this case, is `OLS`.\n",
    "    It’s the model you’re using in the fit\n",
    "-   Additionally, you also have the `Method` to indicate\n",
    "    how the parameters of the model were calculated. In this case, you\n",
    "    see that this is set at `Least Squares`.\n",
    "\n",
    "\n",
    "Up until now, you haven’t seen much new information. You have basically\n",
    "set all of these in the code that you ran in the DataCamp Light chunk.\n",
    "However, there are also other things that you could find interesting,\n",
    "such as:\n",
    "\n",
    "-   The number of observations (`No. Observations`). Note\n",
    "    that you could also derive this with the Pandas package by using the\n",
    "    `info()` function. Run\n",
    "    `return_data.info()` in the IPython console of the\n",
    "    DataCamp Light chunk above to confirm this.\n",
    "-   The degree of freedom of the residuals\n",
    "    (`DF Residuals`)\n",
    "-   The number of parameters in the model, indicated by\n",
    "    `DF Model`; Note that the number doesn’t include the\n",
    "    constant term `X` which was defined in the code above.\n",
    "\n",
    "\n",
    "This was basically the whole left column that you went over. The right\n",
    "column gives you some more insight into the goodness of the fit. You\n",
    "see, for example:\n",
    "\n",
    "-   `R-squared`, which is the coefficient of\n",
    "    determination. This score indicates how well the regression line\n",
    "    approximates the real data points. In this case, the result is\n",
    "    `0.280`. In percentages, this means that the score is\n",
    "    at 28%. When the score is 0%, it indicates that the model explains\n",
    "    none of the variability of the response data around its mean. Of\n",
    "    course, a score of 100% indicates the opposite.\n",
    "-   You also see the `Adj. R-squared` score, which at\n",
    "    first sight gives the same number. However, the calculation behind\n",
    "    this metric adjusts the R-Squared value based on the number of\n",
    "    observations and the degrees-of-freedom of the residuals (registered\n",
    "    in `DF Residuals`). The adjustment in this case hasn’t\n",
    "    had much effect, as the result of the adjusted score is still the\n",
    "    same as the regular R-squared score.\n",
    "-   The `F-statistic` measures how significant the fit is.\n",
    "    It is calculated by dividing the mean squared error of the model by\n",
    "    the mean squared error of the residuals. The F-statistic for this\n",
    "    model is `514.2`.\n",
    "-   Next, there’s also the `Prob (F-statistic)`, which\n",
    "    indicates the probability that you would get the result of the\n",
    "    `F-statistic`, given the null hypothesis that they are\n",
    "    unrelated.\n",
    "-   The `Log-likelihood` indicates the log of the\n",
    "    likelihood function, which is, in this case `3513.2`.\n",
    "-   The `AIC` is the Akaike Information Criterion: this\n",
    "    metric adjusts the log-likelihood based on the number of\n",
    "    observations and the complexity of the model. The AIC of this model\n",
    "    is `-7022`.\n",
    "-   Lastly, the `BIC` or the Bayesian Information\n",
    "    Criterion, is similar to the AIC that you just have seen, but it\n",
    "    penalizes models with more parameters more severely. Given the fact\n",
    "    that this model only has one parameter (check\n",
    "    `DF Model`), the BIC score will be the same as the AIC\n",
    "    score.\n",
    "\n",
    "\n",
    "Below the first part of the model summary, you see reports for each of\n",
    "the model’s coefficients:\n",
    "\n",
    "-   The estimated value of the coefficient is registered at\n",
    "    `coef`.\n",
    "-   `std err` is the standard error of the estimate of the\n",
    "    coefficient.\n",
    "-   There’s also the t-statistic value, which you’ll find under\n",
    "    `t`. This metric is used to measure how statistically\n",
    "    significant a coefficient is.\n",
    "-   `P > |t|` indicates the null-hypothesis that the\n",
    "    coefficient = 0 is true. If it is less than the confidence level,\n",
    "    often 0.05, it indicates that there is a statistically significant\n",
    "    relationship between the term and the response. In this case, you\n",
    "    see that the constant has a value of `0.198`, while\n",
    "    `AAPL` is set at `0.000`.\n",
    "\n",
    "\n",
    "Lastly, there is a final part of the model summary in which you’ll see\n",
    "other statistical tests to assess the distribution of the residuals:\n",
    "\n",
    "-   `Omnibus`, which is the Omnibus D’Angostino’s test: it\n",
    "    provides a combined statistical test for the presence of skewness\n",
    "    and kurtosis.\n",
    "-   The `Prob(Omnibus)` is the `Omnibus`\n",
    "    metric turned into a probability.\n",
    "-   Next, the `Skew` or Skewness measures the symmetry of\n",
    "    the data about the mean.\n",
    "-   The `Kurtosis` gives an indication of the shape of the\n",
    "    distribution, as it compares the amount of data close to the mean\n",
    "    with those far away from the mean (in the tails).\n",
    "-   `Durbin-Watson` is a test for the presence of\n",
    "    autocorrelation, and the `Jarque-Bera` is another test\n",
    "    of the skewness and kurtosis. You can also turn the result of this\n",
    "    test into a probability, as you can see in\n",
    "    `Prob (JB)`.\n",
    "-   Lastly, you have the `Cond. No`, which tests the\n",
    "    multicollinearity.\n",
    "\n",
    "\n",
    "You can plot the Ordinary Least-Squares Regression with the help of\n",
    "Matplotlib:\n",
    "\n"
   ]
  },
  {
   "cell_type": "code",
   "execution_count": 29,
   "id": "13c5618c",
   "metadata": {
    "execution": {
     "iopub.execute_input": "2022-06-03T08:02:14.971100Z",
     "iopub.status.busy": "2022-06-03T08:02:14.970406Z",
     "iopub.status.idle": "2022-06-03T08:02:15.163149Z",
     "shell.execute_reply": "2022-06-03T08:02:15.162368Z"
    },
    "papermill": {
     "duration": 0.220437,
     "end_time": "2022-06-03T08:02:15.165216",
     "exception": false,
     "start_time": "2022-06-03T08:02:14.944779",
     "status": "completed"
    },
    "tags": []
   },
   "outputs": [
    {
     "data": {
      "image/png": "[encoded data removed]",
      "text/plain": [
       "<Figure size 432x288 with 1 Axes>"
      ]
     },
     "metadata": {
      "needs_background": "light"
     },
     "output_type": "display_data"
    }
   ],
   "source": [
    "plt.plot(return_data['AAPL'], return_data['MSFT'], 'r.')\n",
    "\n",
    "ax = plt.axis()\n",
    "x = np.linspace(ax[0], ax[1] + 0.01)\n",
    "\n",
    "plt.plot(x, model.params[0] + model.params[1] * x, 'b', lw=2)\n",
    "\n",
    "plt.grid(True)\n",
    "plt.axis('tight')\n",
    "plt.xlabel('Apple Returns')\n",
    "plt.ylabel('Microsoft returns')\n",
    "\n",
    "plt.show()"
   ]
  },
  {
   "cell_type": "markdown",
   "id": "b7756944",
   "metadata": {
    "papermill": {
     "duration": 0.024477,
     "end_time": "2022-06-03T08:02:15.214074",
     "exception": false,
     "start_time": "2022-06-03T08:02:15.189597",
     "status": "completed"
    },
    "tags": []
   },
   "source": [
    "Note that you can also use the rolling correlation of returns as a way\n",
    "to crosscheck your results. You can handily make use of the Matplotlib\n",
    "integration with Pandas to call the `plot()` function on\n",
    "the results of the rolling correlation:"
   ]
  },
  {
   "cell_type": "code",
   "execution_count": 30,
   "id": "0b93cd3d",
   "metadata": {
    "execution": {
     "iopub.execute_input": "2022-06-03T08:02:15.265172Z",
     "iopub.status.busy": "2022-06-03T08:02:15.264813Z",
     "iopub.status.idle": "2022-06-03T08:02:15.513963Z",
     "shell.execute_reply": "2022-06-03T08:02:15.512960Z"
    },
    "papermill": {
     "duration": 0.277115,
     "end_time": "2022-06-03T08:02:15.515871",
     "exception": false,
     "start_time": "2022-06-03T08:02:15.238756",
     "status": "completed"
    },
    "tags": []
   },
   "outputs": [
    {
     "data": {
      "image/png": "[encoded data removed]",
      "text/plain": [
       "<Figure size 432x288 with 1 Axes>"
      ]
     },
     "metadata": {
      "needs_background": "light"
     },
     "output_type": "display_data"
    }
   ],
   "source": [
    "return_data['MSFT'].rolling(window=252).corr(return_data['AAPL']).plot()\n",
    "plt.show()"
   ]
  },
  {
   "cell_type": "markdown",
   "id": "45b0d860",
   "metadata": {
    "papermill": {
     "duration": 0.024907,
     "end_time": "2022-06-03T08:02:15.565987",
     "exception": false,
     "start_time": "2022-06-03T08:02:15.541080",
     "status": "completed"
    },
    "tags": []
   },
   "source": [
    "## Building A Trading Strategy With Python \n",
    "---------------------------------------\n",
    "\n",
    "Now that you have done some primary analyses to your data, it’s time to\n",
    "formulate your first trading strategy; But before you go into all of\n",
    "this, why not first get to know some of the most common trading\n",
    "strategies? After a short introduction, you’ll undoubtedly move on more\n",
    "easily your trading strategy.\n",
    "\n",
    "### Common Trading Strategies\n",
    "\n",
    "From the introduction, you’ll still remember that a trading strategy is\n",
    "a fixed plan to go long or short in markets, but much more information\n",
    "you didn’t really get yet; In general, there are two common trading\n",
    "strategies: the momentum strategy and the reversion strategy.\n",
    "\n",
    "Firstly, the **momentum strategy** is also called divergence or trend\n",
    "trading. When you follow this strategy, you do so because you believe\n",
    "the movement of a quantity will continue in its current direction.\n",
    "Stated differently, you believe that stocks have momentum or upward or\n",
    "downward trends, that you can detect and exploit.\n",
    "\n",
    "Some examples of this strategy are the moving average crossover, the\n",
    "dual moving average crossover, and turtle trading:\n",
    "\n",
    "-   The moving average crossover is when the price of an asset moves\n",
    "    from one side of a moving average to the other. This crossover\n",
    "    represents a change in momentum and can be used as a point of making\n",
    "    the decision to enter or exit the market. You’ll see an example of\n",
    "    this strategy, which is the “hello world” of quantitative trading\n",
    "    later on in this tutorial.\n",
    "-   The dual moving average crossover occurs when a short-term average\n",
    "    crosses a long-term average. This signal is used to identify that\n",
    "    momentum is shifting in the direction of the short-term average. A\n",
    "    buy signal is generated when the short-term average crosses the\n",
    "    long-term average and rises above it, while a sell signal is\n",
    "    triggered by a short-term average crossing long-term average and\n",
    "    falling below it.\n",
    "-   Turtle trading is a popular trend following strategy that was\n",
    "    initially taught by Richard Dennis. The basic strategy is to buy\n",
    "    futures on a 20-day high and sell on a 20-day low.\n",
    "\n",
    "\n",
    "Secondly, the **reversion strategy**, which is also known as convergence\n",
    "or cycle trading. This strategy departs from the belief that the\n",
    "movement of a quantity will eventually reverse. This might seem a little\n",
    "bit abstract, but will not be so anymore when you take the example. Take\n",
    "a look at the mean reversion strategy, where you actually believe that\n",
    "stocks return to their mean and that you can exploit when it deviates\n",
    "from that mean.\n",
    "\n",
    "That already sounds a whole lot more practical, right?\n",
    "\n",
    "Another example of this strategy, besides the mean reversion strategy,\n",
    "is the pairs trading mean-reversion, which is similar to the mean\n",
    "reversion strategy. Whereas the mean reversion strategy basically stated\n",
    "that stocks return to their mean, the pairs trading strategy extends\n",
    "this and states that if two stocks can be identified that have a\n",
    "relatively high correlation, the change in the difference in price\n",
    "between the two stocks can be used to signal trading events if one of\n",
    "the two moves out of correlation with the other. That means that if the\n",
    "correlation between two stocks has decreased, the stock with the higher\n",
    "price can be considered to be in a short position. It should be sold\n",
    "because the higher-priced stock will return to the mean. The\n",
    "lower-priced stock, on the other hand, will be in a long position\n",
    "because the price will rise as the correlation will return to normal.\n",
    "\n",
    "Besides these two most frequent strategies, there are also other ones\n",
    "that you might come across once in a while, such as the forecasting\n",
    "strategy, which attempts to predict the direction or value of a stock,\n",
    "in this case, in subsequent future time periods based on certain\n",
    "historical factors. There’s also the High-Frequency Trading (HFT)\n",
    "strategy, which exploits the sub-millisecond market microstructure.\n",
    "\n",
    "That’s all music for the future for now; Let’s focus on developing your\n",
    "first trading strategy for now!\n",
    "\n",
    "### A Simple Trading Strategy\n",
    "\n",
    "As you read above, you’ll start with the “hello world” of quantitative\n",
    "trading: the moving average crossover. The strategy that you’ll be\n",
    "developing is simple: you create two separate Simple Moving Averages\n",
    "(SMA) of a time series with differing lookback periods, let’s say, 40\n",
    "days and 100 days. If the short moving average exceeds the long moving\n",
    "average then you go long, if the long moving average exceeds the short\n",
    "moving average then you exit.\n",
    "\n",
    "**Remember** that when you go long, you think that the stock price will\n",
    "go up and will sell at a higher price in the future (= buy signal); When\n",
    "you go short, you sell your stock, expecting that you can buy it back at\n",
    "a lower price and realize a profit (= sell signal).\n",
    "\n",
    "This simple strategy might seem quite complex when you’re just starting\n",
    "out, but let’s take this step by step:\n",
    "\n",
    "-   First define your two different lookback periods: a short window and\n",
    "    a long window. You set up two variables and assign one integer per\n",
    "    variable. Make sure that the integer that you assign to the short\n",
    "    window is shorter than the integer that you assign to the long\n",
    "    window variable!\n",
    "-   Next, make an empty `signals` DataFrame, but do make\n",
    "    sure to copy the index of your `aapl` data so that you\n",
    "    can start calculating the daily buy or sell signal for your\n",
    "    `aapl` data.\n",
    "-   Create a column in your empty `signals` DataFrame that\n",
    "    is named `signal` and initialize it by setting the\n",
    "    value for all rows in this column to `0.0`.\n",
    "-   After the preparatory work, it’s time to create the set of short and\n",
    "    long simple moving averages over the respective long and short time\n",
    "    windows. Make use of the `rolling()` function to start\n",
    "    your rolling window calculations: within the function, specify the\n",
    "    `window` and the `min_period`, and set\n",
    "    the `center` argument. In practice, this will result\n",
    "    in a `rolling()` function to which you have passed\n",
    "    either `short_window` or `long_window`,\n",
    "    `1` as the minimum number of observations in the\n",
    "    window that are required to have a value, and `False`,\n",
    "    so that the labels are not set at the center of the window. Next,\n",
    "    don’t forget to also chain the `mean()` function so\n",
    "    that you calculate the rolling mean.\n",
    "-   After you have calculated the mean average of the short and long\n",
    "    windows, you should create a signal when the short moving average\n",
    "    crosses the long moving average, but only for the period greater\n",
    "    than the shortest moving average window. In Python, this will result\n",
    "    in a condition:\n",
    "    `signals['short_mavg'][short_window:] > signals['long_mavg'][short_window:]`.\n",
    "    Note that you add the `[short_window:]` to comply with\n",
    "    the condition “only for the period greater than the shortest moving\n",
    "    average window”. When the condition is true, the initialized value\n",
    "    `0.0` in the `signal` column will be\n",
    "    overwritten with `1.0`. A “signal” is created! If the\n",
    "    condition is false, the original value of `0.0` will\n",
    "    be kept and no signal is generated. You use the NumPy\n",
    "    `where()` function to set up this condition. Much the\n",
    "    same like you read just now, the variable to which you assign this\n",
    "    result is `signals['signal'][short_window]`, because\n",
    "    you only want to create signals for the period greater than the\n",
    "    shortest moving average window!\n",
    "-   Lastly, you take the difference of the signals in order to generate\n",
    "    actual trading orders. In other words, in this column of your\n",
    "    `signals` DataFrame, you’ll be able to distinguish\n",
    "    between long and short positions, whether you’re buying or selling\n",
    "    stock.\n",
    "\n",
    "\n",
    "Try all of this out below:"
   ]
  },
  {
   "cell_type": "code",
   "execution_count": 31,
   "id": "31b0e4da",
   "metadata": {
    "execution": {
     "iopub.execute_input": "2022-06-03T08:02:15.617557Z",
     "iopub.status.busy": "2022-06-03T08:02:15.617168Z",
     "iopub.status.idle": "2022-06-03T08:02:15.633350Z",
     "shell.execute_reply": "2022-06-03T08:02:15.632374Z"
    },
    "papermill": {
     "duration": 0.044288,
     "end_time": "2022-06-03T08:02:15.635176",
     "exception": false,
     "start_time": "2022-06-03T08:02:15.590888",
     "status": "completed"
    },
    "tags": []
   },
   "outputs": [],
   "source": [
    "# Initialize the short and long windows\n",
    "short_window = 40\n",
    "long_window = 100\n",
    "\n",
    "# Initialize the `signals` DataFrame with the `signal` column\n",
    "signals = pd.DataFrame(index=aapl.index)\n",
    "signals['signal'] = 0.0\n",
    "\n",
    "# Create short simple moving average over the short window\n",
    "signals['short_mavg'] = aapl['Close'].rolling(window=short_window, min_periods=1, center=False).mean()\n",
    "\n",
    "# Create long simple moving average over the long window\n",
    "signals['long_mavg'] = aapl['Close'].rolling(window=long_window, min_periods=1, center=False).mean()\n",
    "\n",
    "# Create signals\n",
    "signals['signal'][short_window:] = np.where(signals['short_mavg'][short_window:] \n",
    "                                            > signals['long_mavg'][short_window:], 1.0, 0.0)   \n",
    "\n",
    "# Generate trading orders\n",
    "signals['positions'] = signals['signal'].diff()"
   ]
  },
  {
   "cell_type": "markdown",
   "id": "805a4a86",
   "metadata": {
    "papermill": {
     "duration": 0.024722,
     "end_time": "2022-06-03T08:02:15.684851",
     "exception": false,
     "start_time": "2022-06-03T08:02:15.660129",
     "status": "completed"
    },
    "tags": []
   },
   "source": [
    "This wasn’t too hard, was it? Print out the `signals`\n",
    "DataFrame and inspect the results. Important to grasp here is what the\n",
    "`positions` and the `signal` columns mean in\n",
    "this DataFrame. You’ll see that it will become very important when you\n",
    "move on!\n",
    "\n",
    "When you have taken the time to understand the results of your trading\n",
    "strategy, quickly plot all of this (the short and long moving averages,\n",
    "together with the buy and sell signals) with Matplotlib:"
   ]
  },
  {
   "cell_type": "code",
   "execution_count": 32,
   "id": "67be55f8",
   "metadata": {
    "execution": {
     "iopub.execute_input": "2022-06-03T08:02:15.736697Z",
     "iopub.status.busy": "2022-06-03T08:02:15.736297Z",
     "iopub.status.idle": "2022-06-03T08:02:16.048547Z",
     "shell.execute_reply": "2022-06-03T08:02:16.047495Z"
    },
    "papermill": {
     "duration": 0.340961,
     "end_time": "2022-06-03T08:02:16.050781",
     "exception": false,
     "start_time": "2022-06-03T08:02:15.709820",
     "status": "completed"
    },
    "tags": []
   },
   "outputs": [
    {
     "data": {
      "image/png": "[encoded data removed]",
      "text/plain": [
       "<Figure size 432x288 with 1 Axes>"
      ]
     },
     "metadata": {
      "needs_background": "light"
     },
     "output_type": "display_data"
    }
   ],
   "source": [
    "# Initialize the plot figure\n",
    "fig = plt.figure()\n",
    "\n",
    "# Add a subplot and label for y-axis\n",
    "ax1 = fig.add_subplot(111,  ylabel='Price in $')\n",
    "\n",
    "# Plot the closing price\n",
    "aapl['Close'].plot(ax=ax1, color='r', lw=2.)\n",
    "\n",
    "# Plot the short and long moving averages\n",
    "signals[['short_mavg', 'long_mavg']].plot(ax=ax1, lw=2.)\n",
    "\n",
    "# Plot the buy signals\n",
    "ax1.plot(signals.loc[signals.positions == 1.0].index, \n",
    "         signals.short_mavg[signals.positions == 1.0],\n",
    "         '^', markersize=10, color='m')\n",
    "         \n",
    "# Plot the sell signals\n",
    "ax1.plot(signals.loc[signals.positions == -1.0].index, \n",
    "         signals.short_mavg[signals.positions == -1.0],\n",
    "         'v', markersize=10, color='k')\n",
    "         \n",
    "# Show the plot\n",
    "plt.show()"
   ]
  },
  {
   "cell_type": "markdown",
   "id": "81cc1bca",
   "metadata": {
    "papermill": {
     "duration": 0.025697,
     "end_time": "2022-06-03T08:02:16.102171",
     "exception": false,
     "start_time": "2022-06-03T08:02:16.076474",
     "status": "completed"
    },
    "tags": []
   },
   "source": [
    "The result is pretty cool, isn’t it?\n"
   ]
  },
  {
   "cell_type": "markdown",
   "id": "87748d2d",
   "metadata": {
    "papermill": {
     "duration": 0.025132,
     "end_time": "2022-06-03T08:02:16.152980",
     "exception": false,
     "start_time": "2022-06-03T08:02:16.127848",
     "status": "completed"
    },
    "tags": []
   },
   "source": [
    "## Backtesting The Trading Strategy\n",
    "--------------------------------\n",
    "\n",
    "Now that you’ve got your trading strategy at hand, it’s a good idea to\n",
    "also backtest it and calculate its performance. But right before you go\n",
    "deeper into this, you might want to know just a little bit more about\n",
    "the pitfalls of backtesting, what components are needed in a backtester\n",
    "and what Python tools you can use to backtest your simple algorithm.\n",
    "\n",
    "If, however, you’re already well up to date, you can simply move on to\n",
    "the implementation of your backtester!\n",
    "\n",
    "### Backtesting Pitfalls\n",
    "\n",
    "Backtesting is, besides just “testing a trading strategy”, testing the\n",
    "strategy on relevant historical data to make sure that it’s an actual\n",
    "viable strategy before you start making moves. With backtesting, a\n",
    "trader can simulate and analyze the risk and profitability of trading\n",
    "with a specific strategy over a period of time. However, when you’re\n",
    "backtesting, it’s a good idea to keep in mind that there are some\n",
    "pitfalls, which might not be obvious to you when you’re just starting\n",
    "out.\n",
    "\n",
    "For example, there are external events, such as market regime shifts,\n",
    "which are regulatory changes or macroeconomic events, which definitely\n",
    "influence your backtesting. Also, liquidity constraints, such as the ban\n",
    "of short sales, could affect your backtesting heavily.\n",
    "\n",
    "Next, there are pitfalls which you might introduce yourself when you,\n",
    "for example, overfit a model (optimization bias), when you ignore\n",
    "strategy rules because you think it’s better like that (interference),\n",
    "or when you accidentally introduce information into past data (lookahead\n",
    "bias).\n",
    "\n",
    "These are just a few pitfalls that you need to take into account mainly\n",
    "after this tutorial, when you go and make your own strategies and\n",
    "backtest them.\n",
    "\n",
    "### Backtesting Components\n",
    "\n",
    "Besides the pitfalls, it’s good to know that your backtester usually\n",
    "consists of some four essential components, which should usually present\n",
    "in every backtester:\n",
    "\n",
    "-   A data handler, which is an interface to a set of data,\n",
    "-   A strategy, which generates a signal to go long or go short based on\n",
    "    the data,\n",
    "-   A portfolio, which generates orders and manages Profit & Loss (also\n",
    "    known as “PnL”), and\n",
    "-   An execution handler, which sends the order to the broker and\n",
    "    receives the “fills” or signals that the stock has been bought or\n",
    "    sold.\n",
    "\n",
    "\n",
    "Besides these four components, there are many more that you can add to\n",
    "your backtester, depending on the complexity. You can definitely go a\n",
    "lot further than just these four components. However, for this beginner\n",
    "tutorial, you’ll just focus on getting these basic components to work in\n",
    "your code.\n",
    "\n",
    "### Python Tools\n",
    "\n",
    "To implement the backtesting, you can make use of some other tools\n",
    "besides Pandas, which you have already used extensively in the first\n",
    "part of this tutorial to perform some financial analyses on your data.\n",
    "Apart from Pandas, there is, for example, also NumPy and SciPy, which\n",
    "provide, vectorization, optimization and linear algebra routines which\n",
    "you can use when you’re developing trading strategies.\n",
    "\n",
    "Also Scikit-Learn, the Python Machine Learning library, can come in\n",
    "handy when you’re working with forecasting strategies, as they offer\n",
    "everything you need to create regression and classification models. For\n",
    "an introduction to this library, consider DataCamp’s [Supervised\n",
    "Learning With\n",
    "Scikit-Learn](https://www.datacamp.com/courses/supervised-learning-with-scikit-learn)\n",
    "course. If, however, you want to make use of a statistical library for,\n",
    "for example, time series analysis, the `statsmodels`\n",
    "library is ideal. You briefly used this library already in this tutorial\n",
    "when you were performing the Ordinary Least-Squares Regression (OLS).\n",
    "\n",
    "Lastly, there’s also the [IbPy](https://github.com/blampe/IbPy) and\n",
    "[ZipLine](https://github.com/quantopian/zipline) libraries. The former\n",
    "offers you a Python API for the Interactive Brokers online trading\n",
    "system: you’ll get all the functionality to connect to [Interactive\n",
    "Brokers](https://www.interactivebrokers.com/en/home.php), request stock\n",
    "ticker data, submit orders for stocks,… The latter is an all-in-one\n",
    "Python backtesting framework that powers\n",
    "[Quantopian](www.quantopian.com), which you’ll use in this tutorial.\n",
    "\n",
    "### Implementation Of A Simple Backtester\n",
    "\n",
    "As you read above, a simple backtester consists of a strategy, a data\n",
    "handler, a portfolio and an execution handler. You have already\n",
    "implemented a strategy above, and you also have access to a data\n",
    "handler, which is the `pandas-datareader` or the Pandas\n",
    "library that you use to get your saved data from Excel into Python. The\n",
    "components that are still left to implement are the execution handler\n",
    "and the portfolio.\n",
    "\n",
    "However, since you’re just starting out, you’ll not focus on\n",
    "implementing an execution handler just yet. Instead, you’ll see below\n",
    "how you can get started on creating a portfolio which can generate\n",
    "orders and manages the profit and loss:\n",
    "\n",
    "-   First off, you’ll create set a variable\n",
    "    `initial_capital` to set your initial capital and a\n",
    "    new DataFrame `positions`. Once again, you copy the\n",
    "    index from another DataFrame; In this case, this is the\n",
    "    `signals` DataFrame because you want to consider the\n",
    "    time frame for which you have generated the signals.\n",
    "-   Next, you create a new column `AAPL` in the DataFrame.\n",
    "    On the days that the signal is 1 and the short moving average\n",
    "    crosses the long moving average (for the period greater than the\n",
    "    shortest moving average window), you’ll buy a 100 shares. The days\n",
    "    on which the signal is 0, the final result will be 0 as a result of\n",
    "    the operation `100*signals['signal']`.\n",
    "-   A new DataFrame `portfolio` is created to store the\n",
    "    market value of an open position.\n",
    "-   Next, you create a DataFrame that stores the differences in\n",
    "    positions (or number of stock)\n",
    "-   Then the real backtesting begins: you create a new column to the\n",
    "    `portfolio` DataFrame with name\n",
    "    `holdings`, which stores the value of the positions or\n",
    "    shares you have bought, multiplied by the ‘Adj Close’ price.\n",
    "-   Your `portfolio` also contains a `cash`\n",
    "    column, which is the capital that you still have left to spend: it\n",
    "    is calculated by taking your `initial_capital` and\n",
    "    subtracting your holdings (the price that you paid for buying\n",
    "    stock).\n",
    "-   You’ll also add a `total` column to your\n",
    "    `portfolio` DataFrame, which contains the sum of your\n",
    "    cash and the holdings that you own, and\n",
    "-   Lastly, you also add a `returns` column to your\n",
    "    portfolio, in which you’ll store the returns\n"
   ]
  },
  {
   "cell_type": "code",
   "execution_count": 33,
   "id": "4762fd4c",
   "metadata": {
    "execution": {
     "iopub.execute_input": "2022-06-03T08:02:16.205197Z",
     "iopub.status.busy": "2022-06-03T08:02:16.204821Z",
     "iopub.status.idle": "2022-06-03T08:02:16.223480Z",
     "shell.execute_reply": "2022-06-03T08:02:16.222657Z"
    },
    "papermill": {
     "duration": 0.047669,
     "end_time": "2022-06-03T08:02:16.225899",
     "exception": false,
     "start_time": "2022-06-03T08:02:16.178230",
     "status": "completed"
    },
    "tags": []
   },
   "outputs": [
    {
     "name": "stdout",
     "output_type": "stream",
     "text": [
      "            AAPL  holdings      cash     total  returns\n",
      "Date                                                   \n",
      "2018-01-02   0.0       0.0  100000.0  100000.0      NaN\n",
      "2018-01-03   0.0       0.0  100000.0  100000.0      0.0\n",
      "2018-01-04   0.0       0.0  100000.0  100000.0      0.0\n",
      "2018-01-05   0.0       0.0  100000.0  100000.0      0.0\n",
      "2018-01-08   0.0       0.0  100000.0  100000.0      0.0\n"
     ]
    }
   ],
   "source": [
    "# Set the initial capital\n",
    "initial_capital= float(100000.0)\n",
    "\n",
    "# Create a DataFrame `positions`\n",
    "positions = pd.DataFrame(index=signals.index).fillna(0.0)\n",
    "\n",
    "# Buy a 100 shares\n",
    "positions['AAPL'] = 100*signals['signal']   \n",
    "  \n",
    "# Initialize the portfolio with value owned   \n",
    "portfolio = positions.multiply(aapl['Adj Close'], axis=0)\n",
    "\n",
    "# Store the difference in shares owned \n",
    "pos_diff = positions.diff()\n",
    "\n",
    "# Add `holdings` to portfolio\n",
    "portfolio['holdings'] = (positions.multiply(aapl['Adj Close'], axis=0)).sum(axis=1)\n",
    "\n",
    "# Add `cash` to portfolio\n",
    "portfolio['cash'] = initial_capital - (pos_diff.multiply(aapl['Adj Close'], axis=0)).sum(axis=1).cumsum()   \n",
    "\n",
    "# Add `total` to portfolio\n",
    "portfolio['total'] = portfolio['cash'] + portfolio['holdings']\n",
    "\n",
    "# Add `returns` to portfolio\n",
    "portfolio['returns'] = portfolio['total'].pct_change()\n",
    "\n",
    "# Print the first lines of `portfolio`\n",
    "print(portfolio.head())"
   ]
  },
  {
   "cell_type": "markdown",
   "id": "744ee27d",
   "metadata": {
    "papermill": {
     "duration": 0.025344,
     "end_time": "2022-06-03T08:02:16.277676",
     "exception": false,
     "start_time": "2022-06-03T08:02:16.252332",
     "status": "completed"
    },
    "tags": []
   },
   "source": [
    "As a last exercise for your backtest, visualize the portfolio value or\n",
    "`portfolio['total']` over the years with the help of\n",
    "Matplotlib and the results of your backtest:"
   ]
  },
  {
   "cell_type": "code",
   "execution_count": 34,
   "id": "cc2e8af6",
   "metadata": {
    "execution": {
     "iopub.execute_input": "2022-06-03T08:02:16.330976Z",
     "iopub.status.busy": "2022-06-03T08:02:16.330432Z",
     "iopub.status.idle": "2022-06-03T08:02:16.791480Z",
     "shell.execute_reply": "2022-06-03T08:02:16.790267Z"
    },
    "papermill": {
     "duration": 0.491268,
     "end_time": "2022-06-03T08:02:16.794638",
     "exception": false,
     "start_time": "2022-06-03T08:02:16.303370",
     "status": "completed"
    },
    "tags": []
   },
   "outputs": [
    {
     "data": {
      "image/png": "[encoded data removed]",
      "text/plain": [
       "<Figure size 432x288 with 1 Axes>"
      ]
     },
     "metadata": {
      "needs_background": "light"
     },
     "output_type": "display_data"
    }
   ],
   "source": [
    "import matplotlib.pyplot as plt\n",
    "\n",
    "fig = plt.figure()\n",
    "\n",
    "ax1 = fig.add_subplot(111, ylabel='Portfolio value in $')\n",
    "\n",
    "# Plot the equity curve in dollars\n",
    "portfolio['total'].plot(ax=ax1, lw=2.)\n",
    "\n",
    "# Plot the \"buy\" trades against the equity curve\n",
    "ax1.plot(portfolio.loc[signals.positions == 1.0].index, \n",
    "         portfolio.total[signals.positions == 1.0],\n",
    "         '^', markersize=10, color='m')\n",
    "\n",
    "# Plot the \"sell\" trades against the equity curve\n",
    "ax1.plot(portfolio.loc[signals.positions == -1.0].index, \n",
    "         portfolio.total[signals.positions == -1.0],\n",
    "         'v', markersize=10, color='k')\n",
    "\n",
    "# Show the plot\n",
    "plt.show()"
   ]
  },
  {
   "cell_type": "markdown",
   "id": "d0e29ac5",
   "metadata": {
    "papermill": {
     "duration": 0.026918,
     "end_time": "2022-06-03T08:02:16.851436",
     "exception": false,
     "start_time": "2022-06-03T08:02:16.824518",
     "status": "completed"
    },
    "tags": []
   },
   "source": [
    "**Note** that, for this tutorial, the Pandas code for the backtester as\n",
    "well as the trading strategy has been composed in such a way that you\n",
    "can easily walk through it in an interactive way. In a real-life\n",
    "application, you might opt for a more object-oriented design with\n",
    "classes, which contain all the logic. You can find an example of the\n",
    "same moving average crossover strategy, with object-oriented design,\n",
    "[here](https://www.quantstart.com/articles/Backtesting-a-Moving-Average-Crossover-in-Python-with-pandas),\n",
    "check out [this\n",
    "presentation](https://s3.amazonaws.com/quantstart/media/powerpoint/an-introduction-to-backtesting.pdf)\n",
    "and definitely don't forget DataCamp's [Python Functions\n",
    "Tutorial](https://www.datacamp.com/community/tutorials/functions-python-tutorial%20).\n",
    "\n"
   ]
  },
  {
   "cell_type": "markdown",
   "id": "836124b0",
   "metadata": {
    "papermill": {
     "duration": 0.027283,
     "end_time": "2022-06-03T08:02:16.907378",
     "exception": false,
     "start_time": "2022-06-03T08:02:16.880095",
     "status": "completed"
    },
    "tags": []
   },
   "source": [
    "### Backtesting With Zipline & Quantopian\n",
    "\n",
    "You have seen now how you can implement a backtester with the Python’s\n",
    "popular data manipulation package Pandas. However, you can also see that\n",
    "it’s easy to make mistakes and that this might not be the most fail-safe\n",
    "option to use every time: you need to build most of the components from\n",
    "scratch, even though you already leverage Pandas to get your results.\n",
    "\n",
    "That’s why it’s common to use a backtesting platform, such as\n",
    "Quantopian, for your backtesters. Quantopian is a free,\n",
    "community-centered, hosted platform for building and executing trading\n",
    "strategies. It’s powered by `zipline`, a Python library\n",
    "for algorithmic trading. You can use the library locally, but for the\n",
    "purpose of this beginner tutorial, you’ll use\n",
    "**[Quantopian](www.quantopian.com)** to write and backtest your\n",
    "algorithm. Before you can do this, though, make sure that you first sign\n",
    "up and log in.\n",
    "\n",
    "Next, you can get started pretty easily. Click “New Algorithm” to start\n",
    "writing up your trading algorithm or select one of the examples that has\n",
    "already been coded up for you to get a better feeling of what you’re\n",
    "exactly dealing with :)\n",
    "\n",
    "![algorithmic trading with Quantopian and Zipline](graphics/figure3.png)\n",
    "\n",
    "\n",
    "Let’s start simple and make a new algorithm, but still following our\n",
    "simple example of the moving average crossover, which is the standard\n",
    "example that you find in the [zipline Quickstart\n",
    "guide](http://www.zipline.io/).\\\n",
    " It so happens that this example is very similar to the simple trading\n",
    "strategy that you implemented in the pr|evious section. You see, though,\n",
    "that the structure in the code chunk below and in the screenshot above\n",
    "is somewhat different than what you have seen up until now in this\n",
    "tutorial, namely, you have two definitions that you start working from,\n",
    "namely `initialize()` and `handle_data()`:"
   ]
  },
  {
   "cell_type": "code",
   "execution_count": 35,
   "id": "d78279d4",
   "metadata": {
    "execution": {
     "iopub.execute_input": "2022-06-03T08:02:16.963984Z",
     "iopub.status.busy": "2022-06-03T08:02:16.963058Z",
     "iopub.status.idle": "2022-06-03T08:02:16.971533Z",
     "shell.execute_reply": "2022-06-03T08:02:16.970804Z"
    },
    "papermill": {
     "duration": 0.040031,
     "end_time": "2022-06-03T08:02:16.975235",
     "exception": false,
     "start_time": "2022-06-03T08:02:16.935204",
     "status": "completed"
    },
    "tags": []
   },
   "outputs": [],
   "source": [
    "def initialize(context):\n",
    "    context.sym = symbol('AAPL')\n",
    "    context.i = 0\n",
    "\n",
    "    def handle_data(context, data):\n",
    "        # Skip first 300 days to get full windows\n",
    "        context.i += 1\n",
    "        if context.i < 300:\n",
    "            return\n",
    "\n",
    "        # Compute averages\n",
    "        # history() has to be called with the same params\n",
    "        # from above and returns a pandas dataframe.\n",
    "        short_mavg = data.history(context.sym, 'price', 100, '1d').mean()\n",
    "        long_mavg = data.history(context.sym, 'price', 300, '1d').mean()\n",
    "\n",
    "        # Trading logic\n",
    "        if short_mavg > long_mavg:\n",
    "            # order_target orders as many shares as needed to\n",
    "            # achieve the desired number of shares.\n",
    "            order_target(context.sym, 100)\n",
    "        elif short_mavg < long_mavg:\n",
    "            order_target(context.sym, 0)\n",
    "\n",
    "        # Save values for later inspection\n",
    "        record(AAPL=data.current(context.sym, \"price\"),\n",
    "               short_mavg=short_mavg,\n",
    "               long_mavg=long_mavg)"
   ]
  },
  {
   "cell_type": "markdown",
   "id": "c625884a",
   "metadata": {
    "papermill": {
     "duration": 0.027138,
     "end_time": "2022-06-03T08:02:17.034020",
     "exception": false,
     "start_time": "2022-06-03T08:02:17.006882",
     "status": "completed"
    },
    "tags": []
   },
   "source": [
    "\n",
    "\n",
    "\n",
    "\n",
    "The first function is called when the program is started and performs\n",
    "one-time startup logic. As an argument, the `initialize()`\n",
    "function takes a `context`, which is used to store the\n",
    "state during a backtest or live trading and can be referenced in\n",
    "different parts of the algorithm, as you can see in the code below; You\n",
    "see that `context` comes back, among others, in the\n",
    "definition of the first moving average window. You see that you assign\n",
    "the result of the lookup of a security (stock in this case) by its\n",
    "symbol, (`AAPL` in this case) to\n",
    "`context.security`.\n",
    "\n",
    "The `handle_data()` function is called once per minute\n",
    "during simulation or live-trading to decide what orders, if any, should\n",
    "be placed each minute. The function requires `context` and\n",
    "`data` as input: the `context` is the same\n",
    "as the one that you read about just now, while the data is an object\n",
    "that stores several API functions, such as `current()` to\n",
    "retrieve the most recent value of a given field(s) for a given asset(s)\n",
    "or `history()` to get trailing windows of historical\n",
    "pricing or volume data. These API functions don’t come back in the code\n",
    "below and are not in the scope of this tutorial.\n",
    "\n",
    "**Note** That the code that you type into the Quantopian console will\n",
    "only work on the platform itself and not in your local Jupyter Notebook,\n",
    "for example!\n",
    "\n",
    "You’ll see that the `data` object allows you to retrieve\n",
    "the `price`, which is the forward-filled, returning last\n",
    "known price, if there is one. If there is none, an `NaN`\n",
    "value will be returned.\n",
    "\n",
    "Another object that you see in the code chunk above is the\n",
    "`portfolio`, which stores important information about….\n",
    "Your portfolio. As you can see in the piece of code\n",
    "`context.portfolio.positions`, this object is stored in\n",
    "the context and is then also accessible in the core functions that\n",
    "`context` has to offer to you as a user. Note that the\n",
    "`positions` that you just read about, store Position\n",
    "objects and include information such as the number of shares and price\n",
    "paid as values. Additionally, you also see that the\n",
    "`portfolio` also has a `cash` property to\n",
    "retrieve the current amount of cash in your portfolio and that the\n",
    "`positions` object also has an `amount`\n",
    "property to explore the whole number of shares in a certain position.\n",
    "\n",
    "The `order_target()` places an order to adjust a position\n",
    "to a target number of shares. If there is no existing position in the\n",
    "asset, an order is placed for the full target number. If there is a\n",
    "position in the asset, an order is placed for the difference between the\n",
    "target number of shares or contracts and the number currently held.\n",
    "Placing a negative target order will result in a short position equal to\n",
    "the negative number specified.\n",
    "\n",
    "**Tip**: if you have any more questions about the functions or objects,\n",
    "make sure to check the Quantopian [Help page](https://www.quantopian.com/help), which contains more information\n",
    "about all (and much more) that you have briefly seen in this tutorial.\n",
    "\n",
    "When you have created your strategy with the\n",
    "`initialize()` and `handle_data()` functions\n",
    "(or copy-pasted the above code) into the console on the left-hand side\n",
    "of your interface, just press the “Build Algorithm” button to build the\n",
    "code and run a backtest. If you press the “Run Full Backtest” button, a\n",
    "full backtest is run, which is basically the same as the one that you\n",
    "run when you build the algorithm, but you’ll be able to see a lot more\n",
    "in detail. The backtesting, whether ‘simple’ or full, can take a while;\n",
    "Make sure to keep an eye out on the progress bar on top of the page!\n",
    "\n",
    "\n",
    "![](graphics/figure4.png)\n",
    "\n",
    "\n",
    "You can find more information on how to get started with Quantopian\n",
    "[here](https://www.quantopian.com/tutorials/getting-started).\n",
    "\n",
    "**Note** that Quantopian is an easy way to get started with zipline, but\n",
    "that you can always move on to using the library locally in, for\n",
    "example, your Jupyter notebook."
   ]
  },
  {
   "cell_type": "markdown",
   "id": "2fa1861e",
   "metadata": {
    "papermill": {
     "duration": 0.027445,
     "end_time": "2022-06-03T08:02:17.088077",
     "exception": false,
     "start_time": "2022-06-03T08:02:17.060632",
     "status": "completed"
    },
    "tags": []
   },
   "source": [
    "## Improving The Trading Strategy\n",
    "------------------------------\n",
    "\n",
    "You have successfully made a simple trading algorithm and performed\n",
    "backtests via Pandas, Zipline and Quantopian. It’s fair to say that\n",
    "you’ve been introduced to trading with Python. However, when you have\n",
    "coded up the trading strategy and backtested it, your work doesn’t stop\n",
    "yet; You might want to improve your strategy. There are one or more\n",
    "algorithms may be used to improve the model on a continuous basis, such\n",
    "as KMeans, k-Nearest Neighbors (KNN), Classification or Regression Trees\n",
    "and the Genetic Algorithm. This will be the topic of a future DataCamp\n",
    "tutorial.\n",
    "\n",
    "Apart from the other algorithms you can use, you saw that you can\n",
    "improve your strategy by working with multi-symbol portfolios. Just\n",
    "incorporating one company or symbol into your strategy often doesn’t\n",
    "really say much. You’ll also see this coming back in the evaluation of\n",
    "your moving average crossover strategy. Other things that you can add or\n",
    "do differently is using a risk management framework or use event-driven\n",
    "backtesting to help mitigate the lookahead bias that you read about\n",
    "earlier. There are still many other ways in which you could improve your\n",
    "strategy, but for now, this is a good basis to start from!"
   ]
  },
  {
   "cell_type": "markdown",
   "id": "91d00684",
   "metadata": {
    "papermill": {
     "duration": 0.02637,
     "end_time": "2022-06-03T08:02:17.140983",
     "exception": false,
     "start_time": "2022-06-03T08:02:17.114613",
     "status": "completed"
    },
    "tags": []
   },
   "source": [
    "## Evaluating Moving Average Crossover Strategy \n",
    "--------------------------------------------\n",
    "\n",
    "Improving your strategy doesn’t mean that you’re finished just yet! You\n",
    "can easily use Pandas to calculate some metrics to further judge your\n",
    "simple trading strategy. First, you can use the **Sharpe ratio** to get\n",
    "to know whether your portfolio’s returns are the result of the fact that\n",
    "you decided to make smart investments or to take a lot of risks.\n",
    "\n",
    "The ideal situation is, of course, that the returns are considerable but\n",
    "that the additional risk of investing is as small as possible. That’s\n",
    "why, the greater the portfolio’s Sharpe ratio, the better: the ratio\n",
    "between the returns and the additional risk that is incurred is quite\n",
    "OK. Usually, a ratio greater than 1 is acceptable by investors, 2 is\n",
    "very good and 3 is excellent.\n",
    "\n",
    "Let’s see how your algorithm does!\n",
    "\n"
   ]
  },
  {
   "cell_type": "code",
   "execution_count": 36,
   "id": "8a6e8d4e",
   "metadata": {
    "execution": {
     "iopub.execute_input": "2022-06-03T08:02:17.196558Z",
     "iopub.status.busy": "2022-06-03T08:02:17.195931Z",
     "iopub.status.idle": "2022-06-03T08:02:17.202275Z",
     "shell.execute_reply": "2022-06-03T08:02:17.201422Z"
    },
    "papermill": {
     "duration": 0.038135,
     "end_time": "2022-06-03T08:02:17.205633",
     "exception": false,
     "start_time": "2022-06-03T08:02:17.167498",
     "status": "completed"
    },
    "tags": []
   },
   "outputs": [
    {
     "name": "stdout",
     "output_type": "stream",
     "text": [
      "0.7768433417513321\n"
     ]
    }
   ],
   "source": [
    "# Isolate the returns of your strategy\n",
    "returns = portfolio['returns']\n",
    "\n",
    "# annualized Sharpe ratio\n",
    "sharpe_ratio = np.sqrt(252) * (returns.mean() / returns.std())\n",
    "\n",
    "# Print the Sharpe ratio\n",
    "print(sharpe_ratio)"
   ]
  },
  {
   "cell_type": "markdown",
   "id": "9ae67474",
   "metadata": {
    "papermill": {
     "duration": 0.025963,
     "end_time": "2022-06-03T08:02:17.258566",
     "exception": false,
     "start_time": "2022-06-03T08:02:17.232603",
     "status": "completed"
    },
    "tags": []
   },
   "source": [
    "**Note** that the risk free rate that is excluded in the definition of\n",
    "the Sharpe ratio for this tutorial and that the Sharpe ratio is usually\n",
    "not considered as a standalone: it’s usually compared to other stocks.\n",
    "The best way to approach this issue is thus by extending your original\n",
    "trading strategy with more data (from other companies)!\n",
    "\n",
    "Next, you can also calculate a **Maximum Drawdown**, which is used to\n",
    "measure the largest single drop from peak to bottom in the value of a\n",
    "portfolio, so before a new peak is achieved. In other words, the score\n",
    "indicates the risk of a portfolio chosen based on a certain strategy."
   ]
  },
  {
   "cell_type": "code",
   "execution_count": 37,
   "id": "84015e96",
   "metadata": {
    "execution": {
     "iopub.execute_input": "2022-06-03T08:02:17.313671Z",
     "iopub.status.busy": "2022-06-03T08:02:17.312750Z",
     "iopub.status.idle": "2022-06-03T08:02:17.540936Z",
     "shell.execute_reply": "2022-06-03T08:02:17.539946Z"
    },
    "papermill": {
     "duration": 0.258399,
     "end_time": "2022-06-03T08:02:17.542962",
     "exception": false,
     "start_time": "2022-06-03T08:02:17.284563",
     "status": "completed"
    },
    "tags": []
   },
   "outputs": [
    {
     "data": {
      "image/png": "[encoded data removed]",
      "text/plain": [
       "<Figure size 432x288 with 1 Axes>"
      ]
     },
     "metadata": {
      "needs_background": "light"
     },
     "output_type": "display_data"
    }
   ],
   "source": [
    "# Define a trailing 252 trading day window\n",
    "window = 252\n",
    "\n",
    "# Calculate the max drawdown in the past window days for each day\n",
    "rolling_max = aapl['Adj Close'].rolling(window, min_periods=1).max()\n",
    "daily_drawdown = aapl['Adj Close']/rolling_max - 1.0\n",
    "\n",
    "# Calculate the minimum (negative) daily drawdown\n",
    "max_daily_drawdown = daily_drawdown.rolling(window, min_periods=1).min()\n",
    "\n",
    "# Plot the results\n",
    "daily_drawdown.plot()\n",
    "max_daily_drawdown.plot()\n",
    "\n",
    "# Show the plot\n",
    "plt.show()"
   ]
  },
  {
   "cell_type": "markdown",
   "id": "daaf269d",
   "metadata": {
    "papermill": {
     "duration": 0.026038,
     "end_time": "2022-06-03T08:02:17.595588",
     "exception": false,
     "start_time": "2022-06-03T08:02:17.569550",
     "status": "completed"
    },
    "tags": []
   },
   "source": [
    "**Note** that you set `min_periods` to `1`\n",
    "because you want to let the first 252 days data have an expanding\n",
    "window.\n",
    "\n",
    "Next up is the **Compound Annual Growth Rate (CAGR)**, which provides\n",
    "you with a constant rate of return over the time period. In other words,\n",
    "the rate tells you what you really have at the end of your investment\n",
    "period. You can calculate this rate by first dividing the investments\n",
    "ending value (*EV*) by the investment’s beginning value (*BV*). You\n",
    "raise the result to the power of *1/n*, where *n* is the number of\n",
    "periods. You subtract 1 from the consequent result and there’s your\n",
    "CAGR!\n",
    "\n",
    "Maybe a formula is more clear: \\\\[(EV/BV)^{1/n} - 1\\\\]\n",
    "\n",
    "Note that, in the code chunk below, you’ll see that you consider days,\n",
    "so your *1* is adjusted to *365* days (which is equal to 1 year).\n",
    "\n"
   ]
  },
  {
   "cell_type": "code",
   "execution_count": 38,
   "id": "cb91b90d",
   "metadata": {
    "execution": {
     "iopub.execute_input": "2022-06-03T08:02:17.650740Z",
     "iopub.status.busy": "2022-06-03T08:02:17.649712Z",
     "iopub.status.idle": "2022-06-03T08:02:17.657231Z",
     "shell.execute_reply": "2022-06-03T08:02:17.655934Z"
    },
    "papermill": {
     "duration": 0.037726,
     "end_time": "2022-06-03T08:02:17.659954",
     "exception": false,
     "start_time": "2022-06-03T08:02:17.622228",
     "status": "completed"
    },
    "tags": []
   },
   "outputs": [
    {
     "name": "stdout",
     "output_type": "stream",
     "text": [
      "0.3389926969356434\n"
     ]
    }
   ],
   "source": [
    "# Get the number of days in `aapl`\n",
    "days = (aapl.index[-1] - aapl.index[0]).days\n",
    "\n",
    "# Calculate the CAGR \n",
    "cagr = ((((aapl['Adj Close'][-1]) / aapl['Adj Close'][1])) ** (365.0/days)) - 1\n",
    "\n",
    "# Print CAGR\n",
    "print(cagr)"
   ]
  },
  {
   "cell_type": "markdown",
   "id": "58b7a915",
   "metadata": {
    "papermill": {
     "duration": 0.02611,
     "end_time": "2022-06-03T08:02:17.713037",
     "exception": false,
     "start_time": "2022-06-03T08:02:17.686927",
     "status": "completed"
    },
    "tags": []
   },
   "source": [
    "Besides these two metrics, there are also many others that you could\n",
    "consider, such as the **distribution of returns**, **trade-level\n",
    "metrics**, …\n",
    "\n",
    "## What Now?\n",
    "---------\n",
    "\n",
    "Well done, you’ve made it through this Python Finance introduction\n",
    "tutorial! You’ve covered a lot of ground, but there’s still so much more\n",
    "for you to discover! Start by taking DataCamp’s [Intro to Python for\n",
    "Finance](https://www.datacamp.com/courses/intro-to-python-for-finance)\n",
    "course to learn more of the basics.\n",
    "\n",
    "You should also check out Yves Hilpisch’s Python For Finance book, which\n",
    "is a great book for those who already have gathered some background into\n",
    "Finance, but not so much in Python. “Mastering Pandas for Data Science”\n",
    "by Michael Heydt is also recommended for those who want to get started\n",
    "with Finance in Python! Also make sure to check out [Quantstart’s\n",
    "articles](https://www.quantstart.com/articles) for guided tutorials on\n",
    "algorithmic trading and [this complete series on Python programming for\n",
    "finance](https://pythonprogramming.net/python-programming-creating-automated-trading-strategy/).\n",
    "\n",
    "If you’re more interested in continuing your journey into finance with\n",
    "R, consider taking Datacamp’s [Quantitative Analyst with\n",
    "R](https://www.datacamp.com/tracks/quantitative-analyst-with-r) track.\n",
    "And in the meantime, keep posted for our second post on starting finance\n",
    "with Python and check out the [Jupyter notebook of this\n",
    "tutorial](https://github.com/Kacawi/datacamp-community).\n",
    "\n",
    "The infor­ma­tion pro­vided on this site is not finan­cial advice and\n",
    "none of the authors are finan­cial professionals. The mate­r­ial\n",
    "pro­vided on this Web­site should be used for infor­ma­tional pur­poses\n",
    "only and in no way should be relied upon for finan­cial advice. We make\n",
    "no rep­re­sen­ta­tions as to accu­racy, com­plete­ness, suit­abil­ity,\n",
    "or valid­ity, of any infor­ma­tion. We will not be liable for any\n",
    "errors, omis­sions, or any losses, injuries, or dam­ages aris­ing from\n",
    "its dis­play or use. All infor­ma­tion is pro­vided AS IS with no\n",
    "war­ranties, and con­fers no rights. Also, note that such mate­r­ial is\n",
    "not updated reg­u­larly and some of the infor­ma­tion may not,\n",
    "there­fore, be cur­rent. Please be sure to con­sult your own finan­cial\n",
    "advi­sor when mak­ing deci­sions regard­ing your finan­cial\n",
    "man­age­ment. The ideas and strate­gies men­tioned in this blog should\n",
    "never be used with­out first assess­ing your own per­sonal and\n",
    "finan­cial sit­u­a­tion, or with­out con­sult­ing a finan­cial\n",
    "professional."
   ]
  },
  {
   "cell_type": "code",
   "execution_count": null,
   "id": "aee236c8",
   "metadata": {
    "papermill": {
     "duration": 0.026173,
     "end_time": "2022-06-03T08:02:17.765688",
     "exception": false,
     "start_time": "2022-06-03T08:02:17.739515",
     "status": "completed"
    },
    "tags": []
   },
   "outputs": [],
   "source": []
  }
 ],
 "metadata": {
  "kernelspec": {
   "display_name": "Python 3",
   "language": "python",
   "name": "python3"
  },
  "language_info": {
   "codemirror_mode": {
    "name": "ipython",
    "version": 3
   },
   "file_extension": ".py",
   "mimetype": "text/x-python",
   "name": "python",
   "nbconvert_exporter": "python",
   "pygments_lexer": "ipython3",
   "version": "3.7.12"
  },
  "papermill": {
   "default_parameters": {},
   "duration": 60.231772,
   "end_time": "2022-06-03T08:02:18.615045",
   "environment_variables": {},
   "exception": null,
   "input_path": "__notebook__.ipynb",
   "output_path": "__notebook__.ipynb",
   "parameters": {},
   "start_time": "2022-06-03T08:01:18.383273",
   "version": "2.3.4"
  }
 },
 "nbformat": 4,
 "nbformat_minor": 5
}
