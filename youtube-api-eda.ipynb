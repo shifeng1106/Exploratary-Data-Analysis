{
 "cells": [
  {
   "cell_type": "code",
   "execution_count": 1,
   "id": "a3b35184",
   "metadata": {
    "_cell_guid": "b1076dfc-b9ad-4769-8c92-a6c4dae69d19",
    "_uuid": "8f2839f25d086af736a60e9eeb907d3b93b6e0e5",
    "execution": {
     "iopub.execute_input": "2022-06-02T07:10:17.324528Z",
     "iopub.status.busy": "2022-06-02T07:10:17.324179Z",
     "iopub.status.idle": "2022-06-02T07:10:17.830822Z",
     "shell.execute_reply": "2022-06-02T07:10:17.829762Z"
    },
    "papermill": {
     "duration": 0.519364,
     "end_time": "2022-06-02T07:10:17.833129",
     "exception": false,
     "start_time": "2022-06-02T07:10:17.313765",
     "status": "completed"
    },
    "tags": []
   },
   "outputs": [],
   "source": [
    "from kaggle_secrets import UserSecretsClient\n",
    "user_secrets = UserSecretsClient()\n",
    "secret_value_0 = user_secrets.get_secret(\"youtube-api\")"
   ]
  },
  {
   "cell_type": "code",
   "execution_count": 2,
   "id": "3ccfc50f",
   "metadata": {
    "execution": {
     "iopub.execute_input": "2022-06-02T07:10:17.846109Z",
     "iopub.status.busy": "2022-06-02T07:10:17.845651Z",
     "iopub.status.idle": "2022-06-02T07:10:17.849323Z",
     "shell.execute_reply": "2022-06-02T07:10:17.848784Z"
    },
    "papermill": {
     "duration": 0.011689,
     "end_time": "2022-06-02T07:10:17.850761",
     "exception": false,
     "start_time": "2022-06-02T07:10:17.839072",
     "status": "completed"
    },
    "tags": []
   },
   "outputs": [],
   "source": [
    "channel_ids = ['UCW8Ews7tdKKkBT6GdtQaXvQ', #TechWorld with Nana\n",
    "              'UCdngmbVKX1Tgre699-XLlUA', # StrataScratch\n",
    "               'UCnz-ZXXER4jOvuED5trXfEA', # techTFQ\\n\",\n",
    "'UCLLw7jmFsvfIVaUFsLs8mlQ', # Luke Barousse \\n\",\n",
    "'UCiT9RITQ9PW6BhXK0y2jaeg', # Ken Jee\\n\",\n",
    "'UC7cs8q-gJRlGwj4A8OmCmXg', # Alex the analyst\\n\",\n",
    "'UC2UXDak6o7rBm23k3Vv5dww' # Tina Huang\\n\",\n",
    "]"
   ]
  },
  {
   "cell_type": "code",
   "execution_count": 3,
   "id": "9063539f",
   "metadata": {
    "execution": {
     "iopub.execute_input": "2022-06-02T07:10:17.863163Z",
     "iopub.status.busy": "2022-06-02T07:10:17.862807Z",
     "iopub.status.idle": "2022-06-02T07:10:18.883099Z",
     "shell.execute_reply": "2022-06-02T07:10:18.882269Z"
    },
    "papermill": {
     "duration": 1.029029,
     "end_time": "2022-06-02T07:10:18.885383",
     "exception": false,
     "start_time": "2022-06-02T07:10:17.856354",
     "status": "completed"
    },
    "tags": []
   },
   "outputs": [
    {
     "name": "stdout",
     "output_type": "stream",
     "text": [
      "{'kind': 'youtube#channelListResponse', 'etag': 'wsTcK55SP_NaxUVx60jr_0X9TiE', 'pageInfo': {'totalResults': 1, 'resultsPerPage': 5}, 'items': [{'kind': 'youtube#channel', 'etag': 'gs049lsWOwtZVOMajHYCfS54vZ8', 'id': 'UC_x5XG1OV2P6uZZ5FSM9Ttw', 'snippet': {'title': 'Google Developers', 'description': 'The Google Developers channel features talks from events, educational series, best practices, tips, and the latest updates across our products and platforms.\\n\\nSubscribe to Google Developers → https://goo.gle/developers\\n', 'customUrl': 'googledevelopers', 'publishedAt': '2007-08-23T00:34:43Z', 'thumbnails': {'default': {'url': 'https://yt3.ggpht.com/ytc/AKedOLSsnWm_dQzIqM-qgW74yebXNX_b__k6WAeUBb6GeGQ=s88-c-k-c0x00ffffff-no-rj', 'width': 88, 'height': 88}, 'medium': {'url': 'https://yt3.ggpht.com/ytc/AKedOLSsnWm_dQzIqM-qgW74yebXNX_b__k6WAeUBb6GeGQ=s240-c-k-c0x00ffffff-no-rj', 'width': 240, 'height': 240}, 'high': {'url': 'https://yt3.ggpht.com/ytc/AKedOLSsnWm_dQzIqM-qgW74yebXNX_b__k6WAeUBb6GeGQ=s800-c-k-c0x00ffffff-no-rj', 'width': 800, 'height': 800}}, 'localized': {'title': 'Google Developers', 'description': 'The Google Developers channel features talks from events, educational series, best practices, tips, and the latest updates across our products and platforms.\\n\\nSubscribe to Google Developers → https://goo.gle/developers\\n'}, 'country': 'US'}, 'contentDetails': {'relatedPlaylists': {'likes': '', 'uploads': 'UU_x5XG1OV2P6uZZ5FSM9Ttw'}}, 'statistics': {'viewCount': '206124775', 'subscriberCount': '2240000', 'hiddenSubscriberCount': False, 'videoCount': '5560'}}]}\n"
     ]
    }
   ],
   "source": [
    "from googleapiclient.discovery import build\n",
    "import googleapiclient.errors\n",
    "import pandas as pd\n",
    "\n",
    "scopes = [\"https://www.googleapis.com/auth/youtube.readonly\"]\n",
    "\n",
    "api_service_name = \"youtube\"\n",
    "api_version = \"v3\"\n",
    "\n",
    "# Get credentials and create an API client\n",
    "\n",
    "youtube = build(\n",
    "    api_service_name, api_version, developerKey=secret_value_0)\n",
    "\n",
    "request = youtube.channels().list(\n",
    "    part=\"snippet,contentDetails,statistics\",\n",
    "    id=\"UC_x5XG1OV2P6uZZ5FSM9Ttw\"\n",
    ")\n",
    "response = request.execute()\n",
    "\n",
    "print(response)\n"
   ]
  },
  {
   "cell_type": "code",
   "execution_count": 4,
   "id": "4c2c0905",
   "metadata": {
    "execution": {
     "iopub.execute_input": "2022-06-02T07:10:18.899057Z",
     "iopub.status.busy": "2022-06-02T07:10:18.898762Z",
     "iopub.status.idle": "2022-06-02T07:10:18.905031Z",
     "shell.execute_reply": "2022-06-02T07:10:18.904350Z"
    },
    "papermill": {
     "duration": 0.014657,
     "end_time": "2022-06-02T07:10:18.906703",
     "exception": false,
     "start_time": "2022-06-02T07:10:18.892046",
     "status": "completed"
    },
    "tags": []
   },
   "outputs": [],
   "source": [
    "def get_channel_stats(youtube, channel_ids):\n",
    "    all_data = []\n",
    "    \n",
    "    request = youtube.channels().list(\n",
    "    part = 'snippet,contentDetails,statistics', \n",
    "    id=','.join(channel_ids))\n",
    "    \n",
    "    response = request.execute()\n",
    "    \n",
    "    for item in response['items']:\n",
    "        data = {'channelName': item['snippet']['title'],\n",
    "               'subscribers':item['statistics']['subscriberCount'],\n",
    "               'views':item['statistics']['viewCount'],\n",
    "               'totalVideos':item['statistics']['videoCount'],\n",
    "               'playlistId':item['contentDetails']['relatedPlaylists']['uploads']}\n",
    "        all_data.append(data)\n",
    "        \n",
    "    return(pd.DataFrame(all_data))"
   ]
  },
  {
   "cell_type": "code",
   "execution_count": 5,
   "id": "614aa290",
   "metadata": {
    "execution": {
     "iopub.execute_input": "2022-06-02T07:10:18.919205Z",
     "iopub.status.busy": "2022-06-02T07:10:18.918964Z",
     "iopub.status.idle": "2022-06-02T07:10:18.984277Z",
     "shell.execute_reply": "2022-06-02T07:10:18.983550Z"
    },
    "papermill": {
     "duration": 0.073218,
     "end_time": "2022-06-02T07:10:18.985865",
     "exception": false,
     "start_time": "2022-06-02T07:10:18.912647",
     "status": "completed"
    },
    "tags": []
   },
   "outputs": [
    {
     "data": {
      "text/html": [
       "<div>\n",
       "<style scoped>\n",
       "    .dataframe tbody tr th:only-of-type {\n",
       "        vertical-align: middle;\n",
       "    }\n",
       "\n",
       "    .dataframe tbody tr th {\n",
       "        vertical-align: top;\n",
       "    }\n",
       "\n",
       "    .dataframe thead th {\n",
       "        text-align: right;\n",
       "    }\n",
       "</style>\n",
       "<table border=\"1\" class=\"dataframe\">\n",
       "  <thead>\n",
       "    <tr style=\"text-align: right;\">\n",
       "      <th></th>\n",
       "      <th>channelName</th>\n",
       "      <th>subscribers</th>\n",
       "      <th>views</th>\n",
       "      <th>totalVideos</th>\n",
       "      <th>playlistId</th>\n",
       "    </tr>\n",
       "  </thead>\n",
       "  <tbody>\n",
       "    <tr>\n",
       "      <th>0</th>\n",
       "      <td>Ken Jee</td>\n",
       "      <td>203000</td>\n",
       "      <td>6366064</td>\n",
       "      <td>232</td>\n",
       "      <td>UUiT9RITQ9PW6BhXK0y2jaeg</td>\n",
       "    </tr>\n",
       "    <tr>\n",
       "      <th>1</th>\n",
       "      <td>techTFQ</td>\n",
       "      <td>77800</td>\n",
       "      <td>3536525</td>\n",
       "      <td>59</td>\n",
       "      <td>UUnz-ZXXER4jOvuED5trXfEA</td>\n",
       "    </tr>\n",
       "    <tr>\n",
       "      <th>2</th>\n",
       "      <td>TechWorld with Nana</td>\n",
       "      <td>535000</td>\n",
       "      <td>24302042</td>\n",
       "      <td>95</td>\n",
       "      <td>UUdngmbVKX1Tgre699-XLlUA</td>\n",
       "    </tr>\n",
       "    <tr>\n",
       "      <th>3</th>\n",
       "      <td>Tina Huang</td>\n",
       "      <td>326000</td>\n",
       "      <td>12283872</td>\n",
       "      <td>99</td>\n",
       "      <td>UU2UXDak6o7rBm23k3Vv5dww</td>\n",
       "    </tr>\n",
       "    <tr>\n",
       "      <th>4</th>\n",
       "      <td>Alex The Analyst</td>\n",
       "      <td>226000</td>\n",
       "      <td>8936165</td>\n",
       "      <td>146</td>\n",
       "      <td>UU7cs8q-gJRlGwj4A8OmCmXg</td>\n",
       "    </tr>\n",
       "    <tr>\n",
       "      <th>5</th>\n",
       "      <td>Luke Barousse</td>\n",
       "      <td>175000</td>\n",
       "      <td>8612119</td>\n",
       "      <td>76</td>\n",
       "      <td>UULLw7jmFsvfIVaUFsLs8mlQ</td>\n",
       "    </tr>\n",
       "    <tr>\n",
       "      <th>6</th>\n",
       "      <td>StrataScratch</td>\n",
       "      <td>30400</td>\n",
       "      <td>930462</td>\n",
       "      <td>87</td>\n",
       "      <td>UUW8Ews7tdKKkBT6GdtQaXvQ</td>\n",
       "    </tr>\n",
       "  </tbody>\n",
       "</table>\n",
       "</div>"
      ],
      "text/plain": [
       "           channelName subscribers     views totalVideos  \\\n",
       "0              Ken Jee      203000   6366064         232   \n",
       "1              techTFQ       77800   3536525          59   \n",
       "2  TechWorld with Nana      535000  24302042          95   \n",
       "3           Tina Huang      326000  12283872          99   \n",
       "4     Alex The Analyst      226000   8936165         146   \n",
       "5        Luke Barousse      175000   8612119          76   \n",
       "6        StrataScratch       30400    930462          87   \n",
       "\n",
       "                 playlistId  \n",
       "0  UUiT9RITQ9PW6BhXK0y2jaeg  \n",
       "1  UUnz-ZXXER4jOvuED5trXfEA  \n",
       "2  UUdngmbVKX1Tgre699-XLlUA  \n",
       "3  UU2UXDak6o7rBm23k3Vv5dww  \n",
       "4  UU7cs8q-gJRlGwj4A8OmCmXg  \n",
       "5  UULLw7jmFsvfIVaUFsLs8mlQ  \n",
       "6  UUW8Ews7tdKKkBT6GdtQaXvQ  "
      ]
     },
     "execution_count": 5,
     "metadata": {},
     "output_type": "execute_result"
    }
   ],
   "source": [
    "channel_stats = get_channel_stats(youtube, channel_ids)\n",
    "channel_stats"
   ]
  },
  {
   "cell_type": "code",
   "execution_count": 6,
   "id": "c16d3085",
   "metadata": {
    "execution": {
     "iopub.execute_input": "2022-06-02T07:10:18.999825Z",
     "iopub.status.busy": "2022-06-02T07:10:18.999492Z",
     "iopub.status.idle": "2022-06-02T07:10:19.005092Z",
     "shell.execute_reply": "2022-06-02T07:10:19.004515Z"
    },
    "papermill": {
     "duration": 0.014329,
     "end_time": "2022-06-02T07:10:19.006706",
     "exception": false,
     "start_time": "2022-06-02T07:10:18.992377",
     "status": "completed"
    },
    "tags": []
   },
   "outputs": [
    {
     "data": {
      "text/plain": [
       "channelName    object\n",
       "subscribers    object\n",
       "views          object\n",
       "totalVideos    object\n",
       "playlistId     object\n",
       "dtype: object"
      ]
     },
     "execution_count": 6,
     "metadata": {},
     "output_type": "execute_result"
    }
   ],
   "source": [
    "channel_data = pd.DataFrame(channel_stats)\n",
    "channel_data.dtypes"
   ]
  },
  {
   "cell_type": "code",
   "execution_count": 7,
   "id": "c6403773",
   "metadata": {
    "execution": {
     "iopub.execute_input": "2022-06-02T07:10:19.021230Z",
     "iopub.status.busy": "2022-06-02T07:10:19.020785Z",
     "iopub.status.idle": "2022-06-02T07:10:19.030961Z",
     "shell.execute_reply": "2022-06-02T07:10:19.030344Z"
    },
    "papermill": {
     "duration": 0.01946,
     "end_time": "2022-06-02T07:10:19.032592",
     "exception": false,
     "start_time": "2022-06-02T07:10:19.013132",
     "status": "completed"
    },
    "tags": []
   },
   "outputs": [
    {
     "data": {
      "text/plain": [
       "channelName    object\n",
       "subscribers     int64\n",
       "views           int64\n",
       "totalVideos     int64\n",
       "playlistId     object\n",
       "dtype: object"
      ]
     },
     "execution_count": 7,
     "metadata": {},
     "output_type": "execute_result"
    }
   ],
   "source": [
    "channel_data['subscribers']= pd.to_numeric(channel_data['subscribers'])\n",
    "channel_data['views']= pd.to_numeric(channel_data['views'])\n",
    "channel_data['totalVideos']= pd.to_numeric(channel_data['totalVideos'])\n",
    "channel_data.dtypes"
   ]
  },
  {
   "cell_type": "code",
   "execution_count": 8,
   "id": "7eae0b33",
   "metadata": {
    "execution": {
     "iopub.execute_input": "2022-06-02T07:10:19.046747Z",
     "iopub.status.busy": "2022-06-02T07:10:19.046339Z",
     "iopub.status.idle": "2022-06-02T07:10:20.180660Z",
     "shell.execute_reply": "2022-06-02T07:10:20.179886Z"
    },
    "papermill": {
     "duration": 1.143569,
     "end_time": "2022-06-02T07:10:20.182637",
     "exception": false,
     "start_time": "2022-06-02T07:10:19.039068",
     "status": "completed"
    },
    "tags": []
   },
   "outputs": [
    {
     "data": {
      "image/png": "[encoded data removed]",
      "text/plain": [
       "<Figure size 1080x576 with 1 Axes>"
      ]
     },
     "metadata": {},
     "output_type": "display_data"
    }
   ],
   "source": [
    "import seaborn as sns\n",
    "sns.set(rc={'figure.figsize':(15,8)})\n",
    "ax = sns.barplot(x='channelName', y ='views',data= channel_data)"
   ]
  },
  {
   "cell_type": "code",
   "execution_count": 9,
   "id": "f97a86f4",
   "metadata": {
    "execution": {
     "iopub.execute_input": "2022-06-02T07:10:20.197471Z",
     "iopub.status.busy": "2022-06-02T07:10:20.197197Z",
     "iopub.status.idle": "2022-06-02T07:10:20.428335Z",
     "shell.execute_reply": "2022-06-02T07:10:20.427623Z"
    },
    "papermill": {
     "duration": 0.240469,
     "end_time": "2022-06-02T07:10:20.430254",
     "exception": false,
     "start_time": "2022-06-02T07:10:20.189785",
     "status": "completed"
    },
    "tags": []
   },
   "outputs": [
    {
     "data": {
      "image/png": "[encoded data removed]",
      "text/plain": [
       "<Figure size 1080x576 with 1 Axes>"
      ]
     },
     "metadata": {},
     "output_type": "display_data"
    }
   ],
   "source": [
    "sns.set(rc={'figure.figsize':(15,8)})\n",
    "ax = sns.barplot(x='channelName', y ='subscribers',data= channel_data)"
   ]
  },
  {
   "cell_type": "code",
   "execution_count": 10,
   "id": "c3844295",
   "metadata": {
    "execution": {
     "iopub.execute_input": "2022-06-02T07:10:20.446243Z",
     "iopub.status.busy": "2022-06-02T07:10:20.445429Z",
     "iopub.status.idle": "2022-06-02T07:10:20.651345Z",
     "shell.execute_reply": "2022-06-02T07:10:20.650627Z"
    },
    "papermill": {
     "duration": 0.21536,
     "end_time": "2022-06-02T07:10:20.653174",
     "exception": false,
     "start_time": "2022-06-02T07:10:20.437814",
     "status": "completed"
    },
    "tags": []
   },
   "outputs": [
    {
     "data": {
      "image/png": "[encoded data removed]",
      "text/plain": [
       "<Figure size 1080x576 with 1 Axes>"
      ]
     },
     "metadata": {},
     "output_type": "display_data"
    }
   ],
   "source": [
    "sns.set(rc={'figure.figsize':(15,8)})\n",
    "ax = sns.barplot(x='channelName', y ='totalVideos',data= channel_data)"
   ]
  },
  {
   "cell_type": "code",
   "execution_count": 11,
   "id": "8bf5365c",
   "metadata": {
    "execution": {
     "iopub.execute_input": "2022-06-02T07:10:20.669735Z",
     "iopub.status.busy": "2022-06-02T07:10:20.669433Z",
     "iopub.status.idle": "2022-06-02T07:10:20.673264Z",
     "shell.execute_reply": "2022-06-02T07:10:20.672477Z"
    },
    "papermill": {
     "duration": 0.014248,
     "end_time": "2022-06-02T07:10:20.674938",
     "exception": false,
     "start_time": "2022-06-02T07:10:20.660690",
     "status": "completed"
    },
    "tags": []
   },
   "outputs": [],
   "source": [
    "playlist_id = 'UUW8Ews7tdKKkBT6GdtQaXvQ'"
   ]
  },
  {
   "cell_type": "code",
   "execution_count": 12,
   "id": "525c9a95",
   "metadata": {
    "execution": {
     "iopub.execute_input": "2022-06-02T07:10:20.691037Z",
     "iopub.status.busy": "2022-06-02T07:10:20.690749Z",
     "iopub.status.idle": "2022-06-02T07:10:20.698900Z",
     "shell.execute_reply": "2022-06-02T07:10:20.698353Z"
    },
    "papermill": {
     "duration": 0.017948,
     "end_time": "2022-06-02T07:10:20.700319",
     "exception": false,
     "start_time": "2022-06-02T07:10:20.682371",
     "status": "completed"
    },
    "tags": []
   },
   "outputs": [],
   "source": [
    "def get_video_ids(youtube, playlist_id):\n",
    "    request = youtube.playlistItems().list(\n",
    "        part='contentDetails',\n",
    "        playlistId = playlist_id,\n",
    "        maxResults = 50)\n",
    "    response = request.execute()\n",
    "    video_ids = []\n",
    "    \n",
    "    for i in range(len(response['items'])):\n",
    "        video_ids.append(response['items'][i]['contentDetails']['videoId'])\n",
    "    next_page_token = response.get('nextPageToken')\n",
    "    more_pages = True,\n",
    "    while more_pages:\n",
    "        if next_page_token is None:\n",
    "            more_pages = False\n",
    "        else:\n",
    "            request = youtube.playlistItems().list(part='contentDetails',\n",
    "                                                       playlistId = playlist_id,\n",
    "                                                       maxResults = 50,\n",
    "                                                       pageToken = next_page_token)\n",
    "            response = request.execute()\n",
    "            for i in range(len(response['items'])):\n",
    "                video_ids.append(response['items'][i]['contentDetails']['videoId'])\n",
    "            next_page_token = response.get('nextPageToken')\n",
    "                    \n",
    "    return video_ids"
   ]
  },
  {
   "cell_type": "code",
   "execution_count": 13,
   "id": "2f700ac1",
   "metadata": {
    "execution": {
     "iopub.execute_input": "2022-06-02T07:10:20.715808Z",
     "iopub.status.busy": "2022-06-02T07:10:20.715233Z",
     "iopub.status.idle": "2022-06-02T07:10:20.847928Z",
     "shell.execute_reply": "2022-06-02T07:10:20.847241Z"
    },
    "papermill": {
     "duration": 0.142315,
     "end_time": "2022-06-02T07:10:20.849809",
     "exception": false,
     "start_time": "2022-06-02T07:10:20.707494",
     "status": "completed"
    },
    "tags": []
   },
   "outputs": [
    {
     "data": {
      "text/plain": [
       "['tnoOz6MzTPg',\n",
       " 'OzyHfddLj9g',\n",
       " 'jN5hpgBrz8k',\n",
       " 'yFyyP_Uvxj0',\n",
       " 'Av92CaPTRr8',\n",
       " 'VEjxlKBkZGM',\n",
       " 'hMUf7DqG1nQ',\n",
       " 'ToEl_tpyoM4',\n",
       " '30hS-MjpU6E',\n",
       " 'Bgpp99iz0I0',\n",
       " 'GeJUvdkJKEc',\n",
       " 'GGURenNfXI0',\n",
       " 'PlpUo6bHsBQ',\n",
       " 'uY2wfR8Dkqo',\n",
       " 'yY7yau9j3xk',\n",
       " 'i-E4pdU2qXM',\n",
       " 'T1UhSuKqy3A',\n",
       " '2iE3JgNTwVU',\n",
       " 'RgKMbpEylWA',\n",
       " 'giGIPINLqJs',\n",
       " '77IVf0zgmwI',\n",
       " 'xtbMCAVXDmU',\n",
       " 'fklHBWow8vE',\n",
       " 'tNXliLTlrV8',\n",
       " 'XRwxYOhHdE8',\n",
       " 'pV_mnZgzXEo',\n",
       " 'c4Af2FcgamA',\n",
       " 'QenwDm5oWdU',\n",
       " 'TYHWv1vT0Pk',\n",
       " '0GpgMvyN0Fg',\n",
       " 'VYeevsVj4fU',\n",
       " 'vLjAG9eXkcU',\n",
       " 'lG0PbUq4wkg',\n",
       " 'j8kGqAAIhxA',\n",
       " 'W_IERUwElkg',\n",
       " 'eC7MdwKCCOE',\n",
       " 'XBE09l-UYTE',\n",
       " 'C0hk-dZ9XSE',\n",
       " 'N0aHeKyNEto',\n",
       " 'TDwy1lSjEZo',\n",
       " 'EPUayNC5ku4',\n",
       " 'wqBFgaMgFQA',\n",
       " 'IKw0lkmBHNI',\n",
       " '_gy1o9UH2dQ',\n",
       " '7Q-2DEwHW7w',\n",
       " 'pFwYjaeKFvQ',\n",
       " 'iR8FDQyCtnw',\n",
       " '1SgHHQeRuxs',\n",
       " 'UndSRKwsxKM',\n",
       " 'S7gKkRxlk1U',\n",
       " 'U9P4M4EPTgI',\n",
       " 'rMoUoYxfBNk',\n",
       " '60NaEc7NP_U',\n",
       " '5-1ClCuQCIw',\n",
       " 'rf2udE9q-SM',\n",
       " 'wqxDfVdZ8wM',\n",
       " 'SrqJuUNN62I',\n",
       " '-i9chjBSOqU',\n",
       " 'HRzthi_FqAA',\n",
       " 'DUgd48QYmfI',\n",
       " 'iwIPnlCHlVQ',\n",
       " 'mCXZXe-Na3s',\n",
       " 'JHxojhrCsRs',\n",
       " 'bM7LSQIKYs8',\n",
       " 'e6C1Z-o1fyQ',\n",
       " 'LL7dnUymOvo',\n",
       " 'ceJ4lVXN0T8',\n",
       " 'ccDPI7v-0QE',\n",
       " 'gZGGexOyL9M',\n",
       " 'JZfsZuLKaJ4',\n",
       " 'e8o7E13KtJ4',\n",
       " '0hjTJw9Jpmc',\n",
       " 'STJA-D-K9Cs',\n",
       " 'Yk3H3VRDfm0',\n",
       " 'dWQvU9p7TdU',\n",
       " '01kOJUiiEQE',\n",
       " 'sKMuioo7Xf8',\n",
       " 'aGPjAOhomY4',\n",
       " 'yLn52ppKO80',\n",
       " 'mkbgEvUkSaM',\n",
       " 'F5sKh-3V3KA',\n",
       " 'OVD26YMkT_c',\n",
       " 'UX4_IgagL9I',\n",
       " 'tDdo3FiWpgE',\n",
       " 'wW827gqxlRY',\n",
       " 'xbc2GpGUXwc',\n",
       " 'n6gM265zG68']"
      ]
     },
     "execution_count": 13,
     "metadata": {},
     "output_type": "execute_result"
    }
   ],
   "source": [
    "video_ids = get_video_ids(youtube,playlist_id)\n",
    "video_ids"
   ]
  },
  {
   "cell_type": "code",
   "execution_count": 14,
   "id": "2752e183",
   "metadata": {
    "execution": {
     "iopub.execute_input": "2022-06-02T07:10:20.866630Z",
     "iopub.status.busy": "2022-06-02T07:10:20.866000Z",
     "iopub.status.idle": "2022-06-02T07:10:20.872381Z",
     "shell.execute_reply": "2022-06-02T07:10:20.871832Z"
    },
    "papermill": {
     "duration": 0.01613,
     "end_time": "2022-06-02T07:10:20.873851",
     "exception": false,
     "start_time": "2022-06-02T07:10:20.857721",
     "status": "completed"
    },
    "tags": []
   },
   "outputs": [],
   "source": [
    "def get_video_details(youtube, video_ids):\n",
    "    all_video_stats = []\n",
    "    for i in range(0, len(video_ids), 50):\n",
    "        request = youtube.videos().list(\n",
    "            part='snippet,statistics',\n",
    "            id=','.join(video_ids[i:i+50]))\n",
    "        response = request.execute()\n",
    "        \n",
    "        for video in response['items']:\n",
    "            video_stats = dict(Title = video['snippet']['title'],\n",
    "                               Published_date = video['snippet']['publishedAt'],\n",
    "                               Views = video['statistics']['viewCount'],\n",
    "                               Likes = video['statistics']['likeCount'],\n",
    "                               Comments = video['statistics']['commentCount']\n",
    "                              )\n",
    "            all_video_stats.append(video_stats)\n",
    "    return all_video_stats"
   ]
  },
  {
   "cell_type": "code",
   "execution_count": 15,
   "id": "8eda10ae",
   "metadata": {
    "execution": {
     "iopub.execute_input": "2022-06-02T07:10:20.889745Z",
     "iopub.status.busy": "2022-06-02T07:10:20.889353Z",
     "iopub.status.idle": "2022-06-02T07:10:21.067619Z",
     "shell.execute_reply": "2022-06-02T07:10:21.066833Z"
    },
    "papermill": {
     "duration": 0.188463,
     "end_time": "2022-06-02T07:10:21.069583",
     "exception": false,
     "start_time": "2022-06-02T07:10:20.881120",
     "status": "completed"
    },
    "tags": []
   },
   "outputs": [],
   "source": [
    "video_details = get_video_details(youtube, video_ids)"
   ]
  },
  {
   "cell_type": "code",
   "execution_count": 16,
   "id": "a373ba6d",
   "metadata": {
    "execution": {
     "iopub.execute_input": "2022-06-02T07:10:21.085705Z",
     "iopub.status.busy": "2022-06-02T07:10:21.085401Z",
     "iopub.status.idle": "2022-06-02T07:10:21.096516Z",
     "shell.execute_reply": "2022-06-02T07:10:21.095720Z"
    },
    "papermill": {
     "duration": 0.020908,
     "end_time": "2022-06-02T07:10:21.098207",
     "exception": false,
     "start_time": "2022-06-02T07:10:21.077299",
     "status": "completed"
    },
    "tags": []
   },
   "outputs": [
    {
     "data": {
      "text/html": [
       "<div>\n",
       "<style scoped>\n",
       "    .dataframe tbody tr th:only-of-type {\n",
       "        vertical-align: middle;\n",
       "    }\n",
       "\n",
       "    .dataframe tbody tr th {\n",
       "        vertical-align: top;\n",
       "    }\n",
       "\n",
       "    .dataframe thead th {\n",
       "        text-align: right;\n",
       "    }\n",
       "</style>\n",
       "<table border=\"1\" class=\"dataframe\">\n",
       "  <thead>\n",
       "    <tr style=\"text-align: right;\">\n",
       "      <th></th>\n",
       "      <th>Title</th>\n",
       "      <th>Published_date</th>\n",
       "      <th>Views</th>\n",
       "      <th>Likes</th>\n",
       "      <th>Comments</th>\n",
       "    </tr>\n",
       "  </thead>\n",
       "  <tbody>\n",
       "    <tr>\n",
       "      <th>0</th>\n",
       "      <td>Python cumsum() | Solving Python Optimization ...</td>\n",
       "      <td>2022-05-11T15:01:39Z</td>\n",
       "      <td>1764</td>\n",
       "      <td>53</td>\n",
       "      <td>7</td>\n",
       "    </tr>\n",
       "    <tr>\n",
       "      <th>1</th>\n",
       "      <td>How to Solve a SQL Interview Question Using WH...</td>\n",
       "      <td>2022-04-13T03:26:28Z</td>\n",
       "      <td>4975</td>\n",
       "      <td>112</td>\n",
       "      <td>10</td>\n",
       "    </tr>\n",
       "    <tr>\n",
       "      <th>2</th>\n",
       "      <td>Dealing With Python Date Manipulations In a Me...</td>\n",
       "      <td>2022-03-22T17:30:06Z</td>\n",
       "      <td>4505</td>\n",
       "      <td>140</td>\n",
       "      <td>21</td>\n",
       "    </tr>\n",
       "    <tr>\n",
       "      <th>3</th>\n",
       "      <td>How To Solve Data Science Probability Intervie...</td>\n",
       "      <td>2022-03-10T02:52:23Z</td>\n",
       "      <td>2630</td>\n",
       "      <td>80</td>\n",
       "      <td>4</td>\n",
       "    </tr>\n",
       "    <tr>\n",
       "      <th>4</th>\n",
       "      <td>How to use SQL window functions: RANK vs DENSE...</td>\n",
       "      <td>2022-03-02T09:35:11Z</td>\n",
       "      <td>3794</td>\n",
       "      <td>102</td>\n",
       "      <td>7</td>\n",
       "    </tr>\n",
       "  </tbody>\n",
       "</table>\n",
       "</div>"
      ],
      "text/plain": [
       "                                               Title        Published_date  \\\n",
       "0  Python cumsum() | Solving Python Optimization ...  2022-05-11T15:01:39Z   \n",
       "1  How to Solve a SQL Interview Question Using WH...  2022-04-13T03:26:28Z   \n",
       "2  Dealing With Python Date Manipulations In a Me...  2022-03-22T17:30:06Z   \n",
       "3  How To Solve Data Science Probability Intervie...  2022-03-10T02:52:23Z   \n",
       "4  How to use SQL window functions: RANK vs DENSE...  2022-03-02T09:35:11Z   \n",
       "\n",
       "  Views Likes Comments  \n",
       "0  1764    53        7  \n",
       "1  4975   112       10  \n",
       "2  4505   140       21  \n",
       "3  2630    80        4  \n",
       "4  3794   102        7  "
      ]
     },
     "execution_count": 16,
     "metadata": {},
     "output_type": "execute_result"
    }
   ],
   "source": [
    "video_data = pd.DataFrame(video_details)\n",
    "video_data.head()"
   ]
  },
  {
   "cell_type": "code",
   "execution_count": 17,
   "id": "f5e8133d",
   "metadata": {
    "execution": {
     "iopub.execute_input": "2022-06-02T07:10:21.114819Z",
     "iopub.status.busy": "2022-06-02T07:10:21.114528Z",
     "iopub.status.idle": "2022-06-02T07:10:21.133838Z",
     "shell.execute_reply": "2022-06-02T07:10:21.133222Z"
    },
    "papermill": {
     "duration": 0.02972,
     "end_time": "2022-06-02T07:10:21.135504",
     "exception": false,
     "start_time": "2022-06-02T07:10:21.105784",
     "status": "completed"
    },
    "tags": []
   },
   "outputs": [
    {
     "data": {
      "text/html": [
       "<div>\n",
       "<style scoped>\n",
       "    .dataframe tbody tr th:only-of-type {\n",
       "        vertical-align: middle;\n",
       "    }\n",
       "\n",
       "    .dataframe tbody tr th {\n",
       "        vertical-align: top;\n",
       "    }\n",
       "\n",
       "    .dataframe thead th {\n",
       "        text-align: right;\n",
       "    }\n",
       "</style>\n",
       "<table border=\"1\" class=\"dataframe\">\n",
       "  <thead>\n",
       "    <tr style=\"text-align: right;\">\n",
       "      <th></th>\n",
       "      <th>Title</th>\n",
       "      <th>Published_date</th>\n",
       "      <th>Views</th>\n",
       "      <th>Likes</th>\n",
       "      <th>Comments</th>\n",
       "    </tr>\n",
       "  </thead>\n",
       "  <tbody>\n",
       "    <tr>\n",
       "      <th>0</th>\n",
       "      <td>Python cumsum() | Solving Python Optimization ...</td>\n",
       "      <td>2022-05-11</td>\n",
       "      <td>1764</td>\n",
       "      <td>53</td>\n",
       "      <td>7</td>\n",
       "    </tr>\n",
       "    <tr>\n",
       "      <th>1</th>\n",
       "      <td>How to Solve a SQL Interview Question Using WH...</td>\n",
       "      <td>2022-04-13</td>\n",
       "      <td>4975</td>\n",
       "      <td>112</td>\n",
       "      <td>10</td>\n",
       "    </tr>\n",
       "    <tr>\n",
       "      <th>2</th>\n",
       "      <td>Dealing With Python Date Manipulations In a Me...</td>\n",
       "      <td>2022-03-22</td>\n",
       "      <td>4505</td>\n",
       "      <td>140</td>\n",
       "      <td>21</td>\n",
       "    </tr>\n",
       "    <tr>\n",
       "      <th>3</th>\n",
       "      <td>How To Solve Data Science Probability Intervie...</td>\n",
       "      <td>2022-03-10</td>\n",
       "      <td>2630</td>\n",
       "      <td>80</td>\n",
       "      <td>4</td>\n",
       "    </tr>\n",
       "    <tr>\n",
       "      <th>4</th>\n",
       "      <td>How to use SQL window functions: RANK vs DENSE...</td>\n",
       "      <td>2022-03-02</td>\n",
       "      <td>3794</td>\n",
       "      <td>102</td>\n",
       "      <td>7</td>\n",
       "    </tr>\n",
       "    <tr>\n",
       "      <th>...</th>\n",
       "      <td>...</td>\n",
       "      <td>...</td>\n",
       "      <td>...</td>\n",
       "      <td>...</td>\n",
       "      <td>...</td>\n",
       "    </tr>\n",
       "    <tr>\n",
       "      <th>82</th>\n",
       "      <td>How to Use Google Colaboratory | Import a CSV ...</td>\n",
       "      <td>2020-05-02</td>\n",
       "      <td>2123</td>\n",
       "      <td>12</td>\n",
       "      <td>2</td>\n",
       "    </tr>\n",
       "    <tr>\n",
       "      <th>83</th>\n",
       "      <td>Interview Questions for SQL Joins and Subqueries</td>\n",
       "      <td>2020-02-01</td>\n",
       "      <td>1475</td>\n",
       "      <td>23</td>\n",
       "      <td>0</td>\n",
       "    </tr>\n",
       "    <tr>\n",
       "      <th>84</th>\n",
       "      <td>SQL Job Interview Mistakes #2</td>\n",
       "      <td>2019-09-15</td>\n",
       "      <td>1066</td>\n",
       "      <td>21</td>\n",
       "      <td>0</td>\n",
       "    </tr>\n",
       "    <tr>\n",
       "      <th>85</th>\n",
       "      <td>SQL Job Interview Mistakes #1</td>\n",
       "      <td>2019-08-03</td>\n",
       "      <td>7870</td>\n",
       "      <td>72</td>\n",
       "      <td>1</td>\n",
       "    </tr>\n",
       "    <tr>\n",
       "      <th>86</th>\n",
       "      <td>SQL Query Interview Questions And Answers From...</td>\n",
       "      <td>2019-06-26</td>\n",
       "      <td>42349</td>\n",
       "      <td>545</td>\n",
       "      <td>5</td>\n",
       "    </tr>\n",
       "  </tbody>\n",
       "</table>\n",
       "<p>87 rows × 5 columns</p>\n",
       "</div>"
      ],
      "text/plain": [
       "                                                Title Published_date  Views  \\\n",
       "0   Python cumsum() | Solving Python Optimization ...     2022-05-11   1764   \n",
       "1   How to Solve a SQL Interview Question Using WH...     2022-04-13   4975   \n",
       "2   Dealing With Python Date Manipulations In a Me...     2022-03-22   4505   \n",
       "3   How To Solve Data Science Probability Intervie...     2022-03-10   2630   \n",
       "4   How to use SQL window functions: RANK vs DENSE...     2022-03-02   3794   \n",
       "..                                                ...            ...    ...   \n",
       "82  How to Use Google Colaboratory | Import a CSV ...     2020-05-02   2123   \n",
       "83   Interview Questions for SQL Joins and Subqueries     2020-02-01   1475   \n",
       "84                      SQL Job Interview Mistakes #2     2019-09-15   1066   \n",
       "85                      SQL Job Interview Mistakes #1     2019-08-03   7870   \n",
       "86  SQL Query Interview Questions And Answers From...     2019-06-26  42349   \n",
       "\n",
       "    Likes Comments  \n",
       "0      53        7  \n",
       "1     112       10  \n",
       "2     140       21  \n",
       "3      80        4  \n",
       "4     102        7  \n",
       "..    ...      ...  \n",
       "82     12        2  \n",
       "83     23        0  \n",
       "84     21        0  \n",
       "85     72        1  \n",
       "86    545        5  \n",
       "\n",
       "[87 rows x 5 columns]"
      ]
     },
     "execution_count": 17,
     "metadata": {},
     "output_type": "execute_result"
    }
   ],
   "source": [
    "video_data['Published_date'] = pd.to_datetime(video_data['Published_date']).dt.date\n",
    "video_data['Views'] = pd.to_numeric(video_data['Views'])\n",
    "video_data['Likes'] = pd.to_numeric(video_data['Likes'])\n",
    "video_data['Views'] = pd.to_numeric(video_data['Views'])\n",
    "video_data"
   ]
  },
  {
   "cell_type": "code",
   "execution_count": 18,
   "id": "4948eac0",
   "metadata": {
    "execution": {
     "iopub.execute_input": "2022-06-02T07:10:21.153314Z",
     "iopub.status.busy": "2022-06-02T07:10:21.152866Z",
     "iopub.status.idle": "2022-06-02T07:10:21.164861Z",
     "shell.execute_reply": "2022-06-02T07:10:21.164259Z"
    },
    "papermill": {
     "duration": 0.022654,
     "end_time": "2022-06-02T07:10:21.166489",
     "exception": false,
     "start_time": "2022-06-02T07:10:21.143835",
     "status": "completed"
    },
    "tags": []
   },
   "outputs": [
    {
     "data": {
      "text/html": [
       "<div>\n",
       "<style scoped>\n",
       "    .dataframe tbody tr th:only-of-type {\n",
       "        vertical-align: middle;\n",
       "    }\n",
       "\n",
       "    .dataframe tbody tr th {\n",
       "        vertical-align: top;\n",
       "    }\n",
       "\n",
       "    .dataframe thead th {\n",
       "        text-align: right;\n",
       "    }\n",
       "</style>\n",
       "<table border=\"1\" class=\"dataframe\">\n",
       "  <thead>\n",
       "    <tr style=\"text-align: right;\">\n",
       "      <th></th>\n",
       "      <th>Title</th>\n",
       "      <th>Published_date</th>\n",
       "      <th>Views</th>\n",
       "      <th>Likes</th>\n",
       "      <th>Comments</th>\n",
       "    </tr>\n",
       "  </thead>\n",
       "  <tbody>\n",
       "    <tr>\n",
       "      <th>26</th>\n",
       "      <td>The One and Only Data Science Project You Need</td>\n",
       "      <td>2021-02-24</td>\n",
       "      <td>198905</td>\n",
       "      <td>11775</td>\n",
       "      <td>256</td>\n",
       "    </tr>\n",
       "    <tr>\n",
       "      <th>40</th>\n",
       "      <td>SQL Coding Interview Question Using A Window F...</td>\n",
       "      <td>2020-11-19</td>\n",
       "      <td>62919</td>\n",
       "      <td>1816</td>\n",
       "      <td>132</td>\n",
       "    </tr>\n",
       "    <tr>\n",
       "      <th>36</th>\n",
       "      <td>SQL Window Functions on Data Science Interview...</td>\n",
       "      <td>2020-12-17</td>\n",
       "      <td>61973</td>\n",
       "      <td>2056</td>\n",
       "      <td>151</td>\n",
       "    </tr>\n",
       "    <tr>\n",
       "      <th>86</th>\n",
       "      <td>SQL Query Interview Questions And Answers From...</td>\n",
       "      <td>2019-06-26</td>\n",
       "      <td>42349</td>\n",
       "      <td>545</td>\n",
       "      <td>5</td>\n",
       "    </tr>\n",
       "    <tr>\n",
       "      <th>22</th>\n",
       "      <td>Working with APIs in Python [For Your Data Sci...</td>\n",
       "      <td>2021-04-02</td>\n",
       "      <td>41865</td>\n",
       "      <td>1896</td>\n",
       "      <td>120</td>\n",
       "    </tr>\n",
       "    <tr>\n",
       "      <th>34</th>\n",
       "      <td>SQL Case Statements For Data Science Interview...</td>\n",
       "      <td>2020-12-28</td>\n",
       "      <td>33982</td>\n",
       "      <td>1154</td>\n",
       "      <td>86</td>\n",
       "    </tr>\n",
       "    <tr>\n",
       "      <th>24</th>\n",
       "      <td>Facebook's Most Common Data Science SQL Interv...</td>\n",
       "      <td>2021-03-10</td>\n",
       "      <td>33818</td>\n",
       "      <td>805</td>\n",
       "      <td>54</td>\n",
       "    </tr>\n",
       "    <tr>\n",
       "      <th>27</th>\n",
       "      <td>Advanced Data Science SQL Interview Question [...</td>\n",
       "      <td>2021-02-17</td>\n",
       "      <td>25109</td>\n",
       "      <td>807</td>\n",
       "      <td>106</td>\n",
       "    </tr>\n",
       "    <tr>\n",
       "      <th>43</th>\n",
       "      <td>Hard SQL Interview Question From FACEBOOK | Da...</td>\n",
       "      <td>2020-11-04</td>\n",
       "      <td>23081</td>\n",
       "      <td>497</td>\n",
       "      <td>72</td>\n",
       "    </tr>\n",
       "    <tr>\n",
       "      <th>12</th>\n",
       "      <td>Advanced Facebook Data Science SQL interview q...</td>\n",
       "      <td>2021-08-09</td>\n",
       "      <td>22056</td>\n",
       "      <td>650</td>\n",
       "      <td>66</td>\n",
       "    </tr>\n",
       "  </tbody>\n",
       "</table>\n",
       "</div>"
      ],
      "text/plain": [
       "                                                Title Published_date   Views  \\\n",
       "26     The One and Only Data Science Project You Need     2021-02-24  198905   \n",
       "40  SQL Coding Interview Question Using A Window F...     2020-11-19   62919   \n",
       "36  SQL Window Functions on Data Science Interview...     2020-12-17   61973   \n",
       "86  SQL Query Interview Questions And Answers From...     2019-06-26   42349   \n",
       "22  Working with APIs in Python [For Your Data Sci...     2021-04-02   41865   \n",
       "34  SQL Case Statements For Data Science Interview...     2020-12-28   33982   \n",
       "24  Facebook's Most Common Data Science SQL Interv...     2021-03-10   33818   \n",
       "27  Advanced Data Science SQL Interview Question [...     2021-02-17   25109   \n",
       "43  Hard SQL Interview Question From FACEBOOK | Da...     2020-11-04   23081   \n",
       "12  Advanced Facebook Data Science SQL interview q...     2021-08-09   22056   \n",
       "\n",
       "    Likes Comments  \n",
       "26  11775      256  \n",
       "40   1816      132  \n",
       "36   2056      151  \n",
       "86    545        5  \n",
       "22   1896      120  \n",
       "34   1154       86  \n",
       "24    805       54  \n",
       "27    807      106  \n",
       "43    497       72  \n",
       "12    650       66  "
      ]
     },
     "execution_count": 18,
     "metadata": {},
     "output_type": "execute_result"
    }
   ],
   "source": [
    "top10_videos = video_data.sort_values(by = 'Views',ascending = False).head(10)\n",
    "top10_videos"
   ]
  },
  {
   "cell_type": "code",
   "execution_count": 19,
   "id": "2161a0c0",
   "metadata": {
    "execution": {
     "iopub.execute_input": "2022-06-02T07:10:21.184241Z",
     "iopub.status.busy": "2022-06-02T07:10:21.183561Z",
     "iopub.status.idle": "2022-06-02T07:10:21.524290Z",
     "shell.execute_reply": "2022-06-02T07:10:21.523464Z"
    },
    "papermill": {
     "duration": 0.351536,
     "end_time": "2022-06-02T07:10:21.526266",
     "exception": false,
     "start_time": "2022-06-02T07:10:21.174730",
     "status": "completed"
    },
    "tags": []
   },
   "outputs": [
    {
     "data": {
      "image/png": "[encoded data removed]",
      "text/plain": [
       "<Figure size 1080x576 with 1 Axes>"
      ]
     },
     "metadata": {},
     "output_type": "display_data"
    }
   ],
   "source": [
    "ax1 = sns.barplot(x = 'Views',y='Title',data = top10_videos)"
   ]
  },
  {
   "cell_type": "code",
   "execution_count": 20,
   "id": "1a14e22d",
   "metadata": {
    "execution": {
     "iopub.execute_input": "2022-06-02T07:10:21.549536Z",
     "iopub.status.busy": "2022-06-02T07:10:21.548774Z",
     "iopub.status.idle": "2022-06-02T07:10:21.566871Z",
     "shell.execute_reply": "2022-06-02T07:10:21.566010Z"
    },
    "papermill": {
     "duration": 0.031724,
     "end_time": "2022-06-02T07:10:21.568661",
     "exception": false,
     "start_time": "2022-06-02T07:10:21.536937",
     "status": "completed"
    },
    "tags": []
   },
   "outputs": [
    {
     "data": {
      "text/html": [
       "<div>\n",
       "<style scoped>\n",
       "    .dataframe tbody tr th:only-of-type {\n",
       "        vertical-align: middle;\n",
       "    }\n",
       "\n",
       "    .dataframe tbody tr th {\n",
       "        vertical-align: top;\n",
       "    }\n",
       "\n",
       "    .dataframe thead th {\n",
       "        text-align: right;\n",
       "    }\n",
       "</style>\n",
       "<table border=\"1\" class=\"dataframe\">\n",
       "  <thead>\n",
       "    <tr style=\"text-align: right;\">\n",
       "      <th></th>\n",
       "      <th>Title</th>\n",
       "      <th>Published_date</th>\n",
       "      <th>Views</th>\n",
       "      <th>Likes</th>\n",
       "      <th>Comments</th>\n",
       "      <th>Month</th>\n",
       "    </tr>\n",
       "  </thead>\n",
       "  <tbody>\n",
       "    <tr>\n",
       "      <th>0</th>\n",
       "      <td>Python cumsum() | Solving Python Optimization ...</td>\n",
       "      <td>2022-05-11</td>\n",
       "      <td>1764</td>\n",
       "      <td>53</td>\n",
       "      <td>7</td>\n",
       "      <td>5</td>\n",
       "    </tr>\n",
       "    <tr>\n",
       "      <th>1</th>\n",
       "      <td>How to Solve a SQL Interview Question Using WH...</td>\n",
       "      <td>2022-04-13</td>\n",
       "      <td>4975</td>\n",
       "      <td>112</td>\n",
       "      <td>10</td>\n",
       "      <td>4</td>\n",
       "    </tr>\n",
       "    <tr>\n",
       "      <th>2</th>\n",
       "      <td>Dealing With Python Date Manipulations In a Me...</td>\n",
       "      <td>2022-03-22</td>\n",
       "      <td>4505</td>\n",
       "      <td>140</td>\n",
       "      <td>21</td>\n",
       "      <td>3</td>\n",
       "    </tr>\n",
       "    <tr>\n",
       "      <th>3</th>\n",
       "      <td>How To Solve Data Science Probability Intervie...</td>\n",
       "      <td>2022-03-10</td>\n",
       "      <td>2630</td>\n",
       "      <td>80</td>\n",
       "      <td>4</td>\n",
       "      <td>3</td>\n",
       "    </tr>\n",
       "    <tr>\n",
       "      <th>4</th>\n",
       "      <td>How to use SQL window functions: RANK vs DENSE...</td>\n",
       "      <td>2022-03-02</td>\n",
       "      <td>3794</td>\n",
       "      <td>102</td>\n",
       "      <td>7</td>\n",
       "      <td>3</td>\n",
       "    </tr>\n",
       "    <tr>\n",
       "      <th>...</th>\n",
       "      <td>...</td>\n",
       "      <td>...</td>\n",
       "      <td>...</td>\n",
       "      <td>...</td>\n",
       "      <td>...</td>\n",
       "      <td>...</td>\n",
       "    </tr>\n",
       "    <tr>\n",
       "      <th>82</th>\n",
       "      <td>How to Use Google Colaboratory | Import a CSV ...</td>\n",
       "      <td>2020-05-02</td>\n",
       "      <td>2123</td>\n",
       "      <td>12</td>\n",
       "      <td>2</td>\n",
       "      <td>5</td>\n",
       "    </tr>\n",
       "    <tr>\n",
       "      <th>83</th>\n",
       "      <td>Interview Questions for SQL Joins and Subqueries</td>\n",
       "      <td>2020-02-01</td>\n",
       "      <td>1475</td>\n",
       "      <td>23</td>\n",
       "      <td>0</td>\n",
       "      <td>2</td>\n",
       "    </tr>\n",
       "    <tr>\n",
       "      <th>84</th>\n",
       "      <td>SQL Job Interview Mistakes #2</td>\n",
       "      <td>2019-09-15</td>\n",
       "      <td>1066</td>\n",
       "      <td>21</td>\n",
       "      <td>0</td>\n",
       "      <td>9</td>\n",
       "    </tr>\n",
       "    <tr>\n",
       "      <th>85</th>\n",
       "      <td>SQL Job Interview Mistakes #1</td>\n",
       "      <td>2019-08-03</td>\n",
       "      <td>7870</td>\n",
       "      <td>72</td>\n",
       "      <td>1</td>\n",
       "      <td>8</td>\n",
       "    </tr>\n",
       "    <tr>\n",
       "      <th>86</th>\n",
       "      <td>SQL Query Interview Questions And Answers From...</td>\n",
       "      <td>2019-06-26</td>\n",
       "      <td>42349</td>\n",
       "      <td>545</td>\n",
       "      <td>5</td>\n",
       "      <td>6</td>\n",
       "    </tr>\n",
       "  </tbody>\n",
       "</table>\n",
       "<p>87 rows × 6 columns</p>\n",
       "</div>"
      ],
      "text/plain": [
       "                                                Title Published_date  Views  \\\n",
       "0   Python cumsum() | Solving Python Optimization ...     2022-05-11   1764   \n",
       "1   How to Solve a SQL Interview Question Using WH...     2022-04-13   4975   \n",
       "2   Dealing With Python Date Manipulations In a Me...     2022-03-22   4505   \n",
       "3   How To Solve Data Science Probability Intervie...     2022-03-10   2630   \n",
       "4   How to use SQL window functions: RANK vs DENSE...     2022-03-02   3794   \n",
       "..                                                ...            ...    ...   \n",
       "82  How to Use Google Colaboratory | Import a CSV ...     2020-05-02   2123   \n",
       "83   Interview Questions for SQL Joins and Subqueries     2020-02-01   1475   \n",
       "84                      SQL Job Interview Mistakes #2     2019-09-15   1066   \n",
       "85                      SQL Job Interview Mistakes #1     2019-08-03   7870   \n",
       "86  SQL Query Interview Questions And Answers From...     2019-06-26  42349   \n",
       "\n",
       "    Likes Comments  Month  \n",
       "0      53        7      5  \n",
       "1     112       10      4  \n",
       "2     140       21      3  \n",
       "3      80        4      3  \n",
       "4     102        7      3  \n",
       "..    ...      ...    ...  \n",
       "82     12        2      5  \n",
       "83     23        0      2  \n",
       "84     21        0      9  \n",
       "85     72        1      8  \n",
       "86    545        5      6  \n",
       "\n",
       "[87 rows x 6 columns]"
      ]
     },
     "execution_count": 20,
     "metadata": {},
     "output_type": "execute_result"
    }
   ],
   "source": [
    "video_data['Month'] = pd.to_datetime(video_data['Published_date']).dt.month\n",
    "video_data"
   ]
  },
  {
   "cell_type": "code",
   "execution_count": 21,
   "id": "4641a26e",
   "metadata": {
    "execution": {
     "iopub.execute_input": "2022-06-02T07:10:21.591763Z",
     "iopub.status.busy": "2022-06-02T07:10:21.590855Z",
     "iopub.status.idle": "2022-06-02T07:10:21.601455Z",
     "shell.execute_reply": "2022-06-02T07:10:21.600768Z"
    },
    "papermill": {
     "duration": 0.023788,
     "end_time": "2022-06-02T07:10:21.603205",
     "exception": false,
     "start_time": "2022-06-02T07:10:21.579417",
     "status": "completed"
    },
    "tags": []
   },
   "outputs": [
    {
     "data": {
      "text/html": [
       "<div>\n",
       "<style scoped>\n",
       "    .dataframe tbody tr th:only-of-type {\n",
       "        vertical-align: middle;\n",
       "    }\n",
       "\n",
       "    .dataframe tbody tr th {\n",
       "        vertical-align: top;\n",
       "    }\n",
       "\n",
       "    .dataframe thead th {\n",
       "        text-align: right;\n",
       "    }\n",
       "</style>\n",
       "<table border=\"1\" class=\"dataframe\">\n",
       "  <thead>\n",
       "    <tr style=\"text-align: right;\">\n",
       "      <th></th>\n",
       "      <th>Month</th>\n",
       "      <th>size</th>\n",
       "    </tr>\n",
       "  </thead>\n",
       "  <tbody>\n",
       "    <tr>\n",
       "      <th>0</th>\n",
       "      <td>1</td>\n",
       "      <td>6</td>\n",
       "    </tr>\n",
       "    <tr>\n",
       "      <th>1</th>\n",
       "      <td>2</td>\n",
       "      <td>6</td>\n",
       "    </tr>\n",
       "    <tr>\n",
       "      <th>2</th>\n",
       "      <td>3</td>\n",
       "      <td>6</td>\n",
       "    </tr>\n",
       "    <tr>\n",
       "      <th>3</th>\n",
       "      <td>4</td>\n",
       "      <td>3</td>\n",
       "    </tr>\n",
       "    <tr>\n",
       "      <th>4</th>\n",
       "      <td>5</td>\n",
       "      <td>30</td>\n",
       "    </tr>\n",
       "    <tr>\n",
       "      <th>5</th>\n",
       "      <td>6</td>\n",
       "      <td>3</td>\n",
       "    </tr>\n",
       "    <tr>\n",
       "      <th>6</th>\n",
       "      <td>7</td>\n",
       "      <td>3</td>\n",
       "    </tr>\n",
       "    <tr>\n",
       "      <th>7</th>\n",
       "      <td>8</td>\n",
       "      <td>6</td>\n",
       "    </tr>\n",
       "    <tr>\n",
       "      <th>8</th>\n",
       "      <td>9</td>\n",
       "      <td>6</td>\n",
       "    </tr>\n",
       "    <tr>\n",
       "      <th>9</th>\n",
       "      <td>10</td>\n",
       "      <td>6</td>\n",
       "    </tr>\n",
       "    <tr>\n",
       "      <th>10</th>\n",
       "      <td>11</td>\n",
       "      <td>6</td>\n",
       "    </tr>\n",
       "    <tr>\n",
       "      <th>11</th>\n",
       "      <td>12</td>\n",
       "      <td>6</td>\n",
       "    </tr>\n",
       "  </tbody>\n",
       "</table>\n",
       "</div>"
      ],
      "text/plain": [
       "    Month  size\n",
       "0       1     6\n",
       "1       2     6\n",
       "2       3     6\n",
       "3       4     3\n",
       "4       5    30\n",
       "5       6     3\n",
       "6       7     3\n",
       "7       8     6\n",
       "8       9     6\n",
       "9      10     6\n",
       "10     11     6\n",
       "11     12     6"
      ]
     },
     "execution_count": 21,
     "metadata": {},
     "output_type": "execute_result"
    }
   ],
   "source": [
    "videos_per_month = video_data.groupby('Month',as_index = False).size()\n",
    "videos_per_month"
   ]
  },
  {
   "cell_type": "code",
   "execution_count": 22,
   "id": "6cc3ebb9",
   "metadata": {
    "execution": {
     "iopub.execute_input": "2022-06-02T07:10:21.625814Z",
     "iopub.status.busy": "2022-06-02T07:10:21.625228Z",
     "iopub.status.idle": "2022-06-02T07:10:21.891894Z",
     "shell.execute_reply": "2022-06-02T07:10:21.891190Z"
    },
    "papermill": {
     "duration": 0.27985,
     "end_time": "2022-06-02T07:10:21.893800",
     "exception": false,
     "start_time": "2022-06-02T07:10:21.613950",
     "status": "completed"
    },
    "tags": []
   },
   "outputs": [
    {
     "data": {
      "image/png": "[encoded data removed]",
      "text/plain": [
       "<Figure size 1080x576 with 1 Axes>"
      ]
     },
     "metadata": {},
     "output_type": "display_data"
    }
   ],
   "source": [
    "ax2 = sns.barplot(x= 'Month', y = 'size',data = videos_per_month)"
   ]
  },
  {
   "cell_type": "markdown",
   "id": "4d7d4041",
   "metadata": {
    "papermill": {
     "duration": 0.009889,
     "end_time": "2022-06-02T07:10:21.914836",
     "exception": false,
     "start_time": "2022-06-02T07:10:21.904947",
     "status": "completed"
    },
    "tags": []
   },
   "source": [
    "# END"
   ]
  }
 ],
 "metadata": {
  "kernelspec": {
   "display_name": "Python 3",
   "language": "python",
   "name": "python3"
  },
  "language_info": {
   "codemirror_mode": {
    "name": "ipython",
    "version": 3
   },
   "file_extension": ".py",
   "mimetype": "text/x-python",
   "name": "python",
   "nbconvert_exporter": "python",
   "pygments_lexer": "ipython3",
   "version": "3.7.12"
  },
  "papermill": {
   "default_parameters": {},
   "duration": 13.202758,
   "end_time": "2022-06-02T07:10:22.444180",
   "environment_variables": {},
   "exception": null,
   "input_path": "__notebook__.ipynb",
   "output_path": "__notebook__.ipynb",
   "parameters": {},
   "start_time": "2022-06-02T07:10:09.241422",
   "version": "2.3.4"
  }
 },
 "nbformat": 4,
 "nbformat_minor": 5
}
